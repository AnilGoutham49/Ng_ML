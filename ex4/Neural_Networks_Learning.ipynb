{
 "cells": [
  {
   "cell_type": "markdown",
   "metadata": {},
   "source": [
    "# Neural Networks Learning"
   ]
  },
  {
   "cell_type": "markdown",
   "metadata": {},
   "source": [
    "## 1 Neural Networks"
   ]
  },
  {
   "cell_type": "markdown",
   "metadata": {},
   "source": [
    "### 1.1 Visualizing the data"
   ]
  },
  {
   "cell_type": "code",
   "execution_count": 1,
   "metadata": {
    "collapsed": true
   },
   "outputs": [],
   "source": [
    "import scipy.io\n",
    "import numpy as np\n",
    "import math\n",
    "import matplotlib.pyplot as plt"
   ]
  },
  {
   "cell_type": "code",
   "execution_count": 2,
   "metadata": {
    "collapsed": true
   },
   "outputs": [],
   "source": [
    "# Setup the parameters you will use for this exercise\n",
    "input_layer_size = 400   # input layer - each image of a digit is 20x20 pixels\n",
    "hidden_layer_size = 25   # hidden layer - 25 units\n",
    "num_labels = 10          # output layer - 10 labels, from 1 to 10, note \"0\" is labelled as 10"
   ]
  },
  {
   "cell_type": "code",
   "execution_count": 3,
   "metadata": {},
   "outputs": [
    {
     "data": {
      "text/plain": [
       "{'X': array([[ 0.,  0.,  0., ...,  0.,  0.,  0.],\n",
       "        [ 0.,  0.,  0., ...,  0.,  0.,  0.],\n",
       "        [ 0.,  0.,  0., ...,  0.,  0.,  0.],\n",
       "        ..., \n",
       "        [ 0.,  0.,  0., ...,  0.,  0.,  0.],\n",
       "        [ 0.,  0.,  0., ...,  0.,  0.,  0.],\n",
       "        [ 0.,  0.,  0., ...,  0.,  0.,  0.]]),\n",
       " '__globals__': [],\n",
       " '__header__': b'MATLAB 5.0 MAT-file, Platform: GLNXA64, Created on: Sun Oct 16 13:09:09 2011',\n",
       " '__version__': '1.0',\n",
       " 'y': array([[10],\n",
       "        [10],\n",
       "        [10],\n",
       "        ..., \n",
       "        [ 9],\n",
       "        [ 9],\n",
       "        [ 9]], dtype=uint8)}"
      ]
     },
     "execution_count": 3,
     "metadata": {},
     "output_type": "execute_result"
    }
   ],
   "source": [
    "# Load training data\n",
    "data = scipy.io.loadmat('data/ex4data1.mat')\n",
    "data"
   ]
  },
  {
   "cell_type": "code",
   "execution_count": 4,
   "metadata": {},
   "outputs": [
    {
     "data": {
      "text/plain": [
       "(5000, 400)"
      ]
     },
     "execution_count": 4,
     "metadata": {},
     "output_type": "execute_result"
    }
   ],
   "source": [
    "# X is 5,000 examples of 20x20 pixel images, each image is a handwritten number\n",
    "# Each 20x20 image is stored as a 400-dimensional vector\n",
    "data['X'].shape"
   ]
  },
  {
   "cell_type": "code",
   "execution_count": 5,
   "metadata": {},
   "outputs": [
    {
     "data": {
      "text/plain": [
       "(5000, 1)"
      ]
     },
     "execution_count": 5,
     "metadata": {},
     "output_type": "execute_result"
    }
   ],
   "source": [
    "# y is the numeral represented by each image# y is  \n",
    "data['y'].shape"
   ]
  },
  {
   "cell_type": "code",
   "execution_count": 6,
   "metadata": {
    "collapsed": true
   },
   "outputs": [],
   "source": [
    "# Store data in numpy arrays to make things easier\n",
    "X = data['X']\n",
    "y = data['y']"
   ]
  },
  {
   "cell_type": "code",
   "execution_count": 7,
   "metadata": {
    "collapsed": true
   },
   "outputs": [],
   "source": [
    "m = X.shape[0] # number of examples"
   ]
  },
  {
   "cell_type": "code",
   "execution_count": 8,
   "metadata": {
    "collapsed": true
   },
   "outputs": [],
   "source": [
    "# Randomly select 100 images to display\n",
    "rand_indices = np.random.permutation(m)\n",
    "sel = X[rand_indices[0:100], :]"
   ]
  },
  {
   "cell_type": "code",
   "execution_count": 9,
   "metadata": {
    "collapsed": true
   },
   "outputs": [],
   "source": [
    "def display_data(X):\n",
    "    '''\n",
    "    Displays 2D data stored in X in a nice grid.\n",
    "    '''\n",
    "    m = X.shape[0] # number of images\n",
    "    display_rows = math.floor(math.sqrt(m))\n",
    "    display_cols = math.ceil(m / display_rows)\n",
    "    n = X.shape[1] # pixels per image\n",
    "    image_side = int(math.sqrt(n))\n",
    "    \n",
    "    plt.figure(figsize=(8,8))\n",
    "    \n",
    "    for i in range(m):\n",
    "        image = X[i]\n",
    "        image = np.reshape(image, (image_side, image_side), order='F')\n",
    "        plt.subplot(display_rows, display_cols, i+1)\n",
    "        plt.imshow(image, cmap='Greys')\n",
    "        plt.axis('off')\n",
    "        \n",
    "    plt.subplots_adjust(wspace=0.1, hspace=0.1)\n",
    "    plt.show()"
   ]
  },
  {
   "cell_type": "code",
   "execution_count": 10,
   "metadata": {},
   "outputs": [
    {
     "data": {
      "image/png": "[encoded data removed]",
      "text/plain": [
       "<matplotlib.figure.Figure at 0x10d616710>"
      ]
     },
     "metadata": {},
     "output_type": "display_data"
    }
   ],
   "source": [
    "display_data(sel)"
   ]
  },
  {
   "cell_type": "markdown",
   "metadata": {},
   "source": [
    "### 1.2 Model representation"
   ]
  },
  {
   "cell_type": "code",
   "execution_count": 11,
   "metadata": {
    "collapsed": true
   },
   "outputs": [],
   "source": [
    "# Load pre-initialized weights into variables Theta1 and Theta2\n",
    "weights = scipy.io.loadmat('data/ex4weights.mat')\n",
    "Theta1 = weights['Theta1']\n",
    "Theta2 = weights['Theta2']"
   ]
  },
  {
   "cell_type": "code",
   "execution_count": 12,
   "metadata": {},
   "outputs": [
    {
     "data": {
      "text/plain": [
       "(25, 401)"
      ]
     },
     "execution_count": 12,
     "metadata": {},
     "output_type": "execute_result"
    }
   ],
   "source": [
    "Theta1.shape\n",
    "# 20x20 pixels = 400 + 1 bias unit -> 401 input units\n",
    "# Second (hidden) layer has 25 units"
   ]
  },
  {
   "cell_type": "code",
   "execution_count": 13,
   "metadata": {},
   "outputs": [
    {
     "data": {
      "text/plain": [
       "(10, 26)"
      ]
     },
     "execution_count": 13,
     "metadata": {},
     "output_type": "execute_result"
    }
   ],
   "source": [
    "Theta2.shape\n",
    "# Second layer's 25 units + 1 bias unit\n",
    "# Output layer has 10 units for 0-9"
   ]
  },
  {
   "cell_type": "code",
   "execution_count": 14,
   "metadata": {},
   "outputs": [],
   "source": [
    "# Unroll parameters \n",
    "nn_params = np.append(Theta1.flatten(order='F'), Theta2.flatten(order='F'))"
   ]
  },
  {
   "cell_type": "markdown",
   "metadata": {},
   "source": [
    "### 1.3 Feedforward and cost function"
   ]
  },
  {
   "cell_type": "code",
   "execution_count": 15,
   "metadata": {
    "collapsed": true
   },
   "outputs": [],
   "source": [
    "def sigmoid(z):\n",
    "    g = 1. / (1. + math.exp(-z))\n",
    "    return g\n",
    "\n",
    "sigmoid = np.vectorize(sigmoid)"
   ]
  },
  {
   "cell_type": "code",
   "execution_count": 16,
   "metadata": {},
   "outputs": [],
   "source": [
    "def NN_cost_function(nn_params, input_layer_size, hidden_layer_size, num_labels, X, y, Lambda):\n",
    "    '''\n",
    "    Computes the cost and gradient for a two layer\n",
    "    neural network which performs classification.\n",
    "    '''\n",
    "    \n",
    "    J = 0\n",
    "\n",
    "    # Reshape nn_params back into weight matrices Theta1 and Theta2\n",
    "    Theta1 = np.reshape(nn_params[:(hidden_layer_size * (input_layer_size + 1))],\n",
    "                        (hidden_layer_size, (input_layer_size + 1)), order='F')\n",
    "\n",
    "    Theta2 = np.reshape(nn_params[(hidden_layer_size * (input_layer_size + 1)):],\n",
    "                        (num_labels, (hidden_layer_size + 1)), order='F')\n",
    "\n",
    "    Theta1_grad = np.zeros(Theta1.shape)\n",
    "    Theta2_grad = np.zeros(Theta2.shape)    \n",
    "\n",
    "    m = X.shape[0] # number of examples\n",
    "\n",
    "\n",
    "    ## Feedforward neural network\n",
    "    # Add column of ones to X for bias\n",
    "    X = np.column_stack((np.ones(m), X))\n",
    "    \n",
    "    # Calculate outputs of hidden layer\n",
    "    z2 = np.dot(X, Theta1.T)\n",
    "    a2 = sigmoid(z2)\n",
    "    \n",
    "    # Add column of ones to hidden layer output for bias\n",
    "    a2 = np.column_stack((np.ones(a2.shape[0]), a2))\n",
    "    \n",
    "    # Calculate outputs of hidden layer\n",
    "    z3 = np.dot(a2, Theta2.T)\n",
    "    a3 = sigmoid(z3)\n",
    "    \n",
    "    \n",
    "    ## Compute cost\n",
    "    J1 = 0\n",
    "    J2 = 0\n",
    "    \n",
    "    for i in range(m): # loop over examples\n",
    "        # Logical version of y\n",
    "        y_bools = np.zeros(num_labels)\n",
    "        y_bools[y[i]-1] = 1 # -1 because y runs from 1-10 but num_labels runs from 0-9\n",
    "\n",
    "        J1 += np.sum(-y_bools*np.log(a3[i,:]) - (1 - y_bools)*np.log(1 - a3[i,:]))\n",
    "    J1 = J1/m\n",
    "    \n",
    "    J2 = np.sum(Theta1[:, 1:]**2) + np.sum(Theta2[:, 1:]**2)\n",
    "    J2 = J2 * Lambda / (2*m)\n",
    "    \n",
    "    J = J1 + J2\n",
    "\n",
    "\n",
    "    # Unroll gradients\n",
    "    grad = np.append(Theta1_grad.flatten(order='F'), Theta2_grad.flatten(order='F'))\n",
    "    \n",
    "    return J"
   ]
  },
  {
   "cell_type": "code",
   "execution_count": 17,
   "metadata": {},
   "outputs": [
    {
     "name": "stdout",
     "output_type": "stream",
     "text": [
      "Cost: 0.287629\n",
      "Expected cost: 0.287629\n"
     ]
    }
   ],
   "source": [
    "# Test cost function works with no regularisation\n",
    "Lambda = 0\n",
    "\n",
    "J = NN_cost_function(nn_params, input_layer_size, hidden_layer_size, num_labels, X, y, Lambda)\n",
    "\n",
    "print('Cost: %f' %J)\n",
    "print('Expected cost: 0.287629')"
   ]
  },
  {
   "cell_type": "code",
   "execution_count": 18,
   "metadata": {},
   "outputs": [
    {
     "name": "stdout",
     "output_type": "stream",
     "text": [
      "Cost: 0.383770\n",
      "Expected cost: 0.383770\n"
     ]
    }
   ],
   "source": [
    "# Test cost function works with regularisation\n",
    "Lambda = 1\n",
    "\n",
    "J = NN_cost_function(nn_params, input_layer_size, hidden_layer_size, num_labels, X, y, Lambda)\n",
    "\n",
    "print('Cost: %f' %J)\n",
    "print('Expected cost: 0.383770')"
   ]
  },
  {
   "cell_type": "markdown",
   "metadata": {},
   "source": [
    "## 2 Backpropagation"
   ]
  }
 ],
 "metadata": {
  "kernelspec": {
   "display_name": "Python 3",
   "language": "python",
   "name": "python3"
  },
  "language_info": {
   "codemirror_mode": {
    "name": "ipython",
    "version": 3
   },
   "file_extension": ".py",
   "mimetype": "text/x-python",
   "name": "python",
   "nbconvert_exporter": "python",
   "pygments_lexer": "ipython3",
   "version": "3.6.2"
  }
 },
 "nbformat": 4,
 "nbformat_minor": 2
}
