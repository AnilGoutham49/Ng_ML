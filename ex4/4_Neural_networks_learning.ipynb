{
 "cells": [
  {
   "cell_type": "markdown",
   "metadata": {},
   "source": [
    "# Neural Networks Learning"
   ]
  },
  {
   "cell_type": "markdown",
   "metadata": {},
   "source": [
    "\"In this exercise, you will implement the backpropagation algorithm for neural networks and apply it to the task of hand-written digit recognition\""
   ]
  },
  {
   "cell_type": "markdown",
   "metadata": {},
   "source": [
    "## 1 Neural Networks"
   ]
  },
  {
   "cell_type": "markdown",
   "metadata": {},
   "source": [
    "### 1.1 Visualizing the data"
   ]
  },
  {
   "cell_type": "code",
   "execution_count": 1,
   "metadata": {
    "collapsed": true
   },
   "outputs": [],
   "source": [
    "import scipy.io\n",
    "import numpy as np\n",
    "import math\n",
    "import matplotlib.pyplot as plt\n",
    "from scipy.optimize import minimize"
   ]
  },
  {
   "cell_type": "code",
   "execution_count": 2,
   "metadata": {
    "collapsed": true
   },
   "outputs": [],
   "source": [
    "# Setup the parameters you will use for this exercise\n",
    "input_layer_size = 400   # input layer - each image of a digit is 20x20 pixels\n",
    "hidden_layer_size = 25   # hidden layer - 25 units\n",
    "num_labels = 10          # output layer - 10 labels, from 1 to 10, note \"0\" is labelled as 10"
   ]
  },
  {
   "cell_type": "code",
   "execution_count": 3,
   "metadata": {},
   "outputs": [
    {
     "data": {
      "text/plain": [
       "{'X': array([[ 0.,  0.,  0., ...,  0.,  0.,  0.],\n",
       "        [ 0.,  0.,  0., ...,  0.,  0.,  0.],\n",
       "        [ 0.,  0.,  0., ...,  0.,  0.,  0.],\n",
       "        ..., \n",
       "        [ 0.,  0.,  0., ...,  0.,  0.,  0.],\n",
       "        [ 0.,  0.,  0., ...,  0.,  0.,  0.],\n",
       "        [ 0.,  0.,  0., ...,  0.,  0.,  0.]]),\n",
       " '__globals__': [],\n",
       " '__header__': b'MATLAB 5.0 MAT-file, Platform: GLNXA64, Created on: Sun Oct 16 13:09:09 2011',\n",
       " '__version__': '1.0',\n",
       " 'y': array([[10],\n",
       "        [10],\n",
       "        [10],\n",
       "        ..., \n",
       "        [ 9],\n",
       "        [ 9],\n",
       "        [ 9]], dtype=uint8)}"
      ]
     },
     "execution_count": 3,
     "metadata": {},
     "output_type": "execute_result"
    }
   ],
   "source": [
    "# Load training data\n",
    "data = scipy.io.loadmat('data/ex4data1.mat')\n",
    "data"
   ]
  },
  {
   "cell_type": "code",
   "execution_count": 4,
   "metadata": {},
   "outputs": [
    {
     "data": {
      "text/plain": [
       "(5000, 400)"
      ]
     },
     "execution_count": 4,
     "metadata": {},
     "output_type": "execute_result"
    }
   ],
   "source": [
    "# X is 5,000 examples of 20x20 pixel images, each image is a handwritten number\n",
    "# Each 20x20 image is stored as a 400-dimensional vector\n",
    "data['X'].shape"
   ]
  },
  {
   "cell_type": "code",
   "execution_count": 5,
   "metadata": {},
   "outputs": [
    {
     "data": {
      "text/plain": [
       "(5000, 1)"
      ]
     },
     "execution_count": 5,
     "metadata": {},
     "output_type": "execute_result"
    }
   ],
   "source": [
    "# y is the numeral represented by each image# y is  \n",
    "data['y'].shape"
   ]
  },
  {
   "cell_type": "code",
   "execution_count": 6,
   "metadata": {
    "collapsed": true
   },
   "outputs": [],
   "source": [
    "# Store data in numpy arrays to make things easier\n",
    "X = data['X']\n",
    "y = data['y']"
   ]
  },
  {
   "cell_type": "code",
   "execution_count": 7,
   "metadata": {
    "collapsed": true
   },
   "outputs": [],
   "source": [
    "m = X.shape[0] # number of examples"
   ]
  },
  {
   "cell_type": "code",
   "execution_count": 8,
   "metadata": {
    "collapsed": true
   },
   "outputs": [],
   "source": [
    "# Randomly select 100 images to display\n",
    "rand_indices = np.random.permutation(m)\n",
    "sel = X[rand_indices[0:100], :]"
   ]
  },
  {
   "cell_type": "code",
   "execution_count": 9,
   "metadata": {
    "collapsed": true
   },
   "outputs": [],
   "source": [
    "def display_data(X):\n",
    "    '''\n",
    "    Displays 2D data stored in X in a nice grid.\n",
    "    '''\n",
    "    m = X.shape[0] # number of images\n",
    "    display_rows = math.floor(math.sqrt(m))\n",
    "    display_cols = math.ceil(m / display_rows)\n",
    "    n = X.shape[1] # pixels per image\n",
    "    image_side = int(math.sqrt(n))\n",
    "    \n",
    "    plt.figure(figsize=(8,8))\n",
    "    \n",
    "    for i in range(m):\n",
    "        image = X[i]\n",
    "        image = np.reshape(image, (image_side, image_side), order='F')\n",
    "        plt.subplot(display_rows, display_cols, i+1)\n",
    "        plt.imshow(image, cmap='Greys')\n",
    "        plt.axis('off')\n",
    "        \n",
    "    plt.subplots_adjust(wspace=0.1, hspace=0.1)\n",
    "    plt.show()"
   ]
  },
  {
   "cell_type": "code",
   "execution_count": 10,
   "metadata": {},
   "outputs": [
    {
     "name": "stdout",
     "output_type": "stream",
     "text": [
      "100 randomly selected images from the dataset\n"
     ]
    },
    {
     "data": {
      "image/png": "[encoded data removed]",
      "text/plain": [
       "<matplotlib.figure.Figure at 0x114db0a90>"
      ]
     },
     "metadata": {},
     "output_type": "display_data"
    }
   ],
   "source": [
    "print('100 randomly selected images from the dataset')\n",
    "display_data(sel)"
   ]
  },
  {
   "cell_type": "markdown",
   "metadata": {},
   "source": [
    "### 1.2 Model representation"
   ]
  },
  {
   "cell_type": "code",
   "execution_count": 11,
   "metadata": {
    "collapsed": true
   },
   "outputs": [],
   "source": [
    "# Load pre-initialized weights into variables Theta1 and Theta2\n",
    "weights = scipy.io.loadmat('data/ex4weights.mat')\n",
    "Theta1 = weights['Theta1']\n",
    "Theta2 = weights['Theta2']"
   ]
  },
  {
   "cell_type": "code",
   "execution_count": 12,
   "metadata": {},
   "outputs": [
    {
     "data": {
      "text/plain": [
       "(25, 401)"
      ]
     },
     "execution_count": 12,
     "metadata": {},
     "output_type": "execute_result"
    }
   ],
   "source": [
    "Theta1.shape\n",
    "# 20x20 pixels = 400 + 1 bias unit -> 401 input units\n",
    "# Second (hidden) layer has 25 units"
   ]
  },
  {
   "cell_type": "code",
   "execution_count": 13,
   "metadata": {},
   "outputs": [
    {
     "data": {
      "text/plain": [
       "(10, 26)"
      ]
     },
     "execution_count": 13,
     "metadata": {},
     "output_type": "execute_result"
    }
   ],
   "source": [
    "Theta2.shape\n",
    "# Second layer's 25 units + 1 bias unit\n",
    "# Output layer has 10 units for 0-9"
   ]
  },
  {
   "cell_type": "code",
   "execution_count": 14,
   "metadata": {
    "collapsed": true
   },
   "outputs": [],
   "source": [
    "# Unroll parameters \n",
    "nn_params = np.append(Theta1.flatten(order='F'), Theta2.flatten(order='F'))"
   ]
  },
  {
   "cell_type": "markdown",
   "metadata": {},
   "source": [
    "### 1.3 Feedforward and cost function"
   ]
  },
  {
   "cell_type": "code",
   "execution_count": 15,
   "metadata": {
    "collapsed": true
   },
   "outputs": [],
   "source": [
    "def sigmoid(z):\n",
    "    g = 1. / (1. + math.exp(-z))\n",
    "    return g\n",
    "\n",
    "sigmoid = np.vectorize(sigmoid)"
   ]
  },
  {
   "cell_type": "code",
   "execution_count": 16,
   "metadata": {
    "collapsed": true
   },
   "outputs": [],
   "source": [
    "def sigmoid_gradient(z):\n",
    "    '''\n",
    "    Computes the gradient of the sigmoid function evaluated at z.\n",
    "    '''\n",
    "    g = 1. / (1. + math.exp(-z)) * (1 - 1. / (1. + math.exp(-z)))\n",
    "    return g\n",
    "\n",
    "sigmoid_gradient = np.vectorize(sigmoid_gradient)"
   ]
  },
  {
   "cell_type": "code",
   "execution_count": 17,
   "metadata": {
    "collapsed": true
   },
   "outputs": [],
   "source": [
    "def NN_cost_function(nn_params, input_layer_size, hidden_layer_size, num_labels, X, y, Lambda):\n",
    "    '''\n",
    "    Computes the cost and gradient for a two layer\n",
    "    neural network which performs classification.\n",
    "    '''\n",
    "    \n",
    "    J = 0\n",
    "\n",
    "    # Reshape nn_params back into weight matrices Theta1 and Theta2\n",
    "    Theta1 = np.reshape(nn_params[:(hidden_layer_size * (input_layer_size + 1))],\n",
    "                        (hidden_layer_size, (input_layer_size + 1)), order='F')\n",
    "\n",
    "    Theta2 = np.reshape(nn_params[(hidden_layer_size * (input_layer_size + 1)):],\n",
    "                        (num_labels, (hidden_layer_size + 1)), order='F')\n",
    "\n",
    "    Theta1_grad = np.zeros(Theta1.shape)\n",
    "    Theta2_grad = np.zeros(Theta2.shape)    \n",
    "\n",
    "    m = X.shape[0] # number of examples\n",
    "\n",
    "\n",
    "    ## Feedforward neural network\n",
    "    # Add column of ones to X for bias\n",
    "    a1 = X\n",
    "    a1 = np.column_stack((np.ones(m), a1))\n",
    "    \n",
    "    # Calculate outputs of hidden layer\n",
    "    z2 = np.dot(a1, Theta1.T)\n",
    "    a2 = sigmoid(z2)\n",
    "    \n",
    "    # Add column of ones to hidden layer output for bias\n",
    "    a2 = np.column_stack((np.ones(a2.shape[0]), a2))\n",
    "    \n",
    "    # Calculate outputs of output layer\n",
    "    z3 = np.dot(a2, Theta2.T)\n",
    "    a3 = sigmoid(z3)\n",
    "    \n",
    "    \n",
    "    ## Compute cost\n",
    "    J1 = 0\n",
    "    J2 = 0\n",
    "    \n",
    "    for i in range(m): # loop over examples\n",
    "        # Logical version of y\n",
    "        y_bools = np.zeros(num_labels)\n",
    "        y_bools[y[i]-1] = 1 # -1 because y runs from 1-10 but num_labels runs from 0-9\n",
    "\n",
    "        J1 += np.sum(-y_bools*np.log(a3[i,:]) - (1 - y_bools)*np.log(1 - a3[i,:]))\n",
    "    J1 = J1/m\n",
    "    \n",
    "    J2 = np.sum(Theta1[:, 1:]**2) + np.sum(Theta2[:, 1:]**2)\n",
    "    J2 = J2 * Lambda / (2*m)\n",
    "    \n",
    "    J = J1 + J2\n",
    "    \n",
    "    \n",
    "    ## Backpropagate neural network\n",
    "    Delta1 = np.zeros((Theta1.shape))\n",
    "    Delta2 = np.zeros((Theta2.shape))\n",
    "    for t in range(m):\n",
    "        # Feedforward a single example\n",
    "        a1 = X[t]\n",
    "        a1 = np.reshape(a1, (a1.shape[0], 1)) # when we take a single row of X numpy turns it into a (400,) array\n",
    "        a1 = a1.T # this turns it back into a row vector\n",
    "        a1 = np.column_stack((1, a1)) # bias\n",
    "        \n",
    "        # Calculate outputs of hidden layer\n",
    "        z2 = np.dot(a1, Theta1.T)\n",
    "        a2 = sigmoid(z2)\n",
    "        a2 = np.column_stack((1, a2))    \n",
    "            \n",
    "        # Calculate outputs of output layer\n",
    "        z3 = np.dot(a2, Theta2.T)\n",
    "        a3 = sigmoid(z3)\n",
    "        \n",
    "        # Calculate error for output layer\n",
    "        y_bools = np.zeros(num_labels)\n",
    "        y_bools[y[t]-1] = 1 # boolean version of y\n",
    "        delta3 = a3 - y_bools\n",
    "        \n",
    "        # Calculate error for hidden layer\n",
    "        delta2 = np.dot(Theta2.T, delta3.T)[1:].T * sigmoid_gradient(z2)\n",
    "        \n",
    "        Delta2 += np.dot(delta3.T, a2)\n",
    "        Delta1 += np.dot(delta2.T, a1)\n",
    "        \n",
    "    Theta2_grad = Delta2 / m\n",
    "    Theta1_grad = Delta1 / m\n",
    "    \n",
    "    # Regularise gradient\n",
    "    Theta2_grad[:, 1:] += Lambda/m * Theta2[:, 1:]\n",
    "    Theta1_grad[:, 1:] += Lambda/m * Theta1[:, 1:]\n",
    "    \n",
    "    # Unroll gradients\n",
    "    grad = np.append(Theta1_grad.flatten(order='F'), Theta2_grad.flatten(order='F'))\n",
    "    \n",
    "    return J, grad"
   ]
  },
  {
   "cell_type": "code",
   "execution_count": 18,
   "metadata": {},
   "outputs": [
    {
     "name": "stdout",
     "output_type": "stream",
     "text": [
      "Test cost function works with no regularisation:\n",
      "Cost: 0.287629\n",
      "Expected cost: 0.287629\n"
     ]
    }
   ],
   "source": [
    "# Test cost function works with no regularisation\n",
    "Lambda = 0\n",
    "\n",
    "J = NN_cost_function(nn_params, input_layer_size, hidden_layer_size, num_labels, X, y, Lambda)[0]\n",
    "\n",
    "print('Test cost function works with no regularisation:')\n",
    "print('Cost: %f' %J)\n",
    "print('Expected cost: 0.287629')"
   ]
  },
  {
   "cell_type": "code",
   "execution_count": 19,
   "metadata": {},
   "outputs": [
    {
     "name": "stdout",
     "output_type": "stream",
     "text": [
      "Test cost function works with regularisation:\n",
      "Cost: 0.383770\n",
      "Expected cost: 0.383770\n"
     ]
    }
   ],
   "source": [
    "# Test cost function works with regularisation\n",
    "Lambda = 1\n",
    "\n",
    "J = NN_cost_function(nn_params, input_layer_size, hidden_layer_size, num_labels, X, y, Lambda)[0]\n",
    "\n",
    "print('Test cost function works with regularisation:')\n",
    "print('Cost: %f' %J)\n",
    "print('Expected cost: 0.383770')"
   ]
  },
  {
   "cell_type": "markdown",
   "metadata": {},
   "source": [
    "## 2 Backpropagation"
   ]
  },
  {
   "cell_type": "markdown",
   "metadata": {},
   "source": [
    "### 2.1 Sigmoid gradient"
   ]
  },
  {
   "cell_type": "code",
   "execution_count": 20,
   "metadata": {},
   "outputs": [
    {
     "name": "stdout",
     "output_type": "stream",
     "text": [
      "Sigmoid gradient evaluated at [-1 -0.5 0 0.5 1]:\n",
      " [ 0.19661193  0.23500371  0.25        0.23500371  0.19661193]\n"
     ]
    }
   ],
   "source": [
    "g = sigmoid_gradient([-1, -0.5, 0, 0.5, 1])\n",
    "\n",
    "print('Sigmoid gradient evaluated at [-1 -0.5 0 0.5 1]:\\n', g)"
   ]
  },
  {
   "cell_type": "markdown",
   "metadata": {},
   "source": [
    "### 2.2 Random initialization"
   ]
  },
  {
   "cell_type": "code",
   "execution_count": 21,
   "metadata": {
    "collapsed": true
   },
   "outputs": [],
   "source": [
    "def rand_initialize_weights(L_in, L_out):\n",
    "    '''\n",
    "    Randomly initialize the weights of a layer with L_in\n",
    "    incoming connections and L_out outgoing connections.\n",
    "    '''\n",
    "    W = np.zeros((L_out, 1 + L_in)) # +1 for bias\n",
    "    epsilon_init = 0.12\n",
    "    W = np.random.rand(L_out, 1 + L_in) * 2 * epsilon_init - epsilon_init\n",
    "    \n",
    "    return W"
   ]
  },
  {
   "cell_type": "code",
   "execution_count": 22,
   "metadata": {
    "collapsed": true
   },
   "outputs": [],
   "source": [
    "initial_Theta1 = rand_initialize_weights(input_layer_size, hidden_layer_size)\n",
    "initial_Theta2 = rand_initialize_weights(hidden_layer_size, num_labels)\n",
    "\n",
    "# Unroll parameters\n",
    "initial_nn_params = np.append(initial_Theta1.flatten(order='F'), initial_Theta2.flatten(order='F'))"
   ]
  },
  {
   "cell_type": "markdown",
   "metadata": {},
   "source": [
    "### 2.3 Backpropagation"
   ]
  },
  {
   "cell_type": "code",
   "execution_count": 23,
   "metadata": {
    "collapsed": true
   },
   "outputs": [],
   "source": [
    "# Backpropagation implemented in NN_cost_function"
   ]
  },
  {
   "cell_type": "markdown",
   "metadata": {},
   "source": [
    "### 2.4 Gradient checking"
   ]
  },
  {
   "cell_type": "code",
   "execution_count": 24,
   "metadata": {
    "collapsed": true
   },
   "outputs": [],
   "source": [
    "def debug_initialize_weights(fan_out, fan_in):\n",
    "    '''\n",
    "    Initializes the weights of a layer with fan_in incoming connections\n",
    "    and fan_out outgoing connections using a fixed set of values.\n",
    "    '''\n",
    "\n",
    "    W = np.zeros((fan_out, 1 + fan_in)) # +1 for bias term\n",
    "    # Initialize W to \"sin\", this ensures that W is always the same, useful for debugging\n",
    "    W = np.reshape(np.sin(range(1, W.size+1)), W.shape, order='F') / 10\n",
    "    \n",
    "    return W"
   ]
  },
  {
   "cell_type": "code",
   "execution_count": 25,
   "metadata": {
    "collapsed": true
   },
   "outputs": [],
   "source": [
    "def compute_numerical_gradient(J, theta):\n",
    "    '''\n",
    "    Computes the numerical gradient of the function J around theta.\n",
    "    Calling y = J(theta) should return the function value at theta.\n",
    "    '''\n",
    "  \n",
    "    num_grad = np.zeros((theta.shape))\n",
    "    perturb = np.zeros((theta.shape))\n",
    "    e = 1e-4\n",
    "\n",
    "    for p in range(theta.size):\n",
    "        perturb[p] = e\n",
    "        loss1 = J(theta - perturb)[0]\n",
    "        loss2 = J(theta + perturb)[0]\n",
    "        \n",
    "        num_grad[p] = (loss2 - loss1) / (2*e)\n",
    "        perturb[p] = 0\n",
    "    \n",
    "    return num_grad"
   ]
  },
  {
   "cell_type": "code",
   "execution_count": 26,
   "metadata": {
    "collapsed": true
   },
   "outputs": [],
   "source": [
    "def check_NN_gradients(Lambda=0):\n",
    "    '''\n",
    "    Creates a small neural network to check the backpropagation gradients. \n",
    "    It will output analytical gradients produced by NN_cost_funtcion\n",
    "    and numerical gradients computed by compute_numerical_gradient.\n",
    "    These two gradient computations should result in very similar values.\n",
    "    '''\n",
    "    \n",
    "    input_layer_size = 3\n",
    "    hidden_layer_size = 5\n",
    "    num_labels = 3\n",
    "    m = 5\n",
    "    \n",
    "    # Generate random test data\n",
    "    Theta1 = debug_initialize_weights(hidden_layer_size, input_layer_size)\n",
    "    Theta2 = debug_initialize_weights(num_labels, hidden_layer_size)\n",
    "    X  = debug_initialize_weights(m, input_layer_size - 1)\n",
    "    y  = 1 + np.mod(range(1, m+1), num_labels)\n",
    "\n",
    "    # Unroll parameters\n",
    "    nn_params = np.append(Theta1.flatten(order='F'), Theta2.flatten(order='F'))\n",
    "    \n",
    "    def cost_func(p):\n",
    "        return NN_cost_function(p, input_layer_size, hidden_layer_size, num_labels, X, y, Lambda)\n",
    "    \n",
    "    cost, grad = cost_func(nn_params)\n",
    "    num_grad = compute_numerical_gradient(cost_func, nn_params)\n",
    "    \n",
    "    diff = np.linalg.norm(num_grad - grad)/np.linalg.norm(num_grad + grad)\n",
    "    print(diff)"
   ]
  },
  {
   "cell_type": "code",
   "execution_count": 27,
   "metadata": {},
   "outputs": [
    {
     "name": "stdout",
     "output_type": "stream",
     "text": [
      "2.48422219618e-11\n"
     ]
    }
   ],
   "source": [
    "# Check gradient without regularisation\n",
    "\n",
    "# \"If your backpropagation implementation is correct,\n",
    "# you should see a relative difference that is less than 1e-9.\"\n",
    "check_NN_gradients()"
   ]
  },
  {
   "cell_type": "markdown",
   "metadata": {},
   "source": [
    "### 2.5 Regularized Neural Networks"
   ]
  },
  {
   "cell_type": "code",
   "execution_count": 28,
   "metadata": {
    "collapsed": true
   },
   "outputs": [],
   "source": [
    "# Regularised gradient implemented in NN_cost_function"
   ]
  },
  {
   "cell_type": "code",
   "execution_count": 29,
   "metadata": {},
   "outputs": [
    {
     "name": "stdout",
     "output_type": "stream",
     "text": [
      "2.40939666784e-11\n"
     ]
    }
   ],
   "source": [
    "# Check gradient with regularisation\n",
    "\n",
    "# \"If your backpropagation implementation is correct,\n",
    "# you should see a relative difference that is less than 1e-9.\"\n",
    "Lambda = 3\n",
    "check_NN_gradients(Lambda)"
   ]
  },
  {
   "cell_type": "code",
   "execution_count": 30,
   "metadata": {},
   "outputs": [
    {
     "name": "stdout",
     "output_type": "stream",
     "text": [
      "Cost at (fixed) debugging parameters with Lambda = 3:\n",
      "0.57605124695\n",
      "Expected cost (approx):\n",
      "0.576051\n"
     ]
    }
   ],
   "source": [
    "# Check cost calculation (again... we already checked this...)\n",
    "debug_J = NN_cost_function(nn_params, input_layer_size, hidden_layer_size, num_labels, X, y, Lambda)[0]\n",
    "\n",
    "print('Cost at (fixed) debugging parameters with Lambda = 3:')\n",
    "print(debug_J)\n",
    "print('Expected cost (approx):\\n0.576051')"
   ]
  },
  {
   "cell_type": "markdown",
   "metadata": {},
   "source": [
    "### 2.6 Learning parameters using minimisation"
   ]
  },
  {
   "cell_type": "code",
   "execution_count": 31,
   "metadata": {
    "collapsed": true
   },
   "outputs": [],
   "source": [
    "Lambda = 1"
   ]
  },
  {
   "cell_type": "code",
   "execution_count": 32,
   "metadata": {
    "collapsed": true
   },
   "outputs": [],
   "source": [
    "# Don't use method=None, it takes forever!\n",
    "res = minimize(fun=NN_cost_function, x0=initial_nn_params,\n",
    "               args=(input_layer_size, hidden_layer_size, num_labels, X, y, Lambda),\n",
    "               method='CG', jac=True, options={'maxiter':50})"
   ]
  },
  {
   "cell_type": "code",
   "execution_count": 33,
   "metadata": {},
   "outputs": [
    {
     "data": {
      "text/plain": [
       "     fun: 0.4382458768710964\n",
       "     jac: array([ 0.00012766,  0.00054752,  0.00144024, ...,  0.0021006 ,\n",
       "       -0.00042172,  0.00052567])\n",
       " message: 'Maximum number of iterations has been exceeded.'\n",
       "    nfev: 107\n",
       "     nit: 50\n",
       "    njev: 107\n",
       "  status: 1\n",
       " success: False\n",
       "       x: array([-0.34445917,  1.0553299 , -1.08351683, ...,  0.77991308,\n",
       "        0.48768737, -2.4527651 ])"
      ]
     },
     "execution_count": 33,
     "metadata": {},
     "output_type": "execute_result"
    }
   ],
   "source": [
    "res"
   ]
  },
  {
   "cell_type": "code",
   "execution_count": 34,
   "metadata": {
    "collapsed": true
   },
   "outputs": [],
   "source": [
    "# Obtain Theta1 and Theta2 back from nn_params\n",
    "nn_params = res.x\n",
    "\n",
    "Theta1 = np.reshape(nn_params[:(hidden_layer_size * (input_layer_size + 1))],\n",
    "                   (hidden_layer_size, (input_layer_size + 1)), order='F')\n",
    "\n",
    "Theta2 = np.reshape(nn_params[(hidden_layer_size * (input_layer_size + 1)):],\n",
    "                   (num_labels, (hidden_layer_size + 1)), order='F')"
   ]
  },
  {
   "cell_type": "code",
   "execution_count": 35,
   "metadata": {
    "collapsed": true
   },
   "outputs": [],
   "source": [
    "def predict(Theta1, Theta2, X):\n",
    "    '''\n",
    "    Outputs the predicted label of X given the\n",
    "    trained weights of a neural network (Theta1, Theta2).\n",
    "    '''    \n",
    "    \n",
    "    m = X.shape[0]\n",
    "    num_labels = Theta2.shape[0]\n",
    "    \n",
    "    p = np.zeros((m, 1))\n",
    "\n",
    "    ## Feedforward neural network\n",
    "    # Add column of ones to X for bias\n",
    "    a1 = X\n",
    "    a1 = np.column_stack((np.ones(m), a1))\n",
    "    \n",
    "    # Calculate outputs of hidden layer\n",
    "    z2 = np.dot(a1, Theta1.T)\n",
    "    a2 = sigmoid(z2)\n",
    "    \n",
    "    # Add column of ones to hidden layer output for bias\n",
    "    a2 = np.column_stack((np.ones(a2.shape[0]), a2))\n",
    "    \n",
    "    # Calculate outputs of output layer\n",
    "    z3 = np.dot(a2, Theta2.T)\n",
    "    a3 = sigmoid(z3)\n",
    "    \n",
    "    # Find prediction\n",
    "    p = np.argmax(a3, axis=1) +1 # +1 to change 0-9 into 1-10\n",
    "    \n",
    "    return p"
   ]
  },
  {
   "cell_type": "code",
   "execution_count": 36,
   "metadata": {
    "collapsed": true
   },
   "outputs": [],
   "source": [
    "pred = predict(Theta1, Theta2, X)"
   ]
  },
  {
   "cell_type": "code",
   "execution_count": 37,
   "metadata": {},
   "outputs": [
    {
     "data": {
      "text/plain": [
       "(5000,)"
      ]
     },
     "execution_count": 37,
     "metadata": {},
     "output_type": "execute_result"
    }
   ],
   "source": [
    "pred.shape"
   ]
  },
  {
   "cell_type": "code",
   "execution_count": 38,
   "metadata": {},
   "outputs": [
    {
     "data": {
      "text/plain": [
       "(5000, 1)"
      ]
     },
     "execution_count": 38,
     "metadata": {},
     "output_type": "execute_result"
    }
   ],
   "source": [
    "y.shape"
   ]
  },
  {
   "cell_type": "code",
   "execution_count": 39,
   "metadata": {
    "collapsed": true
   },
   "outputs": [],
   "source": [
    "# Make shapes compatible so we can compute accuracy\n",
    "pred = np.reshape(pred, (m,1))"
   ]
  },
  {
   "cell_type": "code",
   "execution_count": 40,
   "metadata": {},
   "outputs": [
    {
     "name": "stdout",
     "output_type": "stream",
     "text": [
      "Training Set Accuracy: 96.38\n"
     ]
    }
   ],
   "source": [
    "accuracy = np.mean(pred==y) * 100\n",
    "print('Training Set Accuracy:', accuracy)"
   ]
  },
  {
   "cell_type": "markdown",
   "metadata": {},
   "source": [
    "\"If your implementation is correct, you should see a reported training accuracy of about 95.3% (this may vary by about 1% due to the random initialization).\""
   ]
  },
  {
   "cell_type": "markdown",
   "metadata": {},
   "source": [
    "**Show a few examples just for fun**"
   ]
  },
  {
   "cell_type": "code",
   "execution_count": 41,
   "metadata": {
    "collapsed": true
   },
   "outputs": [],
   "source": [
    "def  displayPredictions(X):\n",
    "\n",
    "    m = X.shape[0] # number of images\n",
    "    display_rows = math.floor(math.sqrt(m))\n",
    "    display_cols = math.ceil(m / display_rows)\n",
    "    \n",
    "    n = X.shape[1] # total number of pixels per image\n",
    "    image_side = int(math.sqrt(n))\n",
    "    \n",
    "    plt.figure(figsize=(8,8))\n",
    "    \n",
    "    for i in range(m):\n",
    "        # Plot image\n",
    "        image = X[i]\n",
    "        image = np.reshape(image, (image_side, image_side), order='F')\n",
    "        plt.subplot(display_rows, display_cols, i+1)\n",
    "        \n",
    "        plt.imshow(image, cmap='Greys')\n",
    "        plt.axis('off')\n",
    "        \n",
    "        # Make and print prediction for image\n",
    "        rand_image = X[i]\n",
    "        rand_image = rand_image.reshape([1,400])\n",
    "       \n",
    "        pred = predict(Theta1, Theta2, rand_image)\n",
    "        pred_int = int(pred)\n",
    "        if pred_int==10: # Fix the fact that 0 is mapped to 10\n",
    "            pred_int=0\n",
    "    \n",
    "        pred_str = 'Prediction:' + str(pred_int)\n",
    "        plt.text(0,1.5, pred_str, color='b')\n",
    "        \n",
    "    plt.subplots_adjust(wspace=0.1, hspace=0.1)\n",
    "    plt.show()"
   ]
  },
  {
   "cell_type": "code",
   "execution_count": 42,
   "metadata": {},
   "outputs": [
    {
     "name": "stdout",
     "output_type": "stream",
     "text": [
      "Display a few predictions, just for fun:\n"
     ]
    },
    {
     "data": {
      "image/png": "[encoded data removed]",
      "text/plain": [
       "<matplotlib.figure.Figure at 0x119fcf5f8>"
      ]
     },
     "metadata": {},
     "output_type": "display_data"
    }
   ],
   "source": [
    "# Randomly select 25 images and predictions to display# Random \n",
    "rand_indices = np.random.permutation(m)\n",
    "sel = X[rand_indices[0:25], :]\n",
    "print('Display a few predictions, just for fun:')\n",
    "displayPredictions(sel)"
   ]
  },
  {
   "cell_type": "markdown",
   "metadata": {},
   "source": [
    "## 3 Visualizing the hidden layer"
   ]
  },
  {
   "cell_type": "code",
   "execution_count": 43,
   "metadata": {
    "collapsed": true
   },
   "outputs": [],
   "source": [
    "def display_data(X):\n",
    "    \n",
    "    # Compute rows and cols of whole image\n",
    "    m = X.shape[0] # number of images\n",
    "    display_rows = math.floor(math.sqrt(m))\n",
    "    display_cols = math.ceil(m / display_rows)\n",
    "    \n",
    "    # Compute size of each subimage\n",
    "    n = X.shape[1] # pixels per image\n",
    "    image_side = int(math.sqrt(n))\n",
    "\n",
    "    plt.figure(figsize=(8,8))\n",
    "    \n",
    "    for i in range(m):\n",
    "        image = X[i, 1:] # ignore first (bias) column\n",
    "        image = np.reshape(image, (image_side, image_side), order='F')\n",
    "        plt.subplot(display_rows, display_cols, i+1)\n",
    "        plt.imshow(image, cmap='Greys')\n",
    "        plt.axis('off')\n",
    "        \n",
    "    plt.subplots_adjust(wspace=0.1, hspace=0.1)\n",
    "    plt.show()"
   ]
  },
  {
   "cell_type": "code",
   "execution_count": 44,
   "metadata": {},
   "outputs": [
    {
     "name": "stdout",
     "output_type": "stream",
     "text": [
      "Visualisation of the 25 units in the hidden layer of our neural network\n"
     ]
    },
    {
     "data": {
      "image/png": "[encoded data removed]",
      "text/plain": [
       "<matplotlib.figure.Figure at 0x11ba61d30>"
      ]
     },
     "metadata": {},
     "output_type": "display_data"
    }
   ],
   "source": [
    "print('Visualisation of the 25 units in the hidden layer of our neural network')\n",
    "display_data(Theta1)"
   ]
  }
 ],
 "metadata": {
  "kernelspec": {
   "display_name": "Python 3",
   "language": "python",
   "name": "python3"
  },
  "language_info": {
   "codemirror_mode": {
    "name": "ipython",
    "version": 3
   },
   "file_extension": ".py",
   "mimetype": "text/x-python",
   "name": "python",
   "nbconvert_exporter": "python",
   "pygments_lexer": "ipython3",
   "version": "3.6.2"
  }
 },
 "nbformat": 4,
 "nbformat_minor": 2
}
