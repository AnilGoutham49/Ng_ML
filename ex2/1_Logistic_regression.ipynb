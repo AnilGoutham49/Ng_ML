{
 "cells": [
  {
   "cell_type": "markdown",
   "metadata": {},
   "source": [
    "# 1 Logistic Regression"
   ]
  },
  {
   "cell_type": "markdown",
   "metadata": {},
   "source": [
    "## 1.1 Visualizing the data"
   ]
  },
  {
   "cell_type": "code",
   "execution_count": 1,
   "metadata": {
    "collapsed": true
   },
   "outputs": [],
   "source": [
    "import matplotlib.pyplot as plt\n",
    "import numpy as np\n",
    "from numpy import genfromtxt"
   ]
  },
  {
   "cell_type": "code",
   "execution_count": 2,
   "metadata": {},
   "outputs": [
    {
     "name": "stdout",
     "output_type": "stream",
     "text": [
      "[[ 34.62365962  78.02469282   0.        ]\n",
      " [ 30.28671077  43.89499752   0.        ]\n",
      " [ 35.84740877  72.90219803   0.        ]\n",
      " [ 60.18259939  86.3085521    1.        ]\n",
      " [ 79.03273605  75.34437644   1.        ]]\n"
     ]
    }
   ],
   "source": [
    "data = genfromtxt('data/ex2data1.txt', delimiter=',')\n",
    "# Print first five rows to see what it looks like\n",
    "print(data[:5, :])"
   ]
  },
  {
   "cell_type": "code",
   "execution_count": 3,
   "metadata": {},
   "outputs": [
    {
     "name": "stdout",
     "output_type": "stream",
     "text": [
      "[[ 34.62365962  78.02469282]\n",
      " [ 30.28671077  43.89499752]\n",
      " [ 35.84740877  72.90219803]\n",
      " [ 60.18259939  86.3085521 ]\n",
      " [ 79.03273605  75.34437644]]\n"
     ]
    }
   ],
   "source": [
    "X = data[:, 0:2] # scores on test1, test2\n",
    "Y = data[:, 2] # admitted yes/no\n",
    "\n",
    "print(X[:5])"
   ]
  },
  {
   "cell_type": "code",
   "execution_count": 4,
   "metadata": {},
   "outputs": [
    {
     "name": "stdout",
     "output_type": "stream",
     "text": [
      "[ 0.  0.  0.  1.  1.]\n"
     ]
    }
   ],
   "source": [
    "print(Y[:5])"
   ]
  },
  {
   "cell_type": "code",
   "execution_count": 5,
   "metadata": {},
   "outputs": [
    {
     "data": {
      "image/png": "[encoded data removed]",
      "text/plain": [
       "<matplotlib.figure.Figure at 0x109cb30f0>"
      ]
     },
     "metadata": {},
     "output_type": "display_data"
    }
   ],
   "source": [
    "plt.figure(figsize=(10, 7))\n",
    "plt.scatter(X[Y==1, 0], X[Y==1, 1], c='g', marker='P')\n",
    "plt.scatter(X[Y==0, 0], X[Y==0, 1], c='r', marker='o')\n",
    "plt.xlabel('Exam 1 score')\n",
    "plt.ylabel('Exam 2 score')\n",
    "plt.legend(['Admitted','Not admitted'])\n",
    "plt.show()"
   ]
  },
  {
   "cell_type": "markdown",
   "metadata": {},
   "source": [
    "## 1.2 Implementation"
   ]
  },
  {
   "cell_type": "markdown",
   "metadata": {},
   "source": [
    "### 1.2.1 Warmup exercise: sigmoid function"
   ]
  },
  {
   "cell_type": "code",
   "execution_count": 6,
   "metadata": {
    "collapsed": true
   },
   "outputs": [],
   "source": [
    "import math\n",
    "\n",
    "def sigmoid(z):\n",
    "    g = 1. / (1. + math.exp(-z))\n",
    "    return g\n",
    "\n",
    "# Vectorize sigmoid function so it works on all elements of a numpy array\n",
    "sigmoid = np.vectorize(sigmoid)"
   ]
  },
  {
   "cell_type": "code",
   "execution_count": 7,
   "metadata": {},
   "outputs": [
    {
     "data": {
      "text/plain": [
       "array([[ 0.5]])"
      ]
     },
     "execution_count": 7,
     "metadata": {},
     "output_type": "execute_result"
    }
   ],
   "source": [
    "# Test sigmoid function\n",
    "test = np.array([[0]])\n",
    "sigmoid(test)"
   ]
  },
  {
   "cell_type": "code",
   "execution_count": 8,
   "metadata": {},
   "outputs": [
    {
     "data": {
      "text/plain": [
       "array(0.5)"
      ]
     },
     "execution_count": 8,
     "metadata": {},
     "output_type": "execute_result"
    }
   ],
   "source": [
    "sigmoid(0)"
   ]
  },
  {
   "cell_type": "code",
   "execution_count": 9,
   "metadata": {},
   "outputs": [
    {
     "data": {
      "text/plain": [
       "array([[  4.53978687e-05,   2.68941421e-01],\n",
       "       [  5.00000000e-01,   5.00000000e-01],\n",
       "       [  7.31058579e-01,   9.99954602e-01]])"
      ]
     },
     "execution_count": 9,
     "metadata": {},
     "output_type": "execute_result"
    }
   ],
   "source": [
    "test = np.array([[-10,-1], [0,0], [1,10]])\n",
    "sigmoid(test)"
   ]
  },
  {
   "cell_type": "markdown",
   "metadata": {},
   "source": [
    "### 1.2.2 Cost function and gradient"
   ]
  },
  {
   "cell_type": "code",
   "execution_count": 10,
   "metadata": {
    "collapsed": true
   },
   "outputs": [],
   "source": [
    "# Setup the data matrix appropriately, and add ones for the intercept term\n",
    "[m, n] = X.shape"
   ]
  },
  {
   "cell_type": "code",
   "execution_count": 11,
   "metadata": {
    "collapsed": true
   },
   "outputs": [],
   "source": [
    "# Add intercept term to X\n",
    "X = np.column_stack((np.ones(m), X))"
   ]
  },
  {
   "cell_type": "code",
   "execution_count": 12,
   "metadata": {
    "collapsed": true
   },
   "outputs": [],
   "source": [
    "# Initialize fitting parameters\n",
    "initial_theta = np.zeros([n + 1, 1])"
   ]
  },
  {
   "cell_type": "code",
   "execution_count": 13,
   "metadata": {
    "collapsed": true
   },
   "outputs": [],
   "source": [
    "def costFunction(theta, X, y):\n",
    "    \n",
    "    # Cost\n",
    "    J = 0\n",
    "    m = len(y)\n",
    "    \n",
    "    for i in range(m):\n",
    "        z = np.dot(theta.T, X[i])\n",
    "        J += -y[i]*math.log(sigmoid(z)) - (1 - y[i])*math.log((1 - sigmoid(z)))\n",
    "    \n",
    "    J = J/m\n",
    "    \n",
    "    # Gradient\n",
    "    grad = np.zeros(theta.shape)\n",
    "    \n",
    "    for j in range(X.shape[1]):\n",
    "        for i in range(m):\n",
    "            z = np.dot(theta.T, X[i])\n",
    "            grad[j] += (sigmoid(z) - y[i]) * X[i,j]\n",
    "        grad[j] = grad[j]/m\n",
    "    \n",
    "    return J, grad"
   ]
  },
  {
   "cell_type": "code",
   "execution_count": 14,
   "metadata": {},
   "outputs": [
    {
     "name": "stdout",
     "output_type": "stream",
     "text": [
      "Cost at initial theta (zeros):\n",
      " 0.69314718056\n",
      "Expected cost (approx):\n",
      " 0.693\n",
      "\n",
      "Gradient at initial theta (zeros):\n",
      " [[ -0.1       ]\n",
      " [-12.00921659]\n",
      " [-11.26284221]]\n",
      "\n",
      "Expected gradients (approx):\n",
      " -0.1000\n",
      " -12.0092\n",
      " -11.2628\n",
      "\n"
     ]
    }
   ],
   "source": [
    "# Compute and display initial cost and gradient\n",
    "cost, grad = costFunction(initial_theta, X, Y)\n",
    "\n",
    "print('Cost at initial theta (zeros):\\n', cost)\n",
    "print('Expected cost (approx):\\n 0.693\\n')\n",
    "print('Gradient at initial theta (zeros):\\n', grad)\n",
    "print('\\nExpected gradients (approx):\\n -0.1000\\n -12.0092\\n -11.2628\\n')"
   ]
  },
  {
   "cell_type": "code",
   "execution_count": 15,
   "metadata": {},
   "outputs": [
    {
     "name": "stdout",
     "output_type": "stream",
     "text": [
      "Cost at test theta (zeros):\n",
      " 0.218330193827\n",
      "Expected cost (approx):\n",
      " 0.218\n",
      "\n",
      "Gradient at test theta (zeros):\n",
      " [ 0.04290299  2.56623412  2.64679737]\n",
      "\n",
      "Expected gradients (approx):\n",
      " 0.043\t 2.566\t 2.647\n"
     ]
    }
   ],
   "source": [
    "# Compute and display cost and gradient with non-zero theta\n",
    "test_theta = np.array([-24, 0.2, 0.2])\n",
    "cost, grad = costFunction(test_theta, X, Y)\n",
    "\n",
    "print('Cost at test theta (zeros):\\n', cost)\n",
    "print('Expected cost (approx):\\n 0.218\\n')\n",
    "print('Gradient at test theta (zeros):\\n', grad)\n",
    "print('\\nExpected gradients (approx):\\n 0.043\\t 2.566\\t 2.647')"
   ]
  },
  {
   "cell_type": "markdown",
   "metadata": {},
   "source": [
    "### 1.2.3 Learning parameters using fminunc"
   ]
  },
  {
   "cell_type": "markdown",
   "metadata": {},
   "source": [
    "We're supposed to use Octave's ```fminunc``` function for this. I can't find a python implementation of this, so let's use ```scipy.optimize.minimize(method='TNC')``` instead."
   ]
  },
  {
   "cell_type": "code",
   "execution_count": 16,
   "metadata": {},
   "outputs": [
    {
     "data": {
      "text/plain": [
       "     fun: 0.20349770158947436\n",
       "     jac: array([  8.75697940e-09,   6.43645929e-08,   4.71900562e-07])\n",
       " message: 'Local minimum reached (|pg| ~= 0)'\n",
       "    nfev: 36\n",
       "     nit: 17\n",
       "  status: 0\n",
       " success: True\n",
       "       x: array([-25.16131869,   0.20623159,   0.20147149])"
      ]
     },
     "execution_count": 16,
     "metadata": {},
     "output_type": "execute_result"
    }
   ],
   "source": [
    "from scipy.optimize import minimize\n",
    "res = minimize(fun=costFunction, x0=initial_theta, args=(X, Y), method='TNC', jac=True, options={'maxiter':400})\n",
    "res"
   ]
  },
  {
   "cell_type": "code",
   "execution_count": 17,
   "metadata": {},
   "outputs": [
    {
     "name": "stdout",
     "output_type": "stream",
     "text": [
      "Cost at theta found by fmin_tnc:\n",
      " 0.203497701589\n",
      "Expected cost (approx):\n",
      " 0.203\n",
      "\n",
      "Theta:\n",
      " [-25.16131869   0.20623159   0.20147149]\n",
      "Expected theta (approx):\n",
      " -25.161\t 0.206\t 0.201\n"
     ]
    }
   ],
   "source": [
    "theta = res.x\n",
    "\n",
    "print('Cost at theta found by fmin_tnc:\\n', res.fun)\n",
    "print('Expected cost (approx):\\n 0.203\\n')\n",
    "print('Theta:\\n', res.x)\n",
    "print('Expected theta (approx):\\n -25.161\\t 0.206\\t 0.201')"
   ]
  },
  {
   "cell_type": "code",
   "execution_count": 18,
   "metadata": {
    "collapsed": true
   },
   "outputs": [],
   "source": [
    "def plotDecisionBoundary(theta, X, Y):\n",
    "  \n",
    "    plt.figure(figsize=(10, 7))\n",
    "    plt.scatter(X[Y==1, 1], X[Y==1, 2], c='g', marker='P')\n",
    "    plt.scatter(X[Y==0, 1], X[Y==0, 2], c='r', marker='o')\n",
    "    plt.xlabel('Exam 1 score')\n",
    "    plt.ylabel('Exam 2 score')\n",
    "    \n",
    "    plot_x = [min(X[:,1]-2),  max(X[:,1])+2]\n",
    "    plot_y = [(-1/theta[2])*(theta[1]*plot_x[0] + theta[0]), (-1/theta[2])*(theta[1]*plot_x[1] + theta[0])]\n",
    "    plt.plot(plot_x, plot_y)\n",
    "    \n",
    "    plt.xlim(min(X[:,1]-2),max(X[:,1])+2)\n",
    "    plt.ylim(min(X[:,2]-2),max(X[:,2])+2)\n",
    "    plt.legend(['Decision boundary', 'Admitted', 'Not admitted'])\n",
    "    plt.show()"
   ]
  },
  {
   "cell_type": "code",
   "execution_count": 19,
   "metadata": {},
   "outputs": [
    {
     "data": {
      "image/png": "[encoded data removed]",
      "text/plain": [
       "<matplotlib.figure.Figure at 0x10b81da90>"
      ]
     },
     "metadata": {},
     "output_type": "display_data"
    }
   ],
   "source": [
    "plotDecisionBoundary(theta, X, Y)"
   ]
  },
  {
   "cell_type": "markdown",
   "metadata": {},
   "source": [
    "### 1.2.4 Evaluating logistic regression"
   ]
  },
  {
   "cell_type": "code",
   "execution_count": 20,
   "metadata": {},
   "outputs": [
    {
     "name": "stdout",
     "output_type": "stream",
     "text": [
      "For a student with scores 45 and 85, we predict an admission probability of:\n",
      " 0.7762906253511527\n",
      "Expected value:\n",
      " 0.775 +/- 0.002\n",
      "\n",
      "\n"
     ]
    }
   ],
   "source": [
    "# Predict probability of admission for a student with score 45 on exam 1 and score 85 on exam 2\n",
    "\n",
    "prob = sigmoid(np.dot([1, 45, 85], theta))\n",
    "print('For a student with scores 45 and 85, we predict an admission probability of:\\n', prob)\n",
    "print('Expected value:\\n 0.775 +/- 0.002\\n\\n')"
   ]
  },
  {
   "cell_type": "code",
   "execution_count": 21,
   "metadata": {
    "collapsed": true
   },
   "outputs": [],
   "source": [
    "# Compute accuracy on our training set\n",
    "\n",
    "def predict(theta, X):\n",
    "    \n",
    "    m = X.shape[0] # Number of training examples\n",
    "    p = np.zeros(m)\n",
    "\n",
    "    for i in range(m):\n",
    "        prob = sigmoid(np.dot(X[i,:], theta))\n",
    "        if prob >= 0.5:\n",
    "            p[i] = 1 # Predict \"Admitted\" if prob >= 0.5\n",
    "    \n",
    "    return p"
   ]
  },
  {
   "cell_type": "code",
   "execution_count": 22,
   "metadata": {},
   "outputs": [
    {
     "name": "stdout",
     "output_type": "stream",
     "text": [
      "Training accuracy:\n",
      " 89.0 %\n",
      "Expected accuracy (approx):\n",
      " 89.0 %\n",
      "\n"
     ]
    }
   ],
   "source": [
    "p = predict(theta, X)\n",
    "accuracy = sum(p==Y) / m\n",
    "\n",
    "print('Training accuracy:\\n', accuracy * 100, '%')\n",
    "print('Expected accuracy (approx):\\n 89.0 %\\n')"
   ]
  }
 ],
 "metadata": {
  "kernelspec": {
   "display_name": "Python 3",
   "language": "python",
   "name": "python3"
  },
  "language_info": {
   "codemirror_mode": {
    "name": "ipython",
    "version": 3
   },
   "file_extension": ".py",
   "mimetype": "text/x-python",
   "name": "python",
   "nbconvert_exporter": "python",
   "pygments_lexer": "ipython3",
   "version": "3.6.2"
  }
 },
 "nbformat": 4,
 "nbformat_minor": 2
}
