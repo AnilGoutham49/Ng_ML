{
 "cells": [
  {
   "cell_type": "markdown",
   "metadata": {},
   "source": [
    "# Regularized linear regression and bias vs variance"
   ]
  },
  {
   "cell_type": "markdown",
   "metadata": {},
   "source": [
    "## 1 Regularized Linear Regression"
   ]
  },
  {
   "cell_type": "markdown",
   "metadata": {},
   "source": [
    "\"...you will implement regularized linear regression to predict the amount of water flowing out of a dam using the change of water level in a reservoir.\""
   ]
  },
  {
   "cell_type": "markdown",
   "metadata": {},
   "source": [
    "### 1.1 Visualizing the dataset"
   ]
  },
  {
   "cell_type": "code",
   "execution_count": 1,
   "metadata": {
    "collapsed": true
   },
   "outputs": [],
   "source": [
    "import scipy.io\n",
    "import matplotlib.pyplot as plt\n",
    "import numpy as np\n",
    "from scipy.optimize import minimize"
   ]
  },
  {
   "cell_type": "code",
   "execution_count": 2,
   "metadata": {},
   "outputs": [
    {
     "data": {
      "text/plain": [
       "dict_keys(['__header__', '__version__', '__globals__', 'X', 'y', 'Xtest', 'ytest', 'Xval', 'yval'])"
      ]
     },
     "execution_count": 2,
     "metadata": {},
     "output_type": "execute_result"
    }
   ],
   "source": [
    "# Load training data\n",
    "data = scipy.io.loadmat('data/ex5data1.mat')\n",
    "data.keys()"
   ]
  },
  {
   "cell_type": "code",
   "execution_count": 3,
   "metadata": {
    "collapsed": true
   },
   "outputs": [],
   "source": [
    "# training data X, y\n",
    "X = data['X']\n",
    "y = data['y']"
   ]
  },
  {
   "cell_type": "code",
   "execution_count": 4,
   "metadata": {},
   "outputs": [
    {
     "data": {
      "text/plain": [
       "(12, 1)"
      ]
     },
     "execution_count": 4,
     "metadata": {},
     "output_type": "execute_result"
    }
   ],
   "source": [
    "X.shape"
   ]
  },
  {
   "cell_type": "code",
   "execution_count": 5,
   "metadata": {
    "collapsed": true
   },
   "outputs": [],
   "source": [
    "# cross-validation data Xval, yval\n",
    "Xval = data['Xval']\n",
    "yval = data['yval']"
   ]
  },
  {
   "cell_type": "code",
   "execution_count": 6,
   "metadata": {},
   "outputs": [
    {
     "data": {
      "text/plain": [
       "(21, 1)"
      ]
     },
     "execution_count": 6,
     "metadata": {},
     "output_type": "execute_result"
    }
   ],
   "source": [
    "Xval.shape"
   ]
  },
  {
   "cell_type": "code",
   "execution_count": 7,
   "metadata": {
    "collapsed": true
   },
   "outputs": [],
   "source": [
    "# test data Xtest, ytest\n",
    "Xtest = data['Xtest']\n",
    "ytest = data['ytest']"
   ]
  },
  {
   "cell_type": "code",
   "execution_count": 8,
   "metadata": {},
   "outputs": [
    {
     "data": {
      "text/plain": [
       "(21, 1)"
      ]
     },
     "execution_count": 8,
     "metadata": {},
     "output_type": "execute_result"
    }
   ],
   "source": [
    "Xtest.shape"
   ]
  },
  {
   "cell_type": "code",
   "execution_count": 9,
   "metadata": {
    "collapsed": true
   },
   "outputs": [],
   "source": [
    "m = X.shape[0] # number of training examples"
   ]
  },
  {
   "cell_type": "code",
   "execution_count": 10,
   "metadata": {},
   "outputs": [
    {
     "data": {
      "image/png": "[encoded data removed]",
      "text/plain": [
       "<matplotlib.figure.Figure at 0x10e2ea3c8>"
      ]
     },
     "metadata": {},
     "output_type": "display_data"
    }
   ],
   "source": [
    "# Plot training data\n",
    "plt.figure(figsize=(8,6))\n",
    "plt.plot(X, y, 'rx')\n",
    "plt.xlabel('Change in water level')\n",
    "plt.ylabel('Water flowing out of dam')\n",
    "plt.show()"
   ]
  },
  {
   "cell_type": "markdown",
   "metadata": {},
   "source": [
    "### 1.2 Regularized linear regression cost function"
   ]
  },
  {
   "cell_type": "code",
   "execution_count": 11,
   "metadata": {
    "collapsed": true
   },
   "outputs": [],
   "source": [
    "# complete the code in the file linearRegCostFunction.m\n",
    "# vectorize your code and avoid writing loops\n",
    "# You should expect to see an output of 303.993."
   ]
  },
  {
   "cell_type": "code",
   "execution_count": 12,
   "metadata": {
    "collapsed": true
   },
   "outputs": [],
   "source": [
    "def linear_reg_cost_function(X, y, theta, Lambda):\n",
    "    '''\n",
    "    Computes the cost of using theta as the parameter for linear regression to fit\n",
    "    the data points in X and y, with regularisation constant Lambda.\n",
    "    Returns the cost in J and the gradient in grad.\n",
    "    '''\n",
    "\n",
    "    theta = np.reshape(theta, (X.shape[1], 1))  # undo the fact that scipy.minimize needs flat gradient output\n",
    "                                                # (see comments by grad = np.ndarray.flatten(grad))\n",
    "    \n",
    "    ## Cost\n",
    "    J = 0\n",
    "    grad = np.zeros(theta.shape)\n",
    "    \n",
    "    m = len(y) # number of examples\n",
    "    \n",
    "    J = 1/(2*m) * np.sum((np.dot(X, theta) - y)**2) + Lambda/(2*m) * np.sum(theta[1:]**2)\n",
    "        \n",
    "\n",
    "    ## Gradient\n",
    "    grad[0] = 1/m * np.sum(np.dot((np.dot(X, theta) - y).T, X)[:,0])\n",
    "    grad[1:] = 1/m * np.sum(np.dot((np.dot(X, theta) - y).T, X)[:,1:]) + Lambda/m * theta[1:]\n",
    "       \n",
    "    grad = np.ndarray.flatten(grad) # scipy.minimize requires a flat gradient output,\n",
    "                                    # see https://stackoverflow.com/q/8752169/8291169\n",
    "    \n",
    "#     grad[0] = 1/m * np.sum(((np.dot(X, theta) - y) * X)[:,0])\n",
    "#     grad[1:] = 1/m * np.sum(((np.dot(X, theta) - y) * X)[:,1:]) + Lambda/m * theta[1:]\n",
    "    \n",
    "    return J, grad"
   ]
  },
  {
   "cell_type": "code",
   "execution_count": 13,
   "metadata": {},
   "outputs": [],
   "source": [
    "theta = np.array([[1],[1]]) # lots of square brackets to enforce shape = (2,1)\n",
    "# Add a column of ones to X for bias\n",
    "J = linear_reg_cost_function(np.column_stack((np.ones(m), X)), y, theta, 1)[0]"
   ]
  },
  {
   "cell_type": "code",
   "execution_count": 14,
   "metadata": {},
   "outputs": [
    {
     "name": "stdout",
     "output_type": "stream",
     "text": [
      "Cost at theta = [1, 1]: 303.99319222\n",
      "Expected cost: 303.993192\n"
     ]
    }
   ],
   "source": [
    "print('Cost at theta = [1, 1]:', J)\n",
    "print('Expected cost: 303.993192')"
   ]
  },
  {
   "cell_type": "markdown",
   "metadata": {},
   "source": [
    "### 1.3 Regularized linear regression gradient"
   ]
  },
  {
   "cell_type": "code",
   "execution_count": 15,
   "metadata": {
    "collapsed": true
   },
   "outputs": [],
   "source": [
    "# Gradient calculation implemented in linear_reg_cost_function()"
   ]
  },
  {
   "cell_type": "code",
   "execution_count": 16,
   "metadata": {},
   "outputs": [],
   "source": [
    "J, grad = linear_reg_cost_function(np.column_stack((np.ones(m), X)), y, theta, 1)"
   ]
  },
  {
   "cell_type": "code",
   "execution_count": 17,
   "metadata": {},
   "outputs": [
    {
     "name": "stdout",
     "output_type": "stream",
     "text": [
      "Gradient at theta = [1, 1]:\n",
      " [ -15.30301567  598.25074417]\n",
      "\n",
      "Expected gradient:\n",
      "[[-15.303016]\n",
      "[598.250744]]\n"
     ]
    }
   ],
   "source": [
    "print('Gradient at theta = [1, 1]:\\n', grad)\n",
    "print('\\nExpected gradient:\\n[[-15.303016]\\n[598.250744]]')"
   ]
  },
  {
   "cell_type": "markdown",
   "metadata": {},
   "source": [
    "### 1.4 Fitting linear regression"
   ]
  },
  {
   "cell_type": "code",
   "execution_count": 18,
   "metadata": {},
   "outputs": [],
   "source": [
    "def train_linear_reg(X, y, Lambda):\n",
    "    '''\n",
    "    Trains linear regression using dataset (X, y) and regularization parameter Lambda.\n",
    "    Returns the trained parameters theta.\n",
    "    '''\n",
    "    \n",
    "    theta = np.zeros((X.shape[1], 1))\n",
    "    #theta = np.array([[1],[1]])\n",
    "\n",
    "    def cost_func(t):\n",
    "        return linear_reg_cost_function(X, y, t, Lambda)\n",
    "    \n",
    "    res = minimize(fun=cost_func, x0=theta, method='CG', jac=True, options={'maxiter':200})\n",
    "    theta = res.x\n",
    "    \n",
    "    return theta"
   ]
  },
  {
   "cell_type": "code",
   "execution_count": 19,
   "metadata": {},
   "outputs": [
    {
     "data": {
      "text/plain": [
       "array([ 13.08790351,   0.36777923])"
      ]
     },
     "execution_count": 19,
     "metadata": {},
     "output_type": "execute_result"
    }
   ],
   "source": [
    "# Train linear regression with Lambda = 0\n",
    "# We expect a very poor fit because we're trying to fit non-linear data with a straight line\n",
    "\n",
    "Lambda = 0\n",
    "theta = train_linear_reg(np.column_stack((np.ones(m), X)), y, Lambda)\n",
    "theta"
   ]
  },
  {
   "cell_type": "code",
   "execution_count": 27,
   "metadata": {},
   "outputs": [
    {
     "data": {
      "image/png": "[encoded data removed]",
      "text/plain": [
       "<matplotlib.figure.Figure at 0x1121ab518>"
      ]
     },
     "metadata": {},
     "output_type": "display_data"
    }
   ],
   "source": [
    "# Plot fit and data\n",
    "plt.figure(figsize=(8,6))\n",
    "plt.plot(X, y, 'rx')\n",
    "plt.plot(X, np.dot(np.column_stack((np.ones(m), X)), theta), 'b-')\n",
    "plt.xlabel('Change in water level')\n",
    "plt.ylabel('Water flowing out of dam')\n",
    "plt.show()"
   ]
  }
 ],
 "metadata": {
  "kernelspec": {
   "display_name": "Python 3",
   "language": "python",
   "name": "python3"
  },
  "language_info": {
   "codemirror_mode": {
    "name": "ipython",
    "version": 3
   },
   "file_extension": ".py",
   "mimetype": "text/x-python",
   "name": "python",
   "nbconvert_exporter": "python",
   "pygments_lexer": "ipython3",
   "version": "3.6.2"
  }
 },
 "nbformat": 4,
 "nbformat_minor": 2
}
