{
 "cells": [
  {
   "cell_type": "markdown",
   "metadata": {},
   "source": [
    "# Regularized linear regression and bias vs variance"
   ]
  },
  {
   "cell_type": "markdown",
   "metadata": {},
   "source": [
    "## 1 Regularized Linear Regression"
   ]
  },
  {
   "cell_type": "markdown",
   "metadata": {},
   "source": [
    "\"...you will implement regularized linear regression to predict the amount of water flowing out of a dam using the change of water level in a reservoir.\""
   ]
  },
  {
   "cell_type": "markdown",
   "metadata": {},
   "source": [
    "### 1.1 Visualizing the dataset"
   ]
  },
  {
   "cell_type": "code",
   "execution_count": 1,
   "metadata": {
    "collapsed": true
   },
   "outputs": [],
   "source": [
    "import scipy.io\n",
    "import matplotlib.pyplot as plt\n",
    "import numpy as np\n",
    "from scipy.optimize import minimize"
   ]
  },
  {
   "cell_type": "code",
   "execution_count": 2,
   "metadata": {},
   "outputs": [
    {
     "data": {
      "text/plain": [
       "dict_keys(['__header__', '__version__', '__globals__', 'X', 'y', 'Xtest', 'ytest', 'Xval', 'yval'])"
      ]
     },
     "execution_count": 2,
     "metadata": {},
     "output_type": "execute_result"
    }
   ],
   "source": [
    "# Load training data\n",
    "data = scipy.io.loadmat('data/ex5data1.mat')\n",
    "data.keys()"
   ]
  },
  {
   "cell_type": "code",
   "execution_count": 3,
   "metadata": {
    "collapsed": true
   },
   "outputs": [],
   "source": [
    "# training data X, y\n",
    "X = data['X']\n",
    "y = data['y']"
   ]
  },
  {
   "cell_type": "code",
   "execution_count": 4,
   "metadata": {},
   "outputs": [
    {
     "data": {
      "text/plain": [
       "(12, 1)"
      ]
     },
     "execution_count": 4,
     "metadata": {},
     "output_type": "execute_result"
    }
   ],
   "source": [
    "X.shape"
   ]
  },
  {
   "cell_type": "code",
   "execution_count": 5,
   "metadata": {
    "collapsed": true
   },
   "outputs": [],
   "source": [
    "# cross-validation data Xval, yval\n",
    "Xval = data['Xval']\n",
    "yval = data['yval']"
   ]
  },
  {
   "cell_type": "code",
   "execution_count": 6,
   "metadata": {},
   "outputs": [
    {
     "data": {
      "text/plain": [
       "(21, 1)"
      ]
     },
     "execution_count": 6,
     "metadata": {},
     "output_type": "execute_result"
    }
   ],
   "source": [
    "Xval.shape"
   ]
  },
  {
   "cell_type": "code",
   "execution_count": 7,
   "metadata": {
    "collapsed": true
   },
   "outputs": [],
   "source": [
    "# test data Xtest, ytest\n",
    "Xtest = data['Xtest']\n",
    "ytest = data['ytest']"
   ]
  },
  {
   "cell_type": "code",
   "execution_count": 8,
   "metadata": {},
   "outputs": [
    {
     "data": {
      "text/plain": [
       "(21, 1)"
      ]
     },
     "execution_count": 8,
     "metadata": {},
     "output_type": "execute_result"
    }
   ],
   "source": [
    "Xtest.shape"
   ]
  },
  {
   "cell_type": "code",
   "execution_count": 9,
   "metadata": {
    "collapsed": true
   },
   "outputs": [],
   "source": [
    "m = X.shape[0] # number of training examples"
   ]
  },
  {
   "cell_type": "code",
   "execution_count": 10,
   "metadata": {},
   "outputs": [
    {
     "data": {
      "image/png": "[encoded data removed]",
      "text/plain": [
       "<matplotlib.figure.Figure at 0x10c00b390>"
      ]
     },
     "metadata": {},
     "output_type": "display_data"
    }
   ],
   "source": [
    "# Plot training data\n",
    "plt.figure(figsize=(8,6))\n",
    "plt.plot(X, y, 'rx')\n",
    "plt.xlabel('Change in water level')\n",
    "plt.ylabel('Water flowing out of dam')\n",
    "plt.show()"
   ]
  },
  {
   "cell_type": "markdown",
   "metadata": {},
   "source": [
    "### 1.2 Regularized linear regression cost function"
   ]
  },
  {
   "cell_type": "code",
   "execution_count": 11,
   "metadata": {
    "collapsed": true
   },
   "outputs": [],
   "source": [
    "def linear_reg_cost_function(X, y, theta, Lambda):\n",
    "    '''\n",
    "    Computes the cost of using theta as the parameter for linear regression to fit\n",
    "    the data points in X and y, with regularisation constant Lambda.\n",
    "    Returns the cost in J and the gradient in grad.\n",
    "    '''\n",
    "\n",
    "    # undo the fact that scipy.minimize needs flat gradient output\n",
    "    # (see comments by grad = np.ndarray.flatten(grad))\n",
    "    theta = np.reshape(theta, (X.shape[1], 1))\n",
    "\n",
    "    \n",
    "    ## Cost\n",
    "    J = 0\n",
    "    grad = np.zeros(theta.shape)\n",
    "    \n",
    "    m = len(y) # number of examples\n",
    "    \n",
    "    J = 1/(2*m) * np.sum((np.dot(X, theta) - y)**2) + Lambda/(2*m) * np.sum(theta[1:]**2)\n",
    "        \n",
    "\n",
    "    ## Gradient\n",
    "    grad[0] = 1/m * np.dot((np.dot(X, theta) - y).T, X)[:,0]\n",
    "    grad[1:] = (1/m * np.dot((np.dot(X, theta) - y).T, X)[:,1:] + Lambda/m * theta[1:].T).T\n",
    "       \n",
    "    # scipy.minimize requires a flat gradient output,\n",
    "    # see https://stackoverflow.com/q/8752169/8291169\n",
    "    grad = np.ndarray.flatten(grad)\n",
    "    \n",
    "    return J, grad"
   ]
  },
  {
   "cell_type": "code",
   "execution_count": 12,
   "metadata": {},
   "outputs": [],
   "source": [
    "theta = np.array([[1],[1]]) # lots of square brackets to enforce shape = (2,1)\n",
    "# Add a column of ones to X for bias\n",
    "J = linear_reg_cost_function(np.column_stack((np.ones(m), X)), y, theta, 1)[0]"
   ]
  },
  {
   "cell_type": "code",
   "execution_count": 13,
   "metadata": {},
   "outputs": [
    {
     "name": "stdout",
     "output_type": "stream",
     "text": [
      "Cost at theta = [1, 1]: 303.99319222\n",
      "Expected cost: 303.993192\n"
     ]
    }
   ],
   "source": [
    "print('Cost at theta = [1, 1]:', J)\n",
    "print('Expected cost: 303.993192')"
   ]
  },
  {
   "cell_type": "markdown",
   "metadata": {},
   "source": [
    "### 1.3 Regularized linear regression gradient"
   ]
  },
  {
   "cell_type": "code",
   "execution_count": 14,
   "metadata": {
    "collapsed": true
   },
   "outputs": [],
   "source": [
    "# Gradient calculation implemented in linear_reg_cost_function()"
   ]
  },
  {
   "cell_type": "code",
   "execution_count": 15,
   "metadata": {},
   "outputs": [],
   "source": [
    "J, grad = linear_reg_cost_function(np.column_stack((np.ones(m), X)), y, theta, 1)"
   ]
  },
  {
   "cell_type": "code",
   "execution_count": 16,
   "metadata": {},
   "outputs": [
    {
     "name": "stdout",
     "output_type": "stream",
     "text": [
      "Gradient at theta = [1, 1]:\n",
      " [ -15.30301567  598.25074417]\n",
      "\n",
      "Expected gradient:\n",
      "[-15.303016, 598.250744]\n"
     ]
    }
   ],
   "source": [
    "print('Gradient at theta = [1, 1]:\\n', grad)\n",
    "print('\\nExpected gradient:\\n[-15.303016, 598.250744]')"
   ]
  },
  {
   "cell_type": "markdown",
   "metadata": {},
   "source": [
    "### 1.4 Fitting linear regression"
   ]
  },
  {
   "cell_type": "code",
   "execution_count": 17,
   "metadata": {
    "collapsed": true
   },
   "outputs": [],
   "source": [
    "def train_linear_reg(X, y, Lambda):\n",
    "    '''\n",
    "    Trains linear regression using dataset (X, y) and regularization parameter Lambda.\n",
    "    Returns the trained parameters theta.\n",
    "    '''\n",
    "    \n",
    "    theta = np.zeros((X.shape[1], 1))\n",
    "\n",
    "    def cost_func(t):\n",
    "        return linear_reg_cost_function(X, y, t, Lambda)\n",
    "    \n",
    "    res = minimize(fun=cost_func, x0=theta, method='CG', jac=True, options={'maxiter':200})\n",
    "    theta = res.x\n",
    "    \n",
    "    return theta"
   ]
  },
  {
   "cell_type": "code",
   "execution_count": 18,
   "metadata": {},
   "outputs": [
    {
     "data": {
      "text/plain": [
       "array([ 13.08790351,   0.36777923])"
      ]
     },
     "execution_count": 18,
     "metadata": {},
     "output_type": "execute_result"
    }
   ],
   "source": [
    "# Train linear regression with Lambda = 0\n",
    "# We expect a very poor fit because we're trying to fit non-linear data with a straight line\n",
    "\n",
    "Lambda = 0\n",
    "theta = train_linear_reg(np.column_stack((np.ones(m), X)), y, Lambda)\n",
    "theta"
   ]
  },
  {
   "cell_type": "code",
   "execution_count": 19,
   "metadata": {},
   "outputs": [
    {
     "data": {
      "image/png": "[encoded data removed]",
      "text/plain": [
       "<matplotlib.figure.Figure at 0x104322fd0>"
      ]
     },
     "metadata": {},
     "output_type": "display_data"
    }
   ],
   "source": [
    "# Plot data and fit\n",
    "plt.figure(figsize=(8,6))\n",
    "plt.plot(X, y, 'rx')\n",
    "plt.plot(X, np.dot(np.column_stack((np.ones(m), X)), theta), 'b-')\n",
    "plt.xlabel('Change in water level')\n",
    "plt.ylabel('Water flowing out of dam')\n",
    "plt.show()\n",
    "\n",
    "# As expected, a very poor fit because we're trying to fit non-linear data with a straight line"
   ]
  },
  {
   "cell_type": "markdown",
   "metadata": {},
   "source": [
    "## 2 Bias-variance"
   ]
  },
  {
   "cell_type": "markdown",
   "metadata": {},
   "source": [
    "### 2.1 Learning curves"
   ]
  },
  {
   "cell_type": "code",
   "execution_count": 20,
   "metadata": {
    "collapsed": true
   },
   "outputs": [],
   "source": [
    "def learning_curve(X, y, Xval, yval, Lambda):\n",
    "    \n",
    "    '''\n",
    "    Returns the training and cross validation set errors\n",
    "    for a learning curve in two vectors of the same length\n",
    "    - error_train and error_val. error_train(i) contains\n",
    "    the training error for i examples (and similarly for error_val(i)).\n",
    "    '''\n",
    "    \n",
    "    m = X.shape[0] # number of training examples\n",
    "    m_val = Xval.shape[0] # number of validation examples\n",
    "    \n",
    "    error_train = np.zeros((m, 1))\n",
    "    error_val = np.zeros((m, 1))\n",
    "    \n",
    "    # Compute for different sizes of training set\n",
    "    for i in range(m):\n",
    "        # Train using i training examples\n",
    "        theta = train_linear_reg(X[:i+1], y[:i+1], Lambda)\n",
    "        \n",
    "        # Calculate error_train for i training examples\n",
    "        # (just comptue cost with Lambda=0)\n",
    "        error_train[i] = linear_reg_cost_function(X[:i+1], y[:i+1], theta, 0)[0]\n",
    "        \n",
    "        # Calculate error_val using all validation examples\n",
    "        # (just comptue cost with Lambda=0)\n",
    "        error_val[i] = linear_reg_cost_function(Xval, yval, theta, 0)[0]\n",
    "        \n",
    "    return error_train, error_val"
   ]
  },
  {
   "cell_type": "code",
   "execution_count": 21,
   "metadata": {},
   "outputs": [],
   "source": [
    "Lambda = 0\n",
    "m_val = Xval.shape[0] # number of validation examples\n",
    "\n",
    "error_train, error_val = learning_curve(np.column_stack((np.ones(m), X)), y, \n",
    "                                        np.column_stack((np.ones(m_val), Xval)), yval,\n",
    "                                        Lambda)"
   ]
  },
  {
   "cell_type": "code",
   "execution_count": 22,
   "metadata": {},
   "outputs": [
    {
     "data": {
      "image/png": "[encoded data removed]",
      "text/plain": [
       "<matplotlib.figure.Figure at 0x10f485e10>"
      ]
     },
     "metadata": {},
     "output_type": "display_data"
    }
   ],
   "source": [
    "plt.figure(figsize=(8,6))\n",
    "plt.plot(range(1, m+1), error_train)\n",
    "plt.plot(range(1, m+1), error_val)\n",
    "plt.legend(['Training error', 'Validation error'])\n",
    "plt.xlabel('Number of training examples')\n",
    "plt.ylabel('Error')\n",
    "plt.title('Learning curve for linear regression')\n",
    "plt.show()\n",
    "\n",
    "# Since the model is underfitting the data, we expect to see a graph with high bias,\n",
    "# i.e. both training error and cross-validation error are high even with many\n",
    "# training examples - adding more training data does not help."
   ]
  },
  {
   "cell_type": "markdown",
   "metadata": {},
   "source": [
    "## 3 Polynomial regression"
   ]
  },
  {
   "cell_type": "markdown",
   "metadata": {},
   "source": [
    "\"The problem with our linear model was that it was too simple for the data and resulted in underfitting (high bias). In this part of the exercise, you will address this problem by adding more features.\""
   ]
  },
  {
   "cell_type": "code",
   "execution_count": 23,
   "metadata": {
    "collapsed": true
   },
   "outputs": [],
   "source": [
    "def poly_features(X, p):\n",
    "    '''\n",
    "    Takes a data matrix X (size m x 1) and\n",
    "    maps each example into its polynomial features where\n",
    "    X_poly(i, :) = [X(i) X(i).^2 X(i).^3 ...  X(i).^p]\n",
    "    '''\n",
    "    \n",
    "    X_poly = np.zeros((X.size, p))\n",
    "    \n",
    "    for i in range(p):\n",
    "        X_poly[:, i] = X[:,0]**(i+1)\n",
    "        # Need to specify 0th column otherwise we get a shape mismatch...\n",
    "    \n",
    "    return X_poly"
   ]
  },
  {
   "cell_type": "code",
   "execution_count": 24,
   "metadata": {
    "collapsed": true
   },
   "outputs": [],
   "source": [
    "def feature_normalise(X):\n",
    "    '''\n",
    "    Returns a normalized version of X where the mean value\n",
    "    of each feature (column) is 0 and the standard deviation is 1.\n",
    "    '''\n",
    "    \n",
    "    mu = np.mean(X, axis=0)\n",
    "    X_norm = X - mu\n",
    "    \n",
    "    sigma = np.std(X_norm, axis=0)\n",
    "    X_norm = X_norm / sigma\n",
    "    \n",
    "    return X_norm, mu, sigma"
   ]
  },
  {
   "cell_type": "code",
   "execution_count": 25,
   "metadata": {
    "collapsed": true
   },
   "outputs": [],
   "source": [
    "p = 8 # order of polynomial features"
   ]
  },
  {
   "cell_type": "code",
   "execution_count": 26,
   "metadata": {},
   "outputs": [
    {
     "name": "stdout",
     "output_type": "stream",
     "text": [
      "Normalized Training Example 1:\n",
      "[ 1.         -0.8389201   0.0013142  -0.25896174 -0.34156482  0.09754927\n",
      " -0.45519664  0.26677343 -0.46887381]\n"
     ]
    }
   ],
   "source": [
    "# Map X onto polynomial features and normalize\n",
    "X_poly = poly_features(X, p)\n",
    "X_poly, mu, sigma = feature_normalise(X_poly) # Normalize\n",
    "X_poly = np.column_stack((np.ones(m), X_poly)) # Add bias column\n",
    "\n",
    "# Map X_poly_test and normalize using mu and sigma from training data X\n",
    "X_poly_test = poly_features(Xtest, p)\n",
    "X_poly_test = X_poly_test - mu\n",
    "X_poly_test = X_poly_test / sigma\n",
    "m_test = Xtest.shape[0]\n",
    "X_poly_test = np.column_stack((np.ones(m_test), X_poly_test)) # Add bias column\n",
    "\n",
    "# Map X_poly_val and normalize using mu and sigma from training data X\n",
    "X_poly_val = poly_features(Xval, p)\n",
    "X_poly_val = X_poly_val - mu\n",
    "X_poly_val = X_poly_val / sigma\n",
    "m_val = Xval.shape[0]\n",
    "X_poly_val = np.column_stack((np.ones(m_val), X_poly_val)) # Add bias column\n",
    "\n",
    "print('Normalized Training Example 1:')\n",
    "print(X_poly[1,:])"
   ]
  },
  {
   "cell_type": "markdown",
   "metadata": {
    "collapsed": true
   },
   "source": [
    "### 3.1 Learning Polynomial Regression"
   ]
  },
  {
   "cell_type": "code",
   "execution_count": 27,
   "metadata": {},
   "outputs": [],
   "source": [
    "Lambda = 0\n",
    "theta = train_linear_reg(X_poly, y, Lambda)"
   ]
  },
  {
   "cell_type": "code",
   "execution_count": 28,
   "metadata": {
    "collapsed": true
   },
   "outputs": [],
   "source": [
    "def plot_fit(min_x, max_x, mu, sigma, theta, p):\n",
    "    \n",
    "    x = np.arange(min_x-10, max_x+10, 0.05)\n",
    "    m = x.shape[0]\n",
    "    x = np.reshape(x, (m,1))\n",
    "    \n",
    "    x_poly = poly_features(x, p)\n",
    "    x_poly = x_poly - mu\n",
    "    x_poly = x_poly / sigma\n",
    "    x_poly = np.column_stack((np.ones(m), x_poly))\n",
    "    plt.plot(x, np.dot(x_poly, theta), '--')"
   ]
  },
  {
   "cell_type": "code",
   "execution_count": 29,
   "metadata": {},
   "outputs": [
    {
     "data": {
      "image/png": "[encoded data removed]",
      "text/plain": [
       "<matplotlib.figure.Figure at 0x10f6062e8>"
      ]
     },
     "metadata": {},
     "output_type": "display_data"
    }
   ],
   "source": [
    "plt.figure(figsize=(8,6))\n",
    "plt.plot(X, y, 'rx')\n",
    "plot_fit(min(X), max(X), mu, sigma, theta, p)\n",
    "plt.xlabel('Change in water level')\n",
    "plt.ylabel('Water flowing out of dam')\n",
    "plt.title('Polynomial Regression Fit with Lambda=0')\n",
    "plt.show()\n",
    "\n",
    "# We expect to see an overfit to the training data (i.e. high variance)\n",
    "# because we're using Lambda=0 (i.e. no regularisation) and high-order\n",
    "# polynomial features."
   ]
  }
 ],
 "metadata": {
  "kernelspec": {
   "display_name": "Python 3",
   "language": "python",
   "name": "python3"
  },
  "language_info": {
   "codemirror_mode": {
    "name": "ipython",
    "version": 3
   },
   "file_extension": ".py",
   "mimetype": "text/x-python",
   "name": "python",
   "nbconvert_exporter": "python",
   "pygments_lexer": "ipython3",
   "version": "3.6.2"
  }
 },
 "nbformat": 4,
 "nbformat_minor": 2
}
