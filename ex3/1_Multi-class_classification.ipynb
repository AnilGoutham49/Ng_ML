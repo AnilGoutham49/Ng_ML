{
 "cells": [
  {
   "cell_type": "markdown",
   "metadata": {},
   "source": [
    "# 1 Multi-class Classification"
   ]
  },
  {
   "cell_type": "code",
   "execution_count": 1,
   "metadata": {
    "collapsed": true
   },
   "outputs": [],
   "source": [
    "import numpy as np\n",
    "import scipy.io as sio\n",
    "from scipy.optimize import minimize\n",
    "import matplotlib.pyplot as plt\n",
    "import matplotlib.gridspec as gridspec\n",
    "import math"
   ]
  },
  {
   "cell_type": "markdown",
   "metadata": {},
   "source": [
    "## 1.1 Dataset"
   ]
  },
  {
   "cell_type": "code",
   "execution_count": 2,
   "metadata": {},
   "outputs": [
    {
     "data": {
      "text/plain": [
       "{'X': array([[ 0.,  0.,  0., ...,  0.,  0.,  0.],\n",
       "        [ 0.,  0.,  0., ...,  0.,  0.,  0.],\n",
       "        [ 0.,  0.,  0., ...,  0.,  0.,  0.],\n",
       "        ..., \n",
       "        [ 0.,  0.,  0., ...,  0.,  0.,  0.],\n",
       "        [ 0.,  0.,  0., ...,  0.,  0.,  0.],\n",
       "        [ 0.,  0.,  0., ...,  0.,  0.,  0.]]),\n",
       " '__globals__': [],\n",
       " '__header__': b'MATLAB 5.0 MAT-file, Platform: GLNXA64, Created on: Sun Oct 16 13:09:09 2011',\n",
       " '__version__': '1.0',\n",
       " 'y': array([[10],\n",
       "        [10],\n",
       "        [10],\n",
       "        ..., \n",
       "        [ 9],\n",
       "        [ 9],\n",
       "        [ 9]], dtype=uint8)}"
      ]
     },
     "execution_count": 2,
     "metadata": {},
     "output_type": "execute_result"
    }
   ],
   "source": [
    "data = sio.loadmat('data/ex3data1.mat')\n",
    "data"
   ]
  },
  {
   "cell_type": "code",
   "execution_count": 3,
   "metadata": {},
   "outputs": [
    {
     "data": {
      "text/plain": [
       "(5000, 400)"
      ]
     },
     "execution_count": 3,
     "metadata": {},
     "output_type": "execute_result"
    }
   ],
   "source": [
    "# X is 5,000 examples of 20x20 pixel images, each image is a handwritten number\n",
    "# Each 20x20 image is stored as a 400-dimensional vector\n",
    "data['X'].shape"
   ]
  },
  {
   "cell_type": "code",
   "execution_count": 4,
   "metadata": {},
   "outputs": [
    {
     "data": {
      "text/plain": [
       "(5000, 1)"
      ]
     },
     "execution_count": 4,
     "metadata": {},
     "output_type": "execute_result"
    }
   ],
   "source": [
    "# y is the numeral represented by each image\n",
    "data['y'].shape"
   ]
  },
  {
   "cell_type": "code",
   "execution_count": 5,
   "metadata": {
    "collapsed": true
   },
   "outputs": [],
   "source": [
    "# Store in numpy arrays to make things easier\n",
    "X = data['X']\n",
    "y = data['y']"
   ]
  },
  {
   "cell_type": "markdown",
   "metadata": {},
   "source": [
    "## 1.2 Visualizing the data"
   ]
  },
  {
   "cell_type": "code",
   "execution_count": 6,
   "metadata": {
    "collapsed": true
   },
   "outputs": [],
   "source": [
    "m = X.shape[0] # number of examples"
   ]
  },
  {
   "cell_type": "code",
   "execution_count": 7,
   "metadata": {
    "collapsed": true
   },
   "outputs": [],
   "source": [
    "# Randomly select 100 images to display\n",
    "rand_indices = np.random.permutation(m)\n",
    "sel = X[rand_indices[0:100], :]"
   ]
  },
  {
   "cell_type": "code",
   "execution_count": 8,
   "metadata": {
    "collapsed": true
   },
   "outputs": [],
   "source": [
    "def displayData(X):\n",
    "    '''\n",
    "    Displays 2D data stored in X in a nice grid.\n",
    "    '''\n",
    "    m = X.shape[0] # number of images\n",
    "    display_rows = math.floor(math.sqrt(m))\n",
    "    display_cols = math.ceil(m / display_rows)\n",
    "    \n",
    "    n = X.shape[1] # total number of pixels per image\n",
    "    image_side = int(math.sqrt(n))\n",
    "    \n",
    "    plt.figure(figsize=(8,8))\n",
    "    \n",
    "    for i in range(m):\n",
    "        image = X[i]\n",
    "        image = np.reshape(image, (image_side, image_side), order='F')\n",
    "        plt.subplot(display_rows, display_cols, i+1)\n",
    "        plt.imshow(image, cmap='Greys')\n",
    "        plt.axis('off')\n",
    "\n",
    "    plt.subplots_adjust(wspace=0.1, hspace=0.1)\n",
    "    plt.show()"
   ]
  },
  {
   "cell_type": "code",
   "execution_count": 9,
   "metadata": {},
   "outputs": [
    {
     "data": {
      "image/png": "[encoded data removed]",
      "text/plain": [
       "<matplotlib.figure.Figure at 0x115a206a0>"
      ]
     },
     "metadata": {},
     "output_type": "display_data"
    }
   ],
   "source": [
    "displayData(sel)"
   ]
  },
  {
   "cell_type": "markdown",
   "metadata": {},
   "source": [
    "## 1.3 Vectorizing Logistic Regression"
   ]
  },
  {
   "cell_type": "markdown",
   "metadata": {},
   "source": [
    "### 1.3.1 Vectorizing the cost function"
   ]
  },
  {
   "cell_type": "code",
   "execution_count": 10,
   "metadata": {},
   "outputs": [
    {
     "data": {
      "text/plain": [
       "array([[ 1. ,  0.1,  0.6,  1.1],\n",
       "       [ 1. ,  0.2,  0.7,  1.2],\n",
       "       [ 1. ,  0.3,  0.8,  1.3],\n",
       "       [ 1. ,  0.4,  0.9,  1.4],\n",
       "       [ 1. ,  0.5,  1. ,  1.5]])"
      ]
     },
     "execution_count": 10,
     "metadata": {},
     "output_type": "execute_result"
    }
   ],
   "source": [
    "# Test case for lrCostFunction\n",
    "theta_t = np.array([-2, -1, 1, 2])\n",
    "lambda_t = 3\n",
    "\n",
    "X_0 = np.ones([5,1])\n",
    "X_i = np.reshape(np.arange(0.1, 1.6, 0.1), [5,3], order='F')\n",
    "X_t = np.column_stack((X_0, X_i))\n",
    "X_t"
   ]
  },
  {
   "cell_type": "code",
   "execution_count": 11,
   "metadata": {},
   "outputs": [
    {
     "data": {
      "text/plain": [
       "array([1, 0, 1, 0, 1])"
      ]
     },
     "execution_count": 11,
     "metadata": {},
     "output_type": "execute_result"
    }
   ],
   "source": [
    "y_t = np.array([1,0,1,0,1])\n",
    "y_t"
   ]
  },
  {
   "cell_type": "code",
   "execution_count": 12,
   "metadata": {
    "collapsed": true
   },
   "outputs": [],
   "source": [
    "def sigmoid(z):\n",
    "    g = 1. / (1. + math.exp(-z))\n",
    "    return g\n",
    "\n",
    "sigmoid = np.vectorize(sigmoid)"
   ]
  },
  {
   "cell_type": "code",
   "execution_count": 13,
   "metadata": {
    "collapsed": true
   },
   "outputs": [],
   "source": [
    "def lrCostFunction(theta, X, y, Lambda):\n",
    "    '''\n",
    "    Computes cost and gradient for regularised logisitic regression, without any for loops!\n",
    "    '''\n",
    "    m = len(y) # number of examples\n",
    "    \n",
    "    \n",
    "    # Cost\n",
    "    J = 0\n",
    "    J1 = 0\n",
    "    J2 = 0\n",
    "    \n",
    "    z = np.dot(X, theta)\n",
    "    J1 = (1/m) * np.sum(-y*np.log(sigmoid(z)) - (1 - y)*np.log((1 - sigmoid(z))))\n",
    "    J2 = np.sum(theta[1:]**2) * Lambda / (2*m)\n",
    "    J = J1 + J2\n",
    "    \n",
    "    \n",
    "    # Gradient\n",
    "    grad = np.zeros(theta.shape)\n",
    "    \n",
    "    z = np.dot(X, theta)    \n",
    "    grad = (1/m) * np.dot(X.T, (sigmoid(z) - y))\n",
    "    grad[1:] += Lambda/m * theta[1:] \n",
    "    \n",
    "    \n",
    "    return J, grad"
   ]
  },
  {
   "cell_type": "code",
   "execution_count": 14,
   "metadata": {
    "collapsed": true
   },
   "outputs": [],
   "source": [
    "J, grad = lrCostFunction(theta_t, X_t, y_t, lambda_t)"
   ]
  },
  {
   "cell_type": "code",
   "execution_count": 15,
   "metadata": {},
   "outputs": [
    {
     "name": "stdout",
     "output_type": "stream",
     "text": [
      "\n",
      "Cost:\n",
      " 2.534819\n",
      "Expected cost:\n",
      " 2.534819\n",
      "\n",
      "Gradients:\n",
      " [ 0.14656137 -0.54855841  0.72472227  1.39800296]\n",
      "Expected gradients:\n",
      " 0.146561\t -0.548558\t 0.724722\t 1.398003\n",
      "\n"
     ]
    }
   ],
   "source": [
    "print('\\nCost:\\n %.6f' %(J))\n",
    "print('Expected cost:\\n 2.534819\\n')\n",
    "print('Gradients:\\n', grad)\n",
    "print('Expected gradients:')\n",
    "print(' 0.146561\\t -0.548558\\t 0.724722\\t 1.398003\\n')"
   ]
  },
  {
   "cell_type": "markdown",
   "metadata": {},
   "source": [
    "## 1.4 One-vs-all Classification"
   ]
  },
  {
   "cell_type": "markdown",
   "metadata": {},
   "source": [
    "The exercise provides a minimizing function called `fmincg` written in Matlab/Octave, which I presumed was rougly equivalent to `scipy.optimize.minimize(method='CG')`, and says to use a maximum of 50 iterations. I tried\n",
    "\n",
    "`scipy.optimize.minimize(method='CG', options={'maxiter':50})`\n",
    "\n",
    "but this only got me a training accuracy of 88.5%, which compares poorly with the target of 94.9%. I presume this is due to the provided `fmincg` not being completely equivalent to `scipy.optimize.minimize(method='CG')`. By switching to\n",
    "\n",
    "`scipy.optimize.minimize(method=None, options={'maxiter':100})`\n",
    "\n",
    "i.e. let SciPy pick a method and allow up to 100 iterations, I was able to achieve an accuracy of 94.9%."
   ]
  },
  {
   "cell_type": "code",
   "execution_count": 16,
   "metadata": {
    "collapsed": true
   },
   "outputs": [],
   "source": [
    "def oneVsAll(X, y, num_labels, Lambda):\n",
    "    '''\n",
    "    Trains num_labels logistic regression classifiers and returns all\n",
    "    the classifiers in a matrix all_theta, where the i-th row of all_theta \n",
    "    corresponds to the classifier for label i.\n",
    "    '''\n",
    "    m = X.shape[0] # number of examples\n",
    "    n = X.shape[1] # number of pixels per example\n",
    "\n",
    "    all_theta = np.zeros([num_labels, n+1])\n",
    "\n",
    "    # Add column of ones to X for bias\n",
    "    X = np.column_stack((np.ones(m), X))\n",
    "    \n",
    "    for c in range(num_labels):\n",
    "\n",
    "        initial_theta = np.zeros([n+1, 1])\n",
    "        # Python implementation of a Matlab/Octave logical array\n",
    "        y_bools = (y==(c+1)).astype(int).reshape([m,]) # (c+1) to change 0-9 into 1-10\n",
    "\n",
    "        res = minimize(fun=lrCostFunction, x0=initial_theta, args=(X, y_bools, Lambda),\n",
    "                       method=None, jac=True, options={'maxiter':100})\n",
    "        \n",
    "        theta = res.x\n",
    "        all_theta[c] = theta\n",
    "\n",
    "    return all_theta"
   ]
  },
  {
   "cell_type": "code",
   "execution_count": 17,
   "metadata": {
    "collapsed": true
   },
   "outputs": [],
   "source": [
    "Lambda = 0.1\n",
    "num_labels = 10 # 10 labels, from 0 to 9. Note that in y, \"0\" is stored as \"10\".\n",
    "\n",
    "all_theta = oneVsAll(X, y, num_labels, Lambda)"
   ]
  },
  {
   "cell_type": "markdown",
   "metadata": {},
   "source": [
    "### 1.4.1 One-vs-all Prediction"
   ]
  },
  {
   "cell_type": "code",
   "execution_count": 18,
   "metadata": {
    "collapsed": true
   },
   "outputs": [],
   "source": [
    "def predictOneVsAll(all_theta, X):\n",
    "    '''\n",
    "    Predict the label for a trained one-vs-all classifier. The labels \n",
    "    are in the range 1...K, where K = all_theta.shape[0]. \n",
    "    '''\n",
    "    p = np.zeros([X.shape[0], 1])\n",
    "    \n",
    "    m = X.shape[0] # number of examples\n",
    "    num_labels = all_theta.shape[0] # number of categories\n",
    "\n",
    "    # Add column of ones to X for bias\n",
    "    X = np.column_stack((np.ones(m), X))\n",
    "    \n",
    "    # dot prod X with each col of all_theta\n",
    "    # find one with max value\n",
    "    # store in p with index matching row of X\n",
    "    \n",
    "    z = np.dot(X, all_theta.T)\n",
    "    p = np.argmax(sigmoid(z), axis=1) + 1 # +1 to change 0-9 into 1-10\n",
    "    p = np.reshape(p, (m,1)) # to make compatible with y.shape\n",
    "    \n",
    "    return p"
   ]
  },
  {
   "cell_type": "code",
   "execution_count": 19,
   "metadata": {},
   "outputs": [
    {
     "name": "stdout",
     "output_type": "stream",
     "text": [
      "\n",
      "Training Set Accuracy: 94.94\n"
     ]
    }
   ],
   "source": [
    "pred = predictOneVsAll(all_theta, X)\n",
    "print('\\nTraining Set Accuracy:', np.mean(pred == y) * 100)"
   ]
  },
  {
   "cell_type": "markdown",
   "metadata": {},
   "source": [
    "### Show a few examples just for fun"
   ]
  },
  {
   "cell_type": "code",
   "execution_count": 20,
   "metadata": {},
   "outputs": [],
   "source": [
    "def showPrediction(i):\n",
    "    rand_image = X[i]\n",
    "\n",
    "    image = X[i]\n",
    "    image = np.reshape(image, (20, 20), order='F')\n",
    "    plt.figure(figsize=(1,1))\n",
    "    plt.imshow(image, cmap='Greys')\n",
    "    plt.axis('off')\n",
    "    plt.show()\n",
    "\n",
    "    rand_image = rand_image.reshape([1,400])\n",
    "    pred = predictOneVsAll(all_theta, rand_image)\n",
    "\n",
    "    print('Prediction:', int(pred))\n",
    "    print('Answer:', int(y[i]))\n",
    "    print('______________')"
   ]
  },
  {
   "cell_type": "code",
   "execution_count": 21,
   "metadata": {},
   "outputs": [
    {
     "data": {
      "image/png": "[encoded data removed]",
      "text/plain": [
       "<matplotlib.figure.Figure at 0x11c9eb908>"
      ]
     },
     "metadata": {},
     "output_type": "display_data"
    },
    {
     "name": "stdout",
     "output_type": "stream",
     "text": [
      "Prediction: 8\n",
      "Answer: 8\n",
      "______________\n"
     ]
    },
    {
     "data": {
      "image/png": "[encoded data removed]",
      "text/plain": [
       "<matplotlib.figure.Figure at 0x11cab5da0>"
      ]
     },
     "metadata": {},
     "output_type": "display_data"
    },
    {
     "name": "stdout",
     "output_type": "stream",
     "text": [
      "Prediction: 8\n",
      "Answer: 8\n",
      "______________\n"
     ]
    },
    {
     "data": {
      "image/png": "[encoded data removed]",
      "text/plain": [
       "<matplotlib.figure.Figure at 0x11c9f32b0>"
      ]
     },
     "metadata": {},
     "output_type": "display_data"
    },
    {
     "name": "stdout",
     "output_type": "stream",
     "text": [
      "Prediction: 2\n",
      "Answer: 2\n",
      "______________\n"
     ]
    },
    {
     "data": {
      "image/png": "[encoded data removed]",
      "text/plain": [
       "<matplotlib.figure.Figure at 0x11ee9d588>"
      ]
     },
     "metadata": {},
     "output_type": "display_data"
    },
    {
     "name": "stdout",
     "output_type": "stream",
     "text": [
      "Prediction: 8\n",
      "Answer: 8\n",
      "______________\n"
     ]
    },
    {
     "data": {
      "image/png": "[encoded data removed]",
      "text/plain": [
       "<matplotlib.figure.Figure at 0x11f01ab00>"
      ]
     },
     "metadata": {},
     "output_type": "display_data"
    },
    {
     "name": "stdout",
     "output_type": "stream",
     "text": [
      "Prediction: 7\n",
      "Answer: 7\n",
      "______________\n"
     ]
    },
    {
     "data": {
      "image/png": "[encoded data removed]",
      "text/plain": [
       "<matplotlib.figure.Figure at 0x11eff8908>"
      ]
     },
     "metadata": {},
     "output_type": "display_data"
    },
    {
     "name": "stdout",
     "output_type": "stream",
     "text": [
      "Prediction: 7\n",
      "Answer: 7\n",
      "______________\n"
     ]
    },
    {
     "data": {
      "image/png": "[encoded data removed]",
      "text/plain": [
       "<matplotlib.figure.Figure at 0x11ef63e48>"
      ]
     },
     "metadata": {},
     "output_type": "display_data"
    },
    {
     "name": "stdout",
     "output_type": "stream",
     "text": [
      "Prediction: 5\n",
      "Answer: 5\n",
      "______________\n"
     ]
    },
    {
     "data": {
      "image/png": "[encoded data removed]",
      "text/plain": [
       "<matplotlib.figure.Figure at 0x11ee33e80>"
      ]
     },
     "metadata": {},
     "output_type": "display_data"
    },
    {
     "name": "stdout",
     "output_type": "stream",
     "text": [
      "Prediction: 5\n",
      "Answer: 3\n",
      "______________\n"
     ]
    },
    {
     "data": {
      "image/png": "[encoded data removed]",
      "text/plain": [
       "<matplotlib.figure.Figure at 0x11ed22588>"
      ]
     },
     "metadata": {},
     "output_type": "display_data"
    },
    {
     "name": "stdout",
     "output_type": "stream",
     "text": [
      "Prediction: 6\n",
      "Answer: 6\n",
      "______________\n"
     ]
    },
    {
     "data": {
      "image/png": "[encoded data removed]",
      "text/plain": [
       "<matplotlib.figure.Figure at 0x11eed7eb8>"
      ]
     },
     "metadata": {},
     "output_type": "display_data"
    },
    {
     "name": "stdout",
     "output_type": "stream",
     "text": [
      "Prediction: 8\n",
      "Answer: 8\n",
      "______________\n"
     ]
    }
   ],
   "source": [
    "for _ in range(10):\n",
    "    i = np.random.randint(0, 5000)\n",
    "    showPrediction(i)"
   ]
  }
 ],
 "metadata": {
  "kernelspec": {
   "display_name": "Python 3",
   "language": "python",
   "name": "python3"
  },
  "language_info": {
   "codemirror_mode": {
    "name": "ipython",
    "version": 3
   },
   "file_extension": ".py",
   "mimetype": "text/x-python",
   "name": "python",
   "nbconvert_exporter": "python",
   "pygments_lexer": "ipython3",
   "version": "3.6.2"
  }
 },
 "nbformat": 4,
 "nbformat_minor": 2
}
