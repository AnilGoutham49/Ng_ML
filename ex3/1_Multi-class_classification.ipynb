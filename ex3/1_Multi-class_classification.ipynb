{
 "cells": [
  {
   "cell_type": "markdown",
   "metadata": {},
   "source": [
    "# 1 Multi-class Classification"
   ]
  },
  {
   "cell_type": "code",
   "execution_count": 1,
   "metadata": {
    "collapsed": true
   },
   "outputs": [],
   "source": [
    "import numpy as np\n",
    "import scipy.io as sio\n",
    "import matplotlib.pyplot as plt\n",
    "import matplotlib.gridspec as gridspec\n",
    "import math"
   ]
  },
  {
   "cell_type": "markdown",
   "metadata": {},
   "source": [
    "## 1.1 Dataset"
   ]
  },
  {
   "cell_type": "code",
   "execution_count": 2,
   "metadata": {},
   "outputs": [
    {
     "data": {
      "text/plain": [
       "{'X': array([[ 0.,  0.,  0., ...,  0.,  0.,  0.],\n",
       "        [ 0.,  0.,  0., ...,  0.,  0.,  0.],\n",
       "        [ 0.,  0.,  0., ...,  0.,  0.,  0.],\n",
       "        ..., \n",
       "        [ 0.,  0.,  0., ...,  0.,  0.,  0.],\n",
       "        [ 0.,  0.,  0., ...,  0.,  0.,  0.],\n",
       "        [ 0.,  0.,  0., ...,  0.,  0.,  0.]]),\n",
       " '__globals__': [],\n",
       " '__header__': b'MATLAB 5.0 MAT-file, Platform: GLNXA64, Created on: Sun Oct 16 13:09:09 2011',\n",
       " '__version__': '1.0',\n",
       " 'y': array([[10],\n",
       "        [10],\n",
       "        [10],\n",
       "        ..., \n",
       "        [ 9],\n",
       "        [ 9],\n",
       "        [ 9]], dtype=uint8)}"
      ]
     },
     "execution_count": 2,
     "metadata": {},
     "output_type": "execute_result"
    }
   ],
   "source": [
    "data = sio.loadmat('data/ex3data1.mat')\n",
    "data"
   ]
  },
  {
   "cell_type": "code",
   "execution_count": 3,
   "metadata": {},
   "outputs": [
    {
     "data": {
      "text/plain": [
       "(5000, 400)"
      ]
     },
     "execution_count": 3,
     "metadata": {},
     "output_type": "execute_result"
    }
   ],
   "source": [
    "# X is 5,000 examples of 20x20 pixel images, each image is a handwritten number\n",
    "# Each 20x20 image is stored as a 400-dimensional vector\n",
    "data['X'].shape"
   ]
  },
  {
   "cell_type": "code",
   "execution_count": 4,
   "metadata": {},
   "outputs": [
    {
     "data": {
      "text/plain": [
       "(5000, 1)"
      ]
     },
     "execution_count": 4,
     "metadata": {},
     "output_type": "execute_result"
    }
   ],
   "source": [
    "# y is the numeral represented by each image\n",
    "data['y'].shape"
   ]
  },
  {
   "cell_type": "code",
   "execution_count": 5,
   "metadata": {
    "collapsed": true
   },
   "outputs": [],
   "source": [
    "# Store in numpy arrays to make things easier\n",
    "X = data['X']\n",
    "y = data['y']"
   ]
  },
  {
   "cell_type": "markdown",
   "metadata": {},
   "source": [
    "## 1.2 Visualizing the data"
   ]
  },
  {
   "cell_type": "code",
   "execution_count": 6,
   "metadata": {
    "collapsed": true
   },
   "outputs": [],
   "source": [
    "m = X.shape[0] # number of examples"
   ]
  },
  {
   "cell_type": "code",
   "execution_count": 7,
   "metadata": {
    "collapsed": true
   },
   "outputs": [],
   "source": [
    "# Randomly select 100 images to display\n",
    "rand_indices = np.random.permutation(m)\n",
    "sel = X[rand_indices[0:100], :]"
   ]
  },
  {
   "cell_type": "code",
   "execution_count": 8,
   "metadata": {
    "collapsed": true
   },
   "outputs": [],
   "source": [
    "def displayData(X):\n",
    "    '''\n",
    "    Displays 2D data stored in X in a nice grid.\n",
    "    '''\n",
    "    m = X.shape[0] # number of images\n",
    "    display_rows = math.floor(math.sqrt(m))\n",
    "    display_cols = math.ceil(m / display_rows)\n",
    "    \n",
    "    n = X.shape[1] # total number of pixels per image\n",
    "    image_side = int(math.sqrt(n))\n",
    "    \n",
    "    plt.figure(figsize=(8,8))\n",
    "    \n",
    "    for i in range(m):\n",
    "        image = X[i]\n",
    "        image = np.reshape(image, (image_side, image_side), order='F')\n",
    "        plt.subplot(display_rows, display_cols, i+1)\n",
    "        plt.imshow(image, cmap='Greys')\n",
    "        plt.axis('off')\n",
    "\n",
    "    plt.subplots_adjust(wspace=0.1, hspace=0.1)\n",
    "    plt.show()"
   ]
  },
  {
   "cell_type": "code",
   "execution_count": 9,
   "metadata": {},
   "outputs": [
    {
     "data": {
      "image/png": "[encoded data removed]",
      "text/plain": [
       "<matplotlib.figure.Figure at 0x119863828>"
      ]
     },
     "metadata": {},
     "output_type": "display_data"
    }
   ],
   "source": [
    "displayData(sel)"
   ]
  },
  {
   "cell_type": "markdown",
   "metadata": {},
   "source": [
    "## 1.3 Vectorizing Logistic Regression"
   ]
  },
  {
   "cell_type": "markdown",
   "metadata": {},
   "source": [
    "### 1.3.1 Vectorizing the cost function"
   ]
  },
  {
   "cell_type": "code",
   "execution_count": 10,
   "metadata": {},
   "outputs": [
    {
     "data": {
      "text/plain": [
       "array([[ 1. ,  0.1,  0.6,  1.1],\n",
       "       [ 1. ,  0.2,  0.7,  1.2],\n",
       "       [ 1. ,  0.3,  0.8,  1.3],\n",
       "       [ 1. ,  0.4,  0.9,  1.4],\n",
       "       [ 1. ,  0.5,  1. ,  1.5]])"
      ]
     },
     "execution_count": 10,
     "metadata": {},
     "output_type": "execute_result"
    }
   ],
   "source": [
    "# Test case for lrCostFunction\n",
    "theta_t = np.array([-2, -1, 1, 2])\n",
    "lambda_t = 3\n",
    "\n",
    "X_0 = np.ones([5,1])\n",
    "X_i = np.reshape(np.arange(0.1, 1.6, 0.1), [5,3], order='F')\n",
    "X_t = np.column_stack((X_0, X_i))\n",
    "X_t"
   ]
  },
  {
   "cell_type": "code",
   "execution_count": 11,
   "metadata": {},
   "outputs": [
    {
     "data": {
      "text/plain": [
       "array([1, 0, 1, 0, 1])"
      ]
     },
     "execution_count": 11,
     "metadata": {},
     "output_type": "execute_result"
    }
   ],
   "source": [
    "y_t = np.array([1,0,1,0,1])\n",
    "y_t"
   ]
  },
  {
   "cell_type": "code",
   "execution_count": 12,
   "metadata": {},
   "outputs": [],
   "source": [
    "def sigmoid(z):\n",
    "    g = 1. / (1. + math.exp(-z))\n",
    "    return g\n",
    "\n",
    "sigmoid = np.vectorize(sigmoid)"
   ]
  },
  {
   "cell_type": "code",
   "execution_count": 13,
   "metadata": {
    "collapsed": true
   },
   "outputs": [],
   "source": [
    "def lrCostFunction(theta, X, y, Lambda):\n",
    "    '''\n",
    "    Computes cost and gradient for regularised logisitic regression.\n",
    "    '''\n",
    "    m = len(y) # number of examples\n",
    "    \n",
    "    # Cost\n",
    "    J = 0\n",
    "    J1 = 0\n",
    "    J2 = 0\n",
    "    \n",
    "    z = np.dot(X, theta)\n",
    "    J1 = (1/m) * np.sum(-y*np.log(sigmoid(z)) - (1 - y)*np.log((1 - sigmoid(z))))\n",
    "    J2 = np.sum(theta[1:]**2) * Lambda / (2*m)\n",
    "    J = J1 + J2\n",
    "    \n",
    "    # Gradient\n",
    "    grad = np.zeros(theta.shape)\n",
    "    \n",
    "    z = np.dot(X, theta)\n",
    "    grad = (1/m) * np.dot(X.T, (sigmoid(z) - y))\n",
    "    grad[1:] += Lambda/m * theta[1:] \n",
    "    \n",
    "    \n",
    "    return J, grad"
   ]
  },
  {
   "cell_type": "code",
   "execution_count": 18,
   "metadata": {},
   "outputs": [],
   "source": [
    "J, grad = lrCostFunction(theta_t, X_t, y_t, lambda_t)"
   ]
  },
  {
   "cell_type": "code",
   "execution_count": 27,
   "metadata": {},
   "outputs": [
    {
     "name": "stdout",
     "output_type": "stream",
     "text": [
      "\n",
      "Cost:\n",
      " 2.534819\n",
      "Expected cost:\n",
      " 2.534819\n",
      "\n",
      "Gradients:\n",
      " [ 0.14656137 -0.54855841  0.72472227  1.39800296]\n",
      "Expected gradients:\n",
      " 0.146561\t -0.548558\t 0.724722\t 1.398003\n",
      "\n"
     ]
    }
   ],
   "source": [
    "print('\\nCost:\\n %.6f' %(J))\n",
    "print('Expected cost:\\n 2.534819\\n')\n",
    "print('Gradients:\\n', grad)\n",
    "print('Expected gradients:')\n",
    "print(' 0.146561\\t -0.548558\\t 0.724722\\t 1.398003\\n')"
   ]
  }
 ],
 "metadata": {
  "kernelspec": {
   "display_name": "Python 3",
   "language": "python",
   "name": "python3"
  },
  "language_info": {
   "codemirror_mode": {
    "name": "ipython",
    "version": 3
   },
   "file_extension": ".py",
   "mimetype": "text/x-python",
   "name": "python",
   "nbconvert_exporter": "python",
   "pygments_lexer": "ipython3",
   "version": "3.6.2"
  }
 },
 "nbformat": 4,
 "nbformat_minor": 2
}
