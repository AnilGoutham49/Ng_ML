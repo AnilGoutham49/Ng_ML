{
 "cells": [
  {
   "cell_type": "markdown",
   "metadata": {},
   "source": [
    "# 3 Linear regression with multiple variables"
   ]
  },
  {
   "cell_type": "markdown",
   "metadata": {},
   "source": [
    "Using linear regression with multiple variables to predict house prices."
   ]
  },
  {
   "cell_type": "code",
   "execution_count": 1,
   "metadata": {},
   "outputs": [
    {
     "name": "stdout",
     "output_type": "stream",
     "text": [
      "[[  2.10400000e+03   3.00000000e+00   3.99900000e+05]\n",
      " [  1.60000000e+03   3.00000000e+00   3.29900000e+05]\n",
      " [  2.40000000e+03   3.00000000e+00   3.69000000e+05]\n",
      " [  1.41600000e+03   2.00000000e+00   2.32000000e+05]\n",
      " [  3.00000000e+03   4.00000000e+00   5.39900000e+05]]\n"
     ]
    }
   ],
   "source": [
    "import numpy as np\n",
    "from numpy import genfromtxt\n",
    "\n",
    "data = genfromtxt('data/ex1data2.txt', delimiter=',')\n",
    "# Print first five rows to see what we have\n",
    "print(data[:5,:])"
   ]
  },
  {
   "cell_type": "markdown",
   "metadata": {},
   "source": [
    "`[house size (sq ft), number of rooms, house price ($)]`"
   ]
  },
  {
   "cell_type": "code",
   "execution_count": 2,
   "metadata": {},
   "outputs": [],
   "source": [
    "X = data[:, 0:2]\n",
    "y = data[:, 2]\n",
    "m = len(y)"
   ]
  },
  {
   "cell_type": "markdown",
   "metadata": {},
   "source": [
    "## 3.1 Feature Normalization"
   ]
  },
  {
   "cell_type": "code",
   "execution_count": 3,
   "metadata": {
    "collapsed": true
   },
   "outputs": [],
   "source": [
    "def featureNormalise(x):\n",
    "    \n",
    "    \"\"\"\n",
    "    Returns a normalized version of x where the mean value of\n",
    "    each feature is 0 and the standard deviation is 1.\n",
    "    \"\"\"\n",
    "    x_norm = x\n",
    "\n",
    "    # Find mean for each feature\n",
    "    mu = np.mean(x, axis=0)\n",
    "    # Subtract mean from data\n",
    "    x_norm -= mu\n",
    "    \n",
    "    # Find std for each feature\n",
    "    sigma = np.std(x, axis=0)\n",
    "    # Divide data by std\n",
    "    x_norm /= sigma\n",
    "    \n",
    "    return x_norm, mu, sigma"
   ]
  },
  {
   "cell_type": "code",
   "execution_count": 4,
   "metadata": {},
   "outputs": [
    {
     "name": "stdout",
     "output_type": "stream",
     "text": [
      "[[ 0.13141542 -0.22609337]\n",
      " [-0.5096407  -0.22609337]\n",
      " [ 0.5079087  -0.22609337]\n",
      " [-0.74367706 -1.5543919 ]\n",
      " [ 1.27107075  1.10220517]]\n"
     ]
    }
   ],
   "source": [
    "X, mu, sigma = featureNormalise(X)\n",
    "print(X[:5])"
   ]
  },
  {
   "cell_type": "code",
   "execution_count": 5,
   "metadata": {},
   "outputs": [
    {
     "data": {
      "text/plain": [
       "array([ 2000.68085106,     3.17021277])"
      ]
     },
     "execution_count": 5,
     "metadata": {},
     "output_type": "execute_result"
    }
   ],
   "source": [
    "mu"
   ]
  },
  {
   "cell_type": "code",
   "execution_count": 6,
   "metadata": {},
   "outputs": [
    {
     "data": {
      "text/plain": [
       "array([  7.86202619e+02,   7.52842809e-01])"
      ]
     },
     "execution_count": 6,
     "metadata": {},
     "output_type": "execute_result"
    }
   ],
   "source": [
    "sigma"
   ]
  },
  {
   "cell_type": "code",
   "execution_count": 7,
   "metadata": {},
   "outputs": [
    {
     "name": "stdout",
     "output_type": "stream",
     "text": [
      "[[ 1.          0.13141542 -0.22609337]\n",
      " [ 1.         -0.5096407  -0.22609337]\n",
      " [ 1.          0.5079087  -0.22609337]\n",
      " [ 1.         -0.74367706 -1.5543919 ]\n",
      " [ 1.          1.27107075  1.10220517]]\n"
     ]
    }
   ],
   "source": [
    "# Add intercept term to X\n",
    "X = np.column_stack((np.ones(m), X))\n",
    "print(X[:5])"
   ]
  },
  {
   "cell_type": "markdown",
   "metadata": {},
   "source": [
    "## 3.2 Gradient Descent"
   ]
  },
  {
   "cell_type": "code",
   "execution_count": 8,
   "metadata": {
    "collapsed": true
   },
   "outputs": [],
   "source": [
    "theta = np.zeros((3, 1))"
   ]
  },
  {
   "cell_type": "markdown",
   "metadata": {},
   "source": [
    "**Note to self**\n",
    "\n",
    "NumPy 1D arrays are neither row vectors nor coumn vectors, they're just 1D arrays. If you have a 1D array and you want a row or column vector you have to reshape it. E.g.\n",
    "\n",
    "```\n",
    "np.shape(y)\n",
    "(47,)\n",
    "```\n",
    "\n",
    "not `(47, 1)`, i.e. it's not a column vector. But\n",
    "\n",
    "```\n",
    "np.shape(np.dot(X, theta))\n",
    "(47, 1)\n",
    "```\n",
    "\n",
    "If you attempt\n",
    "\n",
    "```\n",
    "np.dot(X, theta) - y\n",
    "```\n",
    "\n",
    "you'll get a 47x47 array, which you don't want. To do a row-by-row subtraction, do:\n",
    "\n",
    "```\n",
    "y = y.reshape((47,1))\n",
    "np.dot(X, theta) - y\n",
    "```"
   ]
  },
  {
   "cell_type": "code",
   "execution_count": 9,
   "metadata": {
    "collapsed": true
   },
   "outputs": [],
   "source": [
    "y = y.reshape((m,1))"
   ]
  },
  {
   "cell_type": "code",
   "execution_count": 10,
   "metadata": {
    "collapsed": true
   },
   "outputs": [],
   "source": [
    "def computeCostMulti(X, y, theta):\n",
    "    J = 0\n",
    "    m = len(y)\n",
    "    \n",
    "    J = 1/(2*m) * np.dot((np.dot(X, theta) - y).T, (np.dot(X, theta) - y))\n",
    "    return float(J)"
   ]
  },
  {
   "cell_type": "code",
   "execution_count": 11,
   "metadata": {
    "collapsed": true
   },
   "outputs": [],
   "source": [
    "def gradientDescentMulti(X, y, theta, alpha, num_iters):\n",
    "    m = len(y)\n",
    "    num_features = np.shape(theta)[0]\n",
    "    J_history = np.zeros((num_iters, 1))\n",
    "    \n",
    "    for iteration in range(num_iters):\n",
    "        delta = np.zeros((num_features, 1))\n",
    "        for feature in range(num_features):\n",
    "            for entry in range(m):\n",
    "                delta[feature] += (np.dot(theta.T, X[entry,:]) - y[entry]) * X[entry, feature]\n",
    "            delta[feature] = delta[feature] / m\n",
    "            \n",
    "        theta = theta - alpha * delta\n",
    "        J_history[iteration] = computeCostMulti(X, y, theta)\n",
    "      \n",
    "    return theta, J_history"
   ]
  },
  {
   "cell_type": "code",
   "execution_count": 12,
   "metadata": {
    "collapsed": true
   },
   "outputs": [],
   "source": [
    "# Initialise fitting parameters and run gradient descent\n",
    "alpha = 0.03\n",
    "iterations = 400\n",
    "theta = np.zeros((3, 1))\n",
    "theta, J_history = gradientDescentMulti(X, y, theta, alpha, iterations)"
   ]
  },
  {
   "cell_type": "code",
   "execution_count": 13,
   "metadata": {},
   "outputs": [
    {
     "data": {
      "image/png": "[encoded data removed]",
      "text/plain": [
       "<matplotlib.figure.Figure at 0x1121a2cc0>"
      ]
     },
     "metadata": {},
     "output_type": "display_data"
    }
   ],
   "source": [
    "# Plot the convergence graph\n",
    "\n",
    "import matplotlib.pyplot as plt\n",
    "\n",
    "plt.plot(J_history, 'b-')\n",
    "plt.xlabel('Iteration')\n",
    "plt.ylabel('Cost J')\n",
    "plt.title('Convergence of cost function J', y = 1.05)\n",
    "plt.show()"
   ]
  },
  {
   "cell_type": "code",
   "execution_count": 14,
   "metadata": {},
   "outputs": [
    {
     "name": "stdout",
     "output_type": "stream",
     "text": [
      "[[ 340410.91897274]\n",
      " [ 109162.68848142]\n",
      " [  -6293.24735132]]\n"
     ]
    }
   ],
   "source": [
    "# Result of gradient descent\n",
    "print(theta)"
   ]
  },
  {
   "cell_type": "markdown",
   "metadata": {},
   "source": [
    "**Estimate the price of a 1650 sq-ft, 3 br house**"
   ]
  },
  {
   "cell_type": "code",
   "execution_count": 15,
   "metadata": {},
   "outputs": [
    {
     "data": {
      "text/plain": [
       "array([-0.44604386, -0.22609337])"
      ]
     },
     "execution_count": 15,
     "metadata": {},
     "output_type": "execute_result"
    }
   ],
   "source": [
    "sample_X = np.array([1650., 3.])\n",
    "# Normalise data\n",
    "sample_X -= mu\n",
    "sample_X /= sigma\n",
    "sample_X"
   ]
  },
  {
   "cell_type": "code",
   "execution_count": 16,
   "metadata": {},
   "outputs": [
    {
     "data": {
      "text/plain": [
       "array([ 1.        , -0.44604386, -0.22609337])"
      ]
     },
     "execution_count": 16,
     "metadata": {},
     "output_type": "execute_result"
    }
   ],
   "source": [
    "# Add intercept term\n",
    "sample_X = np.insert(sample_X, 0, 1.)\n",
    "sample_X"
   ]
  },
  {
   "cell_type": "code",
   "execution_count": 17,
   "metadata": {},
   "outputs": [
    {
     "name": "stdout",
     "output_type": "stream",
     "text": [
      "Predicted price of a 1650 sq-ft, 3 br house is $293142.\n"
     ]
    }
   ],
   "source": [
    "price = float(np.dot(theta.T, sample_X))\n",
    "print('Predicted price of a 1650 sq-ft, 3 br house is $%.0f.' % price)"
   ]
  },
  {
   "cell_type": "markdown",
   "metadata": {},
   "source": [
    "### 3.2.1 Selecting learning rates"
   ]
  },
  {
   "cell_type": "code",
   "execution_count": 18,
   "metadata": {
    "collapsed": true
   },
   "outputs": [],
   "source": [
    "# Initialise fitting parameters and run gradient descent\n",
    "iterations = 400\n",
    "theta = np.zeros((3, 1))\n",
    "alphas = [0.3, 0.1, 0.03, 0.01, 0.003] # Different values of learning rate, alpha, to test\n",
    "\n",
    "J_histories = []\n",
    "\n",
    "for alpha in alphas:\n",
    "    i = alphas.index(alpha)\n",
    "    J_histories.append(gradientDescentMulti(X, y, theta, alpha, iterations)[1])"
   ]
  },
  {
   "cell_type": "code",
   "execution_count": 19,
   "metadata": {},
   "outputs": [
    {
     "data": {
      "image/png": "[encoded data removed]",
      "text/plain": [
       "<matplotlib.figure.Figure at 0x1179ee908>"
      ]
     },
     "metadata": {},
     "output_type": "display_data"
    }
   ],
   "source": [
    "# Plot J versus learning rate\n",
    "\n",
    "for i in range(len(J_histories)):\n",
    "    plt.plot(J_histories[i])\n",
    "plt.legend(alphas)\n",
    "plt.title('Convergence of cost function for different learning rates', y = 1.05)\n",
    "plt.xlabel('Iteration')\n",
    "plt.ylabel('Cost J')\n",
    "plt.show()"
   ]
  },
  {
   "cell_type": "markdown",
   "metadata": {},
   "source": [
    "## 3.3 Normal Equations"
   ]
  },
  {
   "cell_type": "code",
   "execution_count": 20,
   "metadata": {},
   "outputs": [
    {
     "name": "stdout",
     "output_type": "stream",
     "text": [
      "[[  1.00000000e+00   2.10400000e+03   3.00000000e+00]\n",
      " [  1.00000000e+00   1.60000000e+03   3.00000000e+00]\n",
      " [  1.00000000e+00   2.40000000e+03   3.00000000e+00]\n",
      " [  1.00000000e+00   1.41600000e+03   2.00000000e+00]\n",
      " [  1.00000000e+00   3.00000000e+03   4.00000000e+00]]\n",
      "[ 399900.  329900.  369000.  232000.  539900.]\n"
     ]
    }
   ],
   "source": [
    "# Let's show that normal eqns don't require scaling by using unscaled data\n",
    "data = genfromtxt('data/ex1data2.txt', delimiter=',')\n",
    "\n",
    "X = data[:, 0:2]\n",
    "X = np.column_stack((np.ones(m), X))\n",
    "y = data[:, 2]\n",
    "\n",
    "print(X[:5])\n",
    "print(y[:5])"
   ]
  },
  {
   "cell_type": "code",
   "execution_count": 21,
   "metadata": {
    "collapsed": true
   },
   "outputs": [],
   "source": [
    "def normalEqn(X, y):\n",
    "    '''\n",
    "    normalEqn(X,y) computes the closed-form solution to linear \n",
    "    regression using the normal equations.\n",
    "    '''\n",
    "    theta = np.zeros((np.shape(X)[1], 1));\n",
    "    theta = np.dot(np.dot(np.linalg.inv(np.dot(X.T, X)), X.T), y)\n",
    "    \n",
    "    return theta"
   ]
  },
  {
   "cell_type": "code",
   "execution_count": 22,
   "metadata": {
    "collapsed": true
   },
   "outputs": [],
   "source": [
    "theta = normalEqn(X, y)"
   ]
  },
  {
   "cell_type": "code",
   "execution_count": 23,
   "metadata": {},
   "outputs": [
    {
     "data": {
      "text/plain": [
       "array([ 89597.9095428 ,    139.21067402,  -8738.01911233])"
      ]
     },
     "execution_count": 23,
     "metadata": {},
     "output_type": "execute_result"
    }
   ],
   "source": [
    "theta"
   ]
  },
  {
   "cell_type": "code",
   "execution_count": 24,
   "metadata": {
    "collapsed": true
   },
   "outputs": [],
   "source": [
    "# See if we get the same prediction as before for a 1650 sq-ft, 3 br house\n",
    "sample_X = np.array([1650., 3.])\n",
    "sample_X = np.insert(sample_X, 0, 1)"
   ]
  },
  {
   "cell_type": "code",
   "execution_count": 25,
   "metadata": {},
   "outputs": [
    {
     "name": "stdout",
     "output_type": "stream",
     "text": [
      "Predicted price of a 1650 sq-ft, 3 br house is $293081.\n"
     ]
    }
   ],
   "source": [
    "price = float(np.dot(theta.T, sample_X))\n",
    "print('Predicted price of a 1650 sq-ft, 3 br house is $%.0f.' % price)"
   ]
  }
 ],
 "metadata": {
  "kernelspec": {
   "display_name": "Python 3",
   "language": "python",
   "name": "python3"
  },
  "language_info": {
   "codemirror_mode": {
    "name": "ipython",
    "version": 3
   },
   "file_extension": ".py",
   "mimetype": "text/x-python",
   "name": "python",
   "nbconvert_exporter": "python",
   "pygments_lexer": "ipython3",
   "version": "3.6.2"
  }
 },
 "nbformat": 4,
 "nbformat_minor": 2
}
