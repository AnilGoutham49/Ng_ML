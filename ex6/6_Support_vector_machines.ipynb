{
 "cells": [
  {
   "cell_type": "markdown",
   "metadata": {},
   "source": [
    "# Support Vector Machines"
   ]
  },
  {
   "cell_type": "markdown",
   "metadata": {},
   "source": [
    "\"...using support vector machines (SVMs) to build a spam classifier\""
   ]
  },
  {
   "cell_type": "markdown",
   "metadata": {},
   "source": [
    "## 1 Support Vector Machines"
   ]
  },
  {
   "cell_type": "markdown",
   "metadata": {},
   "source": [
    "\"In the first half of this exercise, you will be using support vector machines (SVMs) with various example 2D datasets [to] help you gain an intuition of how SVMs work and how to use a Gaussian kernel with SVMs.\""
   ]
  },
  {
   "cell_type": "markdown",
   "metadata": {},
   "source": [
    "### 1.1 Example Dataset 1"
   ]
  },
  {
   "cell_type": "markdown",
   "metadata": {},
   "source": [
    "#### Visualise the data"
   ]
  },
  {
   "cell_type": "code",
   "execution_count": 1,
   "metadata": {
    "collapsed": true
   },
   "outputs": [],
   "source": [
    "import matplotlib.pyplot as plt\n",
    "import scipy.io\n",
    "import numpy as np\n",
    "from sklearn import svm\n",
    "import math\n",
    "import re\n",
    "import string\n",
    "\n",
    "from nltk.stem import PorterStemmer\n",
    "ps = PorterStemmer()"
   ]
  },
  {
   "cell_type": "code",
   "execution_count": 2,
   "metadata": {},
   "outputs": [
    {
     "data": {
      "text/plain": [
       "dict_keys(['__header__', '__version__', '__globals__', 'X', 'y'])"
      ]
     },
     "execution_count": 2,
     "metadata": {},
     "output_type": "execute_result"
    }
   ],
   "source": [
    "data = scipy.io.loadmat('data/ex6data1.mat')\n",
    "data.keys()"
   ]
  },
  {
   "cell_type": "code",
   "execution_count": 3,
   "metadata": {
    "collapsed": true
   },
   "outputs": [],
   "source": [
    "X = data['X']\n",
    "y = data['y']"
   ]
  },
  {
   "cell_type": "code",
   "execution_count": 4,
   "metadata": {},
   "outputs": [
    {
     "data": {
      "text/plain": [
       "array([[ 1.9643,  4.5957],\n",
       "       [ 2.2753,  3.8589],\n",
       "       [ 2.9781,  4.5651],\n",
       "       [ 2.932 ,  3.5519],\n",
       "       [ 3.5772,  2.856 ]])"
      ]
     },
     "execution_count": 4,
     "metadata": {},
     "output_type": "execute_result"
    }
   ],
   "source": [
    "# take a peek at the data\n",
    "X[:5]"
   ]
  },
  {
   "cell_type": "code",
   "execution_count": 5,
   "metadata": {},
   "outputs": [
    {
     "data": {
      "text/plain": [
       "(51, 2)"
      ]
     },
     "execution_count": 5,
     "metadata": {},
     "output_type": "execute_result"
    }
   ],
   "source": [
    "X.shape"
   ]
  },
  {
   "cell_type": "code",
   "execution_count": 6,
   "metadata": {},
   "outputs": [
    {
     "data": {
      "text/plain": [
       "array([[1],\n",
       "       [1],\n",
       "       [1],\n",
       "       [1],\n",
       "       [1]], dtype=uint8)"
      ]
     },
     "execution_count": 6,
     "metadata": {},
     "output_type": "execute_result"
    }
   ],
   "source": [
    "y[:5]"
   ]
  },
  {
   "cell_type": "code",
   "execution_count": 7,
   "metadata": {},
   "outputs": [
    {
     "data": {
      "text/plain": [
       "(51, 1)"
      ]
     },
     "execution_count": 7,
     "metadata": {},
     "output_type": "execute_result"
    }
   ],
   "source": [
    "y.shape"
   ]
  },
  {
   "cell_type": "code",
   "execution_count": 8,
   "metadata": {
    "collapsed": true
   },
   "outputs": [],
   "source": [
    "y = y.flatten() # makes plotting easier, required for scikit-learn"
   ]
  },
  {
   "cell_type": "code",
   "execution_count": 9,
   "metadata": {
    "collapsed": true
   },
   "outputs": [],
   "source": [
    "def plot_data(X, y):\n",
    "    plt.figure(figsize=(8,6))\n",
    "    plt.scatter(X[y==0, 0], X[y==0, 1], c='y', marker='o')\n",
    "    plt.scatter(X[y==1, 0], X[y==1, 1], c='k', marker='+')\n",
    "    plt.show()"
   ]
  },
  {
   "cell_type": "code",
   "execution_count": 10,
   "metadata": {},
   "outputs": [
    {
     "data": {
      "image/png": "[encoded data removed]",
      "text/plain": [
       "<matplotlib.figure.Figure at 0x1179fa978>"
      ]
     },
     "metadata": {},
     "output_type": "display_data"
    }
   ],
   "source": [
    "plot_data(X, y)"
   ]
  },
  {
   "cell_type": "markdown",
   "metadata": {},
   "source": [
    "There's an obvious separarion indicated by the gap between the two classes, but there's also an outlying positive example (black plus) at ~(0.1, 4.1).\n",
    "\n",
    "\"As part of this exercise, you will also see how this outlier affects the SVM decision boundary.\""
   ]
  },
  {
   "cell_type": "markdown",
   "metadata": {},
   "source": [
    "#### Train linear SVM"
   ]
  },
  {
   "cell_type": "markdown",
   "metadata": {},
   "source": [
    "The exercise provides a pre-written SVM training function written in Matlab/Octave. Until now I've been rewriting all the provided Matlab/Octave code in python, but this is becoming increasingly burdensome, so let's just use `scikit-learn`."
   ]
  },
  {
   "cell_type": "code",
   "execution_count": 11,
   "metadata": {},
   "outputs": [
    {
     "data": {
      "text/plain": [
       "SVC(C=1, cache_size=200, class_weight=None, coef0=0.0,\n",
       "  decision_function_shape='ovr', degree=3, gamma='auto', kernel='linear',\n",
       "  max_iter=-1, probability=False, random_state=None, shrinking=True,\n",
       "  tol=0.001, verbose=False)"
      ]
     },
     "execution_count": 11,
     "metadata": {},
     "output_type": "execute_result"
    }
   ],
   "source": [
    "# Experiment with training the SVM with different values of regularisation parameter C.\n",
    "\n",
    "model = svm.SVC(kernel='linear', C=1)\n",
    "model.fit(X, y)"
   ]
  },
  {
   "cell_type": "code",
   "execution_count": 12,
   "metadata": {
    "collapsed": true
   },
   "outputs": [],
   "source": [
    "def plot_boundary_linear(X, y, model):\n",
    "    \n",
    "    # Plot data\n",
    "    plt.figure(figsize=(8,6))\n",
    "    plt.scatter(X[y==0, 0], X[y==0, 1], c='y', marker='o')\n",
    "    plt.scatter(X[y==1, 0], X[y==1, 1], c='k', marker='+')\n",
    "\n",
    "    # Plot decision boundary\n",
    "    # https://stackoverflow.com/q/23794277/8291169\n",
    "    # To plot decision boundary, y = a*x + b, do\n",
    "    # weights W=svc.coef_[0]\n",
    "    # intercept I=svc.intercept_\n",
    "    # then\n",
    "    # a = -W[0]/W[1]\n",
    "    # b = -I[0]/W[1]\n",
    "    \n",
    "    a = -1 * model.coef_[0][0] / model.coef_[0][1]\n",
    "    b = -1 * model.intercept_[0] / model.coef_[0][1]\n",
    "\n",
    "    # https://stackoverflow.com/a/43811762/8291169\n",
    "    axes = plt.gca()\n",
    "    x_vals = np.array(axes.get_xlim())\n",
    "    y_vals = a * x_vals + b\n",
    "    plt.plot(x_vals, y_vals, '--')\n",
    "\n",
    "    plt.show()"
   ]
  },
  {
   "cell_type": "code",
   "execution_count": 13,
   "metadata": {},
   "outputs": [
    {
     "data": {
      "image/png": "[encoded data removed]",
      "text/plain": [
       "<matplotlib.figure.Figure at 0x117d5c2b0>"
      ]
     },
     "metadata": {},
     "output_type": "display_data"
    }
   ],
   "source": [
    "plot_boundary_linear(X, y, model)"
   ]
  },
  {
   "cell_type": "markdown",
   "metadata": {},
   "source": [
    "The model has a good fit to the data, but wrongly predicts the outlier (not surprising). By increasing C we can increase the variance and deliberately overfit the data:"
   ]
  },
  {
   "cell_type": "code",
   "execution_count": 14,
   "metadata": {},
   "outputs": [
    {
     "data": {
      "image/png": "[encoded data removed]",
      "text/plain": [
       "<matplotlib.figure.Figure at 0x117db5a20>"
      ]
     },
     "metadata": {},
     "output_type": "display_data"
    }
   ],
   "source": [
    "model = svm.SVC(kernel='linear', C=100)\n",
    "model.fit(X, y)\n",
    "plot_boundary_linear(X, y, model)"
   ]
  },
  {
   "cell_type": "markdown",
   "metadata": {},
   "source": [
    "We've now deliberately overfit the data, and the outlier is predicted correctly, but the decision boundary seems less natural."
   ]
  },
  {
   "cell_type": "markdown",
   "metadata": {},
   "source": [
    "### 1.2 SVM with Gaussian Kernels"
   ]
  },
  {
   "cell_type": "markdown",
   "metadata": {
    "collapsed": true
   },
   "source": [
    "\"...  using SVMs with Gaussian kernels on datasets that are not linearly separable.\""
   ]
  },
  {
   "cell_type": "markdown",
   "metadata": {},
   "source": [
    "#### 1.2.1 Gaussian Kernel"
   ]
  },
  {
   "cell_type": "markdown",
   "metadata": {},
   "source": [
    "Build and test a Gaussian kernel:"
   ]
  },
  {
   "cell_type": "code",
   "execution_count": 15,
   "metadata": {
    "collapsed": true
   },
   "outputs": [],
   "source": [
    "def gaussian_kernel(x1, x2, sigma):\n",
    "    '''\n",
    "    Returns a gaussian kernel between x1 and x2\n",
    "    and returns the value in sim\n",
    "    '''\n",
    "    \n",
    "    sim = 0\n",
    "    \n",
    "    vec = x1 - x2\n",
    "    mag = np.linalg.norm(vec)\n",
    "    \n",
    "    sim = math.exp(-1 * pow(mag, 2) / (2 * sigma**2))\n",
    "    \n",
    "    return sim"
   ]
  },
  {
   "cell_type": "code",
   "execution_count": 16,
   "metadata": {},
   "outputs": [
    {
     "name": "stdout",
     "output_type": "stream",
     "text": [
      "0.324652\n"
     ]
    }
   ],
   "source": [
    "x1 = np.array([1, 2, 1])\n",
    "x2 = np.array([0, 4, -1])\n",
    "sigma = 2\n",
    "\n",
    "sim = gaussian_kernel(x1, x2, sigma)\n",
    "print('%.6f' %sim)\n",
    "\n",
    "# \"...you should expect to see a value of 0.324652\""
   ]
  },
  {
   "cell_type": "markdown",
   "metadata": {},
   "source": [
    "#### 1.2.2 Example Dataset 2"
   ]
  },
  {
   "cell_type": "code",
   "execution_count": 17,
   "metadata": {},
   "outputs": [
    {
     "data": {
      "text/plain": [
       "dict_keys(['__header__', '__version__', '__globals__', 'X', 'y'])"
      ]
     },
     "execution_count": 17,
     "metadata": {},
     "output_type": "execute_result"
    }
   ],
   "source": [
    "data = scipy.io.loadmat('data/ex6data2.mat')\n",
    "data.keys()"
   ]
  },
  {
   "cell_type": "code",
   "execution_count": 18,
   "metadata": {
    "collapsed": true
   },
   "outputs": [],
   "source": [
    "X = data['X']\n",
    "y = data['y']"
   ]
  },
  {
   "cell_type": "code",
   "execution_count": 19,
   "metadata": {},
   "outputs": [
    {
     "data": {
      "text/plain": [
       "array([[ 0.107143 ,  0.60307  ],\n",
       "       [ 0.093318 ,  0.649854 ],\n",
       "       [ 0.0979263,  0.705409 ],\n",
       "       [ 0.15553  ,  0.784357 ],\n",
       "       [ 0.210829 ,  0.866228 ]])"
      ]
     },
     "execution_count": 19,
     "metadata": {},
     "output_type": "execute_result"
    }
   ],
   "source": [
    "X[:5]"
   ]
  },
  {
   "cell_type": "code",
   "execution_count": 20,
   "metadata": {},
   "outputs": [
    {
     "data": {
      "text/plain": [
       "array([[1],\n",
       "       [1],\n",
       "       [1],\n",
       "       [1],\n",
       "       [1]], dtype=uint8)"
      ]
     },
     "execution_count": 20,
     "metadata": {},
     "output_type": "execute_result"
    }
   ],
   "source": [
    "y[:5]"
   ]
  },
  {
   "cell_type": "code",
   "execution_count": 21,
   "metadata": {
    "collapsed": true
   },
   "outputs": [],
   "source": [
    "y = y.flatten()"
   ]
  },
  {
   "cell_type": "code",
   "execution_count": 22,
   "metadata": {},
   "outputs": [
    {
     "data": {
      "image/png": "[encoded data removed]",
      "text/plain": [
       "<matplotlib.figure.Figure at 0x117f1aef0>"
      ]
     },
     "metadata": {},
     "output_type": "display_data"
    }
   ],
   "source": [
    "plot_data(X, y)"
   ]
  },
  {
   "cell_type": "markdown",
   "metadata": {},
   "source": [
    "Non-linear decision boundary required, so we use a Gaussian kernel."
   ]
  },
  {
   "cell_type": "markdown",
   "metadata": {},
   "source": [
    "Getting `svm.SVC()` to work with my `gaussian_kernel()` function can be done, but is going to be inconvenient. `svm.SVC` has a built in Gaussian kernel called `rbf` (radial basis function) where the `gamma` parameter is equivalent to\n",
    "\n",
    "`1 / 2 * sigma**2`\n",
    "\n",
    "http://scikit-learn.org/stable/modules/svm.html#svm-kernels\n",
    "\n",
    "so let's use that."
   ]
  },
  {
   "cell_type": "code",
   "execution_count": 23,
   "metadata": {},
   "outputs": [
    {
     "data": {
      "text/plain": [
       "SVC(C=1, cache_size=200, class_weight=None, coef0=0.0,\n",
       "  decision_function_shape='ovr', degree=3, gamma=50, kernel='rbf',\n",
       "  max_iter=-1, probability=False, random_state=None, shrinking=True,\n",
       "  tol=0.001, verbose=False)"
      ]
     },
     "execution_count": 23,
     "metadata": {},
     "output_type": "execute_result"
    }
   ],
   "source": [
    "# sigma = 0.1 -> gamma = 50\n",
    "\n",
    "model = svm.SVC(kernel='rbf', gamma=50, C=1)\n",
    "model.fit(X, y)"
   ]
  },
  {
   "cell_type": "code",
   "execution_count": 24,
   "metadata": {
    "collapsed": true
   },
   "outputs": [],
   "source": [
    "def plot_boundary(X, y, model):\n",
    "    \n",
    "    # Based on the \"official\" plotting example from the scikit-learn people\n",
    "    # http://scikit-learn.org/stable/auto_examples/svm/plot_iris.html\n",
    "    \n",
    "    X0 = X[:, 0]\n",
    "    X1 = X[:, 1]\n",
    "    \n",
    "    ## Create grid of points to plot on\n",
    "    x0_min, x0_max = X0.min() - 0.04, X0.max() + 0.04\n",
    "    x1_min, x1_max = X1.min() - 0.04, X1.max() + 0.04\n",
    "    \n",
    "    xx0, xx1 = np.meshgrid(np.arange(x0_min, x0_max, 0.005),\n",
    "                           np.arange(x1_min, x1_max, 0.005))\n",
    "    # If you're having trouble visualising how meshgrid works:\n",
    "    # https://stackoverflow.com/a/42404323/8291169\n",
    "    \n",
    "    \n",
    "    ## Evaluate model predictions on grid\n",
    "    z = model.predict(np.c_[xx0.ravel(), xx1.ravel()])\n",
    "    # This is a complicated bit of code!\n",
    "    # np.c_ is just concatenation for slice objects (which our xx0 and xx1 are).\n",
    "    # ravel just flattens, but uses less memory since it flattens the original\n",
    "    # array rather than creating a copy like flatten().\n",
    "    \n",
    "    # z is flat, so need to reshape\n",
    "    z = z.reshape(xx0.shape)\n",
    "    \n",
    "    ## And plot\n",
    "    plt.figure(figsize=(8,6))\n",
    "    plt.scatter(X[y==0, 0], X[y==0, 1], c='y', marker='o')\n",
    "    plt.scatter(X[y==1, 0], X[y==1, 1], c='k', marker='+')\n",
    "    plt.contour(xx0, xx1, z, 1, colors='b')\n",
    "\n",
    "    plt.show()"
   ]
  },
  {
   "cell_type": "code",
   "execution_count": 25,
   "metadata": {},
   "outputs": [
    {
     "data": {
      "image/png": "[encoded data removed]",
      "text/plain": [
       "<matplotlib.figure.Figure at 0x117ef25c0>"
      ]
     },
     "metadata": {},
     "output_type": "display_data"
    }
   ],
   "source": [
    "plot_boundary(X, y, model)"
   ]
  },
  {
   "cell_type": "markdown",
   "metadata": {
    "collapsed": true
   },
   "source": [
    "Using a Gaussian kernel we see that we can plot a non-linear boundary and achieve good separation between the two classes."
   ]
  },
  {
   "cell_type": "markdown",
   "metadata": {},
   "source": [
    "#### 1.2.3 Example Dataset 3"
   ]
  },
  {
   "cell_type": "code",
   "execution_count": 26,
   "metadata": {},
   "outputs": [
    {
     "data": {
      "text/plain": [
       "dict_keys(['__header__', '__version__', '__globals__', 'X', 'y', 'yval', 'Xval'])"
      ]
     },
     "execution_count": 26,
     "metadata": {},
     "output_type": "execute_result"
    }
   ],
   "source": [
    "data = scipy.io.loadmat('data/ex6data3.mat')\n",
    "data.keys()"
   ]
  },
  {
   "cell_type": "markdown",
   "metadata": {},
   "source": [
    "We have both test data (X, y) and cross-validation data (Xval, yval)."
   ]
  },
  {
   "cell_type": "code",
   "execution_count": 27,
   "metadata": {
    "collapsed": true
   },
   "outputs": [],
   "source": [
    "X = data['X']\n",
    "y = data['y']\n",
    "\n",
    "Xval = data['Xval']\n",
    "yval = data['yval']"
   ]
  },
  {
   "cell_type": "code",
   "execution_count": 28,
   "metadata": {},
   "outputs": [
    {
     "data": {
      "text/plain": [
       "array([[-0.158986,  0.423977],\n",
       "       [-0.347926,  0.47076 ],\n",
       "       [-0.504608,  0.353801],\n",
       "       [-0.596774,  0.114035],\n",
       "       [-0.518433, -0.172515]])"
      ]
     },
     "execution_count": 28,
     "metadata": {},
     "output_type": "execute_result"
    }
   ],
   "source": [
    "X[:5]"
   ]
  },
  {
   "cell_type": "code",
   "execution_count": 29,
   "metadata": {},
   "outputs": [
    {
     "data": {
      "text/plain": [
       "array([[1],\n",
       "       [1],\n",
       "       [1],\n",
       "       [1],\n",
       "       [1]], dtype=uint8)"
      ]
     },
     "execution_count": 29,
     "metadata": {},
     "output_type": "execute_result"
    }
   ],
   "source": [
    "y[:5]"
   ]
  },
  {
   "cell_type": "code",
   "execution_count": 30,
   "metadata": {
    "collapsed": true
   },
   "outputs": [],
   "source": [
    "y = y.flatten()\n",
    "yval = yval.flatten()"
   ]
  },
  {
   "cell_type": "code",
   "execution_count": 31,
   "metadata": {},
   "outputs": [
    {
     "data": {
      "image/png": "[encoded data removed]",
      "text/plain": [
       "<matplotlib.figure.Figure at 0x11b6f4320>"
      ]
     },
     "metadata": {},
     "output_type": "display_data"
    }
   ],
   "source": [
    "plot_data(X, y)"
   ]
  },
  {
   "cell_type": "markdown",
   "metadata": {},
   "source": [
    "\"Your task is to use the cross validation set Xval, yval to determine the best C and sigma [gamma in our case] parameter to use.\""
   ]
  },
  {
   "cell_type": "code",
   "execution_count": 32,
   "metadata": {
    "collapsed": true
   },
   "outputs": [],
   "source": [
    "def dataset_3_params(X, y, Xval, yval):\n",
    "    '''\n",
    "    Trains an SVM on training data X, y.\n",
    "    Returns optimal C, gamma, model based on evaluation\n",
    "    of training on cross-validation data Xval, yval.\n",
    "    '''\n",
    "    \n",
    "    accuracy_best = 0\n",
    "    C_best = -1\n",
    "    gamma_best = -1\n",
    "    model_best = None\n",
    "    \n",
    "    # Try the following set of values for both C and sigma**2:\n",
    "    vals = np.array([0.01, 0.03, 0.1, 0.3, 1, 3, 10, 30])\n",
    "    C_vals = vals\n",
    "    gamma_vals = 1 / (2 * vals)\n",
    "    \n",
    "    # Train and evaluate the SVM using all combinations of C, gamma\n",
    "    for C in C_vals:\n",
    "        for gamma in gamma_vals:\n",
    "\n",
    "            # Train SVM\n",
    "            model = svm.SVC(kernel='rbf', gamma=gamma, C=C)\n",
    "            model.fit(X, y)\n",
    "\n",
    "            # Evaluate on cross validation set\n",
    "            pred = model.predict(Xval)\n",
    "            accuracy = np.mean(pred == yval)\n",
    "\n",
    "            if accuracy > accuracy_best:\n",
    "                accuracy_best = accuracy\n",
    "                C_best = C\n",
    "                gamma_best = gamma\n",
    "                model_best = model\n",
    "            \n",
    "    print('Best result found at C = %.2f, gamma = %.2f, with accuracy = %.2f%%.'\n",
    "          %(C_best, gamma_best, accuracy_best*100))\n",
    "\n",
    "    return C_best, gamma_best, model_best"
   ]
  },
  {
   "cell_type": "code",
   "execution_count": 33,
   "metadata": {},
   "outputs": [
    {
     "name": "stdout",
     "output_type": "stream",
     "text": [
      "Best result found at C = 1.00, gamma = 50.00, with accuracy = 96.50%.\n"
     ]
    }
   ],
   "source": [
    "C, gamma, model = dataset_3_params(X, y, Xval, yval)"
   ]
  },
  {
   "cell_type": "code",
   "execution_count": 34,
   "metadata": {},
   "outputs": [
    {
     "data": {
      "image/png": "[encoded data removed]",
      "text/plain": [
       "<matplotlib.figure.Figure at 0x11b8962b0>"
      ]
     },
     "metadata": {},
     "output_type": "display_data"
    }
   ],
   "source": [
    "plot_boundary(X, y, model)"
   ]
  },
  {
   "cell_type": "markdown",
   "metadata": {},
   "source": [
    "## 2 Spam Classification"
   ]
  },
  {
   "cell_type": "markdown",
   "metadata": {},
   "source": [
    "\"You will be training a classifier to classify whether a given email, x, is spam (y = 1) or non-spam (y = 0).\""
   ]
  },
  {
   "cell_type": "markdown",
   "metadata": {},
   "source": [
    "### 2.1 Preprocessing Emails"
   ]
  },
  {
   "cell_type": "markdown",
   "metadata": {},
   "source": [
    "First we need to process the emails, using regexp normalisation, then map the contents of the email into a word indices vector."
   ]
  },
  {
   "cell_type": "code",
   "execution_count": 35,
   "metadata": {
    "collapsed": true
   },
   "outputs": [],
   "source": [
    "file = open('data/emailSample1.txt')\n",
    "file_contents = file.read()\n",
    "file.close()"
   ]
  },
  {
   "cell_type": "code",
   "execution_count": 36,
   "metadata": {},
   "outputs": [
    {
     "data": {
      "text/plain": [
       "\"> Anyone knows how much it costs to host a web portal ?\\n>\\nWell, it depends on how many visitors you're expecting.\\nThis can be anywhere from less than 10 bucks a month to a couple of $100. \\nYou should checkout http://www.rackspace.com/ or perhaps Amazon EC2 \\nif youre running something big..\\n\\nTo unsubscribe yourself from this mailing list, send an email to:\\ngroupname-unsubscribe@egroups.com\\n\\n\""
      ]
     },
     "execution_count": 36,
     "metadata": {},
     "output_type": "execute_result"
    }
   ],
   "source": [
    "file_contents"
   ]
  },
  {
   "cell_type": "markdown",
   "metadata": {},
   "source": [
    "This is an example of the kind of data we are working with."
   ]
  },
  {
   "cell_type": "markdown",
   "metadata": {},
   "source": [
    "The exercise provides a vocabulary list that contains the 1899 most common words in the email spam corpus. Each word is associated with a number, which we will use for our word indices. The list is a .txt file formatted like so:\n",
    "\n",
    "\n",
    "```\n",
    "1\taa\n",
    "2\tab\n",
    "3\tabil\n",
    "...\n",
    "1897\tzdnet\n",
    "1898\tzero\n",
    "1899\tzip\n",
    "```\n",
    "\n",
    "i.e. newlines separating entries, tabs separating indices from words.\n",
    "\n",
    "I have written `get_vocab_dict()` to load the file and convert it into a python dictionary."
   ]
  },
  {
   "cell_type": "code",
   "execution_count": 37,
   "metadata": {
    "collapsed": true
   },
   "outputs": [],
   "source": [
    "def get_vocab_dict():\n",
    "    '''\n",
    "    Loads the provided vocab.txt, converts it into a python\n",
    "    dictionary, and returns the dictionary.\n",
    "    '''\n",
    "    \n",
    "    vocab_dict = {}\n",
    "    \n",
    "    file = open('data/vocab.txt')\n",
    "    file_contents = file.readlines()\n",
    "    file.close()\n",
    "\n",
    "    for line in file_contents:\n",
    "        index = line.split()[0]\n",
    "        word = line.split()[1]\n",
    "        \n",
    "        # We're going to use this to look up indices based on words,\n",
    "        # so make words the keys and indices the values\n",
    "        vocab_dict[word] = index\n",
    "    \n",
    "    return vocab_dict"
   ]
  },
  {
   "cell_type": "code",
   "execution_count": 38,
   "metadata": {
    "collapsed": true
   },
   "outputs": [],
   "source": [
    "def process_email(email_contents):\n",
    "    \n",
    "    '''\n",
    "    Preprocesses the body of an email (email_contents) and returns\n",
    "    a list of indices of the words contained in the email.\n",
    "    '''\n",
    "\n",
    "    word_indices = []\n",
    "    vocab_dict = get_vocab_dict()\n",
    "\n",
    "    \n",
    "    ## Preprocess email    \n",
    "    # Make lower case\n",
    "    email_contents = email_contents.lower()\n",
    "    \n",
    "    # Strip HTML\n",
    "    # Find expressions that start with <, end with >, and do not\n",
    "    # contain either < or > in the middle. Replace them with\n",
    "    # a blank space.\n",
    "    # Regex cheatsheet: https://www.debuggex.com/cheatsheet/regex/python\n",
    "    email_contents = re.sub(r'<[^<>]+>', ' ', email_contents)\n",
    "    \n",
    "    # Numbers\n",
    "    # Replace numbers with the word 'number'\n",
    "    email_contents = re.sub(r'[0-9]+', 'number', email_contents)\n",
    "\n",
    "    # URLs\n",
    "    # Look for strings starting with http:// or https://\n",
    "    # replace with 'httpaddr'\n",
    "    email_contents = re.sub(r'(http|https)://[^\\s]*', 'httpaddr', email_contents)\n",
    "    \n",
    "    # Email addresses\n",
    "    # Look for strings with @ in the middle, replace with 'emailaddr'\n",
    "    email_contents = re.sub(r'[^\\s]+@[^\\s]+', 'emailaddr', email_contents)\n",
    "    \n",
    "    # $ sign\n",
    "    # Replace with 'dollar'\n",
    "    email_contents = re.sub(r'[$]+', 'dollar', email_contents)\n",
    "\n",
    "\n",
    "    ## Create list of words in email\n",
    "    words = email_contents.split()\n",
    "    \n",
    "    for word in words:\n",
    "        # Remove punctuation\n",
    "        word = word.translate(str.maketrans('','',string.punctuation))\n",
    "    \n",
    "        # Remove non-alphanumeric characters\n",
    "        word = re.sub(r'[^a-zA-Z0-9]', '', word)\n",
    "    \n",
    "        # Stem word\n",
    "        word = ps.stem(word)\n",
    "        \n",
    "        # Skip spaces, blank lines\n",
    "        if len(word) < 1:\n",
    "            continue\n",
    "            \n",
    "        # Look up the word in the dictionary and\n",
    "        # add to word_indices if found\n",
    "        if word in vocab_dict:\n",
    "            word_indices.append(int(vocab_dict[word]))\n",
    "        \n",
    "    return word_indices"
   ]
  },
  {
   "cell_type": "code",
   "execution_count": 39,
   "metadata": {},
   "outputs": [
    {
     "name": "stdout",
     "output_type": "stream",
     "text": [
      "Expected output:\n",
      "86 916 794 1077 883 370 1699 790 1822 1831 ...\n",
      "\n",
      "word_indices:\n",
      "[86, 916, 794, 1077, 883, 370, 1699, 790, 1822, 1831]\n"
     ]
    }
   ],
   "source": [
    "word_indices = process_email(file_contents)\n",
    "\n",
    "# Check our result using Fig. 11 in ex6.pdf\n",
    "print('Expected output:')\n",
    "print('86 916 794 1077 883 370 1699 790 1822 1831 ...\\n')\n",
    "print('word_indices:')\n",
    "print(word_indices[:10])"
   ]
  },
  {
   "cell_type": "markdown",
   "metadata": {
    "collapsed": true
   },
   "source": [
    "### 2.2 Extracting Features from Emails"
   ]
  },
  {
   "cell_type": "markdown",
   "metadata": {},
   "source": [
    "Convert each email into a vector of features x in R^n, where n = 1899 is the number of words in our vocabulary list.\n",
    "\n",
    "\"x_i ∈ {0, 1} for an email corresponds to whether the i-th word in the dictionary occurs in the email. That is, x_i = 1 if the i-th word is in the email and x_i = 0 if the i-th word is not present in the email.\"\n",
    "\n",
    "NB - unlike Matlab/Octave (which this course was designed for), in Python our feature vector will run from 0-1898 rather than 1-1899, so we'll be off by one which we'll have to compensate for."
   ]
  },
  {
   "cell_type": "code",
   "execution_count": 40,
   "metadata": {
    "collapsed": true
   },
   "outputs": [],
   "source": [
    "def email_features(word_indices):\n",
    "    \n",
    "    '''\n",
    "    Takes in a word_indices vector and \n",
    "    produces a feature vector from the word indices. \n",
    "    '''\n",
    "    \n",
    "    # Total number of words in the vocabulary list\n",
    "    n = 1899\n",
    "    \n",
    "    # Feature vector\n",
    "    x = np.zeros([n, 1])\n",
    "    \n",
    "    for index in word_indices:\n",
    "        x[index - 1] = 1 # -1 because python lists start at 0\n",
    "    \n",
    "    return x"
   ]
  },
  {
   "cell_type": "code",
   "execution_count": 41,
   "metadata": {
    "collapsed": true
   },
   "outputs": [],
   "source": [
    "features = email_features(word_indices)"
   ]
  },
  {
   "cell_type": "code",
   "execution_count": 42,
   "metadata": {},
   "outputs": [
    {
     "name": "stdout",
     "output_type": "stream",
     "text": [
      "Length of feature vector: 1899\n",
      "Number of non-zero entries: [44]\n"
     ]
    }
   ],
   "source": [
    "print('Length of feature vector:', len(features))\n",
    "print('Number of non-zero entries:', sum(features > 0))"
   ]
  },
  {
   "cell_type": "markdown",
   "metadata": {},
   "source": [
    "\"You should see that the feature vector had length 1899 and 45 non-zero entries.\"\n",
    "\n",
    "We have 44 non-zero entries. I'm guessing this is due to me using a slightly different stemmer which has stemmed one word differently than expected by the exercise, and that stemmed word doesn't match the provided vocabulary list. Shouldn't be a major problem."
   ]
  },
  {
   "cell_type": "markdown",
   "metadata": {},
   "source": [
    "### 2.3 Training SVM for Spam Classification"
   ]
  },
  {
   "cell_type": "code",
   "execution_count": 43,
   "metadata": {
    "collapsed": true
   },
   "outputs": [],
   "source": [
    "# spamTrain.mat contains 4000 training examples of spam and non-spam emails that\n",
    "# have already been converted into feature vectors like I did above\n",
    "emails_train = scipy.io.loadmat('data/spamTrain.mat')"
   ]
  },
  {
   "cell_type": "code",
   "execution_count": 44,
   "metadata": {},
   "outputs": [
    {
     "data": {
      "text/plain": [
       "dict_keys(['__header__', '__version__', '__globals__', 'X', 'y'])"
      ]
     },
     "execution_count": 44,
     "metadata": {},
     "output_type": "execute_result"
    }
   ],
   "source": [
    "emails_train.keys()"
   ]
  },
  {
   "cell_type": "code",
   "execution_count": 45,
   "metadata": {},
   "outputs": [
    {
     "data": {
      "text/plain": [
       "(4000, 1899)"
      ]
     },
     "execution_count": 45,
     "metadata": {},
     "output_type": "execute_result"
    }
   ],
   "source": [
    "emails_train['X'].shape"
   ]
  },
  {
   "cell_type": "markdown",
   "metadata": {},
   "source": [
    "4000 feature vectors, each of length 1899"
   ]
  },
  {
   "cell_type": "code",
   "execution_count": 46,
   "metadata": {},
   "outputs": [
    {
     "data": {
      "text/plain": [
       "(4000, 1)"
      ]
     },
     "execution_count": 46,
     "metadata": {},
     "output_type": "execute_result"
    }
   ],
   "source": [
    "emails_train['y'].shape"
   ]
  },
  {
   "cell_type": "code",
   "execution_count": 47,
   "metadata": {},
   "outputs": [
    {
     "data": {
      "text/plain": [
       "SVC(C=0.1, cache_size=200, class_weight=None, coef0=0.0,\n",
       "  decision_function_shape='ovr', degree=3, gamma='auto', kernel='linear',\n",
       "  max_iter=-1, probability=False, random_state=None, shrinking=True,\n",
       "  tol=0.001, verbose=False)"
      ]
     },
     "execution_count": 47,
     "metadata": {},
     "output_type": "execute_result"
    }
   ],
   "source": [
    "# Train the SVM\n",
    "X = emails_train['X']\n",
    "y = emails_train['y']\n",
    "y = y.flatten()\n",
    "\n",
    "model = svm.SVC(kernel='linear', C=0.1)\n",
    "model.fit(X, y)"
   ]
  },
  {
   "cell_type": "code",
   "execution_count": 48,
   "metadata": {},
   "outputs": [
    {
     "name": "stdout",
     "output_type": "stream",
     "text": [
      "Training accuracy: 99.825\n"
     ]
    }
   ],
   "source": [
    "pred = model.predict(X)\n",
    "print('Training accuracy:', np.mean(pred == y) * 100)"
   ]
  },
  {
   "cell_type": "markdown",
   "metadata": {},
   "source": [
    "\"...you should see that the classifier gets a training accuracy of about 99.8%\""
   ]
  },
  {
   "cell_type": "code",
   "execution_count": 49,
   "metadata": {},
   "outputs": [
    {
     "data": {
      "text/plain": [
       "dict_keys(['__header__', '__version__', '__globals__', 'Xtest', 'ytest'])"
      ]
     },
     "execution_count": 49,
     "metadata": {},
     "output_type": "execute_result"
    }
   ],
   "source": [
    "# Evaluate model on test set\n",
    "\n",
    "# spamTest.mat contains 1000 test examples of spam and non-spam emails that\n",
    "# have already been converted into feature vectors like I did above\n",
    "\n",
    "emails_test = scipy.io.loadmat('data/spamTest.mat')\n",
    "emails_test.keys()"
   ]
  },
  {
   "cell_type": "code",
   "execution_count": 50,
   "metadata": {},
   "outputs": [],
   "source": [
    "Xtest = emails_test['Xtest']\n",
    "ytest = emails_test['ytest']\n",
    "ytest = ytest.flatten()"
   ]
  },
  {
   "cell_type": "code",
   "execution_count": 51,
   "metadata": {},
   "outputs": [
    {
     "name": "stdout",
     "output_type": "stream",
     "text": [
      "Test accuracy: 98.9\n"
     ]
    }
   ],
   "source": [
    "pred = model.predict(Xtest)\n",
    "print('Test accuracy:', np.mean(pred == ytest) * 100)"
   ]
  },
  {
   "cell_type": "markdown",
   "metadata": {},
   "source": [
    "\"you should see ... a test accuracy of about 98.5%\""
   ]
  },
  {
   "cell_type": "markdown",
   "metadata": {},
   "source": [
    "### 2.4 Top Predictors for Spam"
   ]
  },
  {
   "cell_type": "markdown",
   "metadata": {},
   "source": [
    "Find the words with the largest positive values in the classifier - these are the top predictors of spam."
   ]
  },
  {
   "cell_type": "code",
   "execution_count": 52,
   "metadata": {},
   "outputs": [
    {
     "data": {
      "text/plain": [
       "(1, 1899)"
      ]
     },
     "execution_count": 52,
     "metadata": {},
     "output_type": "execute_result"
    }
   ],
   "source": [
    "# This gives us the weights for each of the 1899 features\n",
    "model.coef_.shape"
   ]
  },
  {
   "cell_type": "markdown",
   "metadata": {},
   "source": [
    "The position of each element in `model.coef_` corresponds to the feature index, and we need to preserve this information since feature indices correspond to words in our vocaculary list. Easy way to do this is usung `np.argsort()`, which returns the indices that would sort an array."
   ]
  },
  {
   "cell_type": "code",
   "execution_count": 53,
   "metadata": {
    "collapsed": true
   },
   "outputs": [],
   "source": [
    "indices = np.argsort(-model.coef_) # - sign to sort by descending\n",
    "indices = indices.flatten()"
   ]
  },
  {
   "cell_type": "code",
   "execution_count": 54,
   "metadata": {
    "collapsed": true
   },
   "outputs": [],
   "source": [
    "# Our vocab_dict has words as keys and indices as values\n",
    "# which is the opposite of what we now need. So create an\n",
    "# inverse dictionary\n",
    "\n",
    "vocab_dict = get_vocab_dict()\n",
    "index_dict = {v: k for k, v in vocab_dict.items()}"
   ]
  },
  {
   "cell_type": "code",
   "execution_count": 55,
   "metadata": {},
   "outputs": [
    {
     "name": "stdout",
     "output_type": "stream",
     "text": [
      "otherwis\n",
      "clearli\n",
      "remot\n",
      "gt\n",
      "visa\n",
      "base\n",
      "doesn\n",
      "wife\n",
      "previous\n",
      "player\n",
      "mortgag\n",
      "natur\n",
      "ll\n",
      "futur\n",
      "hot\n"
     ]
    }
   ],
   "source": [
    "# Print top 15 words\n",
    "for i in range(15):\n",
    "    print(index_dict[str(indices[i])])"
   ]
  },
  {
   "cell_type": "markdown",
   "metadata": {},
   "source": [
    "These are very different to the \"most spammy\" words in ex6.pdf Fig. 12. I did a few tests and I'm confident in my code, so I presume this is due to the fact that I'm using a different SVM."
   ]
  }
 ],
 "metadata": {
  "kernelspec": {
   "display_name": "Python 3",
   "language": "python",
   "name": "python3"
  },
  "language_info": {
   "codemirror_mode": {
    "name": "ipython",
    "version": 3
   },
   "file_extension": ".py",
   "mimetype": "text/x-python",
   "name": "python",
   "nbconvert_exporter": "python",
   "pygments_lexer": "ipython3",
   "version": "3.6.2"
  }
 },
 "nbformat": 4,
 "nbformat_minor": 2
}
