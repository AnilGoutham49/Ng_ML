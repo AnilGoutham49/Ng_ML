{
 "cells": [
  {
   "cell_type": "markdown",
   "metadata": {},
   "source": [
    "# Support Vector Machines"
   ]
  },
  {
   "cell_type": "markdown",
   "metadata": {},
   "source": [
    "\"...using support vector machines (SVMs) to build a spam classifier\""
   ]
  },
  {
   "cell_type": "markdown",
   "metadata": {},
   "source": [
    "## 1 Support Vector Machines"
   ]
  },
  {
   "cell_type": "markdown",
   "metadata": {},
   "source": [
    "\"In the first half of this exercise, you will be using support vector machines (SVMs) with various example 2D datasets [to] help you gain an intuition of how SVMs work and how to use a Gaussian kernel with SVMs.\""
   ]
  },
  {
   "cell_type": "markdown",
   "metadata": {},
   "source": [
    "### 1.1 Example Dataset 1"
   ]
  },
  {
   "cell_type": "markdown",
   "metadata": {},
   "source": [
    "#### Visualise the data"
   ]
  },
  {
   "cell_type": "code",
   "execution_count": 1,
   "metadata": {
    "collapsed": true
   },
   "outputs": [],
   "source": [
    "import matplotlib.pyplot as plt\n",
    "import scipy.io\n",
    "import numpy as np\n",
    "from sklearn import svm\n",
    "import math"
   ]
  },
  {
   "cell_type": "code",
   "execution_count": 2,
   "metadata": {},
   "outputs": [
    {
     "data": {
      "text/plain": [
       "dict_keys(['__header__', '__version__', '__globals__', 'X', 'y'])"
      ]
     },
     "execution_count": 2,
     "metadata": {},
     "output_type": "execute_result"
    }
   ],
   "source": [
    "data = scipy.io.loadmat('data/ex6data1.mat')\n",
    "data.keys()"
   ]
  },
  {
   "cell_type": "code",
   "execution_count": 3,
   "metadata": {
    "collapsed": true
   },
   "outputs": [],
   "source": [
    "X = data['X']\n",
    "y = data['y']"
   ]
  },
  {
   "cell_type": "code",
   "execution_count": 4,
   "metadata": {},
   "outputs": [
    {
     "data": {
      "text/plain": [
       "array([[ 1.9643,  4.5957],\n",
       "       [ 2.2753,  3.8589],\n",
       "       [ 2.9781,  4.5651],\n",
       "       [ 2.932 ,  3.5519],\n",
       "       [ 3.5772,  2.856 ]])"
      ]
     },
     "execution_count": 4,
     "metadata": {},
     "output_type": "execute_result"
    }
   ],
   "source": [
    "# take a peek at the data\n",
    "X[:5]"
   ]
  },
  {
   "cell_type": "code",
   "execution_count": 5,
   "metadata": {},
   "outputs": [
    {
     "data": {
      "text/plain": [
       "(51, 2)"
      ]
     },
     "execution_count": 5,
     "metadata": {},
     "output_type": "execute_result"
    }
   ],
   "source": [
    "X.shape"
   ]
  },
  {
   "cell_type": "code",
   "execution_count": 6,
   "metadata": {},
   "outputs": [
    {
     "data": {
      "text/plain": [
       "array([[1],\n",
       "       [1],\n",
       "       [1],\n",
       "       [1],\n",
       "       [1]], dtype=uint8)"
      ]
     },
     "execution_count": 6,
     "metadata": {},
     "output_type": "execute_result"
    }
   ],
   "source": [
    "y[:5]"
   ]
  },
  {
   "cell_type": "code",
   "execution_count": 7,
   "metadata": {},
   "outputs": [
    {
     "data": {
      "text/plain": [
       "(51, 1)"
      ]
     },
     "execution_count": 7,
     "metadata": {},
     "output_type": "execute_result"
    }
   ],
   "source": [
    "y.shape"
   ]
  },
  {
   "cell_type": "code",
   "execution_count": 8,
   "metadata": {
    "collapsed": true
   },
   "outputs": [],
   "source": [
    "y = y.flatten() # makes plotting easier, required for scikit-learn"
   ]
  },
  {
   "cell_type": "code",
   "execution_count": 9,
   "metadata": {
    "collapsed": true
   },
   "outputs": [],
   "source": [
    "def plot_data(X, y):\n",
    "    plt.figure(figsize=(8,6))\n",
    "    plt.scatter(X[y==0, 0], X[y==0, 1], c='y', marker='o')\n",
    "    plt.scatter(X[y==1, 0], X[y==1, 1], c='k', marker='+')\n",
    "    plt.show()"
   ]
  },
  {
   "cell_type": "code",
   "execution_count": 10,
   "metadata": {},
   "outputs": [
    {
     "data": {
      "image/png": "[encoded data removed]",
      "text/plain": [
       "<matplotlib.figure.Figure at 0x111704dd8>"
      ]
     },
     "metadata": {},
     "output_type": "display_data"
    }
   ],
   "source": [
    "plot_data(X, y)"
   ]
  },
  {
   "cell_type": "markdown",
   "metadata": {},
   "source": [
    "There's an obvious separarion indicated by the gap between the two classes, but there's also an outlying positive example (black plus) at ~(0.1, 4.1).\n",
    "\n",
    "\"As part of this exercise, you will also see how this outlier affects the SVM decision boundary.\""
   ]
  },
  {
   "cell_type": "markdown",
   "metadata": {},
   "source": [
    "#### Train linear SVM"
   ]
  },
  {
   "cell_type": "markdown",
   "metadata": {},
   "source": [
    "The exercise provides a pre-written SVM training function written in Matlab/Octave. Until now I've been rewriting all the provided Matlab/Octave code in python, but this is becoming increasingly burdensome, so let's just use `scikit-learn`."
   ]
  },
  {
   "cell_type": "code",
   "execution_count": 11,
   "metadata": {},
   "outputs": [
    {
     "data": {
      "text/plain": [
       "SVC(C=1, cache_size=200, class_weight=None, coef0=0.0,\n",
       "  decision_function_shape='ovr', degree=3, gamma='auto', kernel='linear',\n",
       "  max_iter=-1, probability=False, random_state=None, shrinking=True,\n",
       "  tol=0.001, verbose=False)"
      ]
     },
     "execution_count": 11,
     "metadata": {},
     "output_type": "execute_result"
    }
   ],
   "source": [
    "# Experiment with training the SVM with different values of regularisation parameter C.\n",
    "\n",
    "model = svm.SVC(kernel='linear', C=1)\n",
    "model.fit(X, y)"
   ]
  },
  {
   "cell_type": "code",
   "execution_count": 12,
   "metadata": {
    "collapsed": true
   },
   "outputs": [],
   "source": [
    "def plot_boundary_linear(X, y, model):\n",
    "    \n",
    "    # Plot data\n",
    "    plt.figure(figsize=(8,6))\n",
    "    plt.scatter(X[y==0, 0], X[y==0, 1], c='y', marker='o')\n",
    "    plt.scatter(X[y==1, 0], X[y==1, 1], c='k', marker='+')\n",
    "\n",
    "    # Plot decision boundary\n",
    "    # https://stackoverflow.com/q/23794277/8291169\n",
    "    # To plot decision boundary, y = a*x + b, do\n",
    "    # weights W=svc.coef_[0]\n",
    "    # intercept I=svc.intercept_\n",
    "    # then\n",
    "    # a = -W[0]/W[1]\n",
    "    # b = -I[0]/W[1]\n",
    "    \n",
    "    a = -1 * model.coef_[0][0] / model.coef_[0][1]\n",
    "    b = -1 * model.intercept_[0] / model.coef_[0][1]\n",
    "\n",
    "    # https://stackoverflow.com/a/43811762/8291169\n",
    "    axes = plt.gca()\n",
    "    x_vals = np.array(axes.get_xlim())\n",
    "    y_vals = a * x_vals + b\n",
    "    plt.plot(x_vals, y_vals, '--')\n",
    "\n",
    "    plt.show()"
   ]
  },
  {
   "cell_type": "code",
   "execution_count": 13,
   "metadata": {},
   "outputs": [
    {
     "data": {
      "image/png": "[encoded data removed]",
      "text/plain": [
       "<matplotlib.figure.Figure at 0x114ebed68>"
      ]
     },
     "metadata": {},
     "output_type": "display_data"
    }
   ],
   "source": [
    "plot_boundary_linear(X, y, model)"
   ]
  },
  {
   "cell_type": "markdown",
   "metadata": {},
   "source": [
    "The model has a good fit to the data, but wrongly predicts the outlier (not surprising). By increasing C we can increase the variance and deliberately overfit the data:"
   ]
  },
  {
   "cell_type": "code",
   "execution_count": 14,
   "metadata": {},
   "outputs": [
    {
     "data": {
      "image/png": "[encoded data removed]",
      "text/plain": [
       "<matplotlib.figure.Figure at 0x1071ce940>"
      ]
     },
     "metadata": {},
     "output_type": "display_data"
    }
   ],
   "source": [
    "model = svm.SVC(kernel='linear', C=100)\n",
    "model.fit(X, y)\n",
    "plot_boundary_linear(X, y, model)"
   ]
  },
  {
   "cell_type": "markdown",
   "metadata": {},
   "source": [
    "We've now deliberately overfit the data, and the outlier is predicted correctly, but the decision boundary seems less natural."
   ]
  },
  {
   "cell_type": "markdown",
   "metadata": {},
   "source": [
    "### 1.2 SVM with Gaussian Kernels"
   ]
  },
  {
   "cell_type": "markdown",
   "metadata": {
    "collapsed": true
   },
   "source": [
    "\"...  using SVMs with Gaussian kernels on datasets that are not linearly separable.\""
   ]
  },
  {
   "cell_type": "markdown",
   "metadata": {},
   "source": [
    "#### 1.2.1 Gaussian Kernel"
   ]
  },
  {
   "cell_type": "markdown",
   "metadata": {},
   "source": [
    "Build and test a Gaussian kernel:"
   ]
  },
  {
   "cell_type": "code",
   "execution_count": 15,
   "metadata": {
    "collapsed": true
   },
   "outputs": [],
   "source": [
    "def gaussian_kernel(x1, x2, sigma):\n",
    "    '''\n",
    "    Returns a gaussian kernel between x1 and x2\n",
    "    and returns the value in sim\n",
    "    '''\n",
    "    \n",
    "    sim = 0\n",
    "    \n",
    "    vec = x1 - x2\n",
    "    mag = np.linalg.norm(vec)\n",
    "    \n",
    "    sim = math.exp(-1 * pow(mag, 2) / (2 * sigma**2))\n",
    "    \n",
    "    return sim"
   ]
  },
  {
   "cell_type": "code",
   "execution_count": 16,
   "metadata": {},
   "outputs": [
    {
     "name": "stdout",
     "output_type": "stream",
     "text": [
      "0.324652\n"
     ]
    }
   ],
   "source": [
    "x1 = np.array([1, 2, 1])\n",
    "x2 = np.array([0, 4, -1])\n",
    "sigma = 2\n",
    "\n",
    "sim = gaussian_kernel(x1, x2, sigma)\n",
    "print('%.6f' %sim)\n",
    "\n",
    "# \"...you should expect to see a value of 0.324652\""
   ]
  },
  {
   "cell_type": "markdown",
   "metadata": {},
   "source": [
    "#### 1.2.2 Example Dataset 2"
   ]
  },
  {
   "cell_type": "code",
   "execution_count": 17,
   "metadata": {},
   "outputs": [
    {
     "data": {
      "text/plain": [
       "dict_keys(['__header__', '__version__', '__globals__', 'X', 'y'])"
      ]
     },
     "execution_count": 17,
     "metadata": {},
     "output_type": "execute_result"
    }
   ],
   "source": [
    "data = scipy.io.loadmat('data/ex6data2.mat')\n",
    "data.keys()"
   ]
  },
  {
   "cell_type": "code",
   "execution_count": 18,
   "metadata": {
    "collapsed": true
   },
   "outputs": [],
   "source": [
    "X = data['X']\n",
    "y = data['y']"
   ]
  },
  {
   "cell_type": "code",
   "execution_count": 19,
   "metadata": {},
   "outputs": [
    {
     "data": {
      "text/plain": [
       "array([[ 0.107143 ,  0.60307  ],\n",
       "       [ 0.093318 ,  0.649854 ],\n",
       "       [ 0.0979263,  0.705409 ],\n",
       "       [ 0.15553  ,  0.784357 ],\n",
       "       [ 0.210829 ,  0.866228 ]])"
      ]
     },
     "execution_count": 19,
     "metadata": {},
     "output_type": "execute_result"
    }
   ],
   "source": [
    "X[:5]"
   ]
  },
  {
   "cell_type": "code",
   "execution_count": 20,
   "metadata": {},
   "outputs": [
    {
     "data": {
      "text/plain": [
       "array([[1],\n",
       "       [1],\n",
       "       [1],\n",
       "       [1],\n",
       "       [1]], dtype=uint8)"
      ]
     },
     "execution_count": 20,
     "metadata": {},
     "output_type": "execute_result"
    }
   ],
   "source": [
    "y[:5]"
   ]
  },
  {
   "cell_type": "code",
   "execution_count": 21,
   "metadata": {
    "collapsed": true
   },
   "outputs": [],
   "source": [
    "y = y.flatten()"
   ]
  },
  {
   "cell_type": "code",
   "execution_count": 22,
   "metadata": {},
   "outputs": [
    {
     "data": {
      "image/png": "[encoded data removed]",
      "text/plain": [
       "<matplotlib.figure.Figure at 0x11508d898>"
      ]
     },
     "metadata": {},
     "output_type": "display_data"
    }
   ],
   "source": [
    "plot_data(X, y)"
   ]
  },
  {
   "cell_type": "markdown",
   "metadata": {},
   "source": [
    "Non-linear decision boundary required, so we use a Gaussian kernel."
   ]
  },
  {
   "cell_type": "markdown",
   "metadata": {},
   "source": [
    "Getting `svm.SVC()` to work with my `gaussian_kernel()` function can be done, but is going to be inconvenient. `svm.SVC` has a built in Gaussian kernel called `rbf` (radial basis function) where the `gamma` parameter is equivalent to\n",
    "\n",
    "`1 / 2 * sigma**2`\n",
    "\n",
    "http://scikit-learn.org/stable/modules/svm.html#svm-kernels\n",
    "\n",
    "so let's use that."
   ]
  },
  {
   "cell_type": "code",
   "execution_count": 23,
   "metadata": {},
   "outputs": [
    {
     "data": {
      "text/plain": [
       "SVC(C=1, cache_size=200, class_weight=None, coef0=0.0,\n",
       "  decision_function_shape='ovr', degree=3, gamma=50, kernel='rbf',\n",
       "  max_iter=-1, probability=False, random_state=None, shrinking=True,\n",
       "  tol=0.001, verbose=False)"
      ]
     },
     "execution_count": 23,
     "metadata": {},
     "output_type": "execute_result"
    }
   ],
   "source": [
    "# sigma = 0.1 -> gamma = 50\n",
    "\n",
    "model = svm.SVC(kernel='rbf', gamma=50, C=1)\n",
    "model.fit(X, y)"
   ]
  },
  {
   "cell_type": "code",
   "execution_count": 24,
   "metadata": {
    "collapsed": true
   },
   "outputs": [],
   "source": [
    "def plot_boundary(X, y, model):\n",
    "    \n",
    "    # Based on the \"official\" plotting example from the scikit-learn people\n",
    "    # http://scikit-learn.org/stable/auto_examples/svm/plot_iris.html\n",
    "    \n",
    "    X0 = X[:, 0]\n",
    "    X1 = X[:, 1]\n",
    "    \n",
    "    ## Create grid of points to plot on\n",
    "    x0_min, x0_max = X0.min() - 0.02, X0.max() + 0.02\n",
    "    x1_min, x1_max = X1.min() - 0.02, X1.max() + 0.02\n",
    "    \n",
    "    xx0, xx1 = np.meshgrid(np.arange(x0_min, x0_max, 0.005),\n",
    "                           np.arange(x1_min, x1_max, 0.005))\n",
    "    # If you're having trouble visualising how meshgrid works:\n",
    "    # https://stackoverflow.com/a/42404323/8291169\n",
    "    \n",
    "    \n",
    "    ## Evaluate model predictions on grid\n",
    "    z = model.predict(np.c_[xx0.ravel(), xx1.ravel()])\n",
    "    # This is a complicated bit of code!\n",
    "    # np.c_ is just concatenation for slice objects (which our xx0 and xx1 are).\n",
    "    # ravel just flattens, but uses less memory since it flattens the original\n",
    "    # array rather than creating a copy like flatten().\n",
    "    \n",
    "    # z is flat, so need to reshape\n",
    "    z = z.reshape(xx0.shape)\n",
    "    \n",
    "    ## And plot\n",
    "    plt.figure(figsize=(8,6))\n",
    "    plt.scatter(X[y==0, 0], X[y==0, 1], c='y', marker='o')\n",
    "    plt.scatter(X[y==1, 0], X[y==1, 1], c='k', marker='+')\n",
    "    plt.contour(xx0, xx1, z, 1, colors='b')\n",
    "\n",
    "    plt.show()"
   ]
  },
  {
   "cell_type": "code",
   "execution_count": 25,
   "metadata": {},
   "outputs": [
    {
     "data": {
      "image/png": "[encoded data removed]",
      "text/plain": [
       "<matplotlib.figure.Figure at 0x1156e0f60>"
      ]
     },
     "metadata": {},
     "output_type": "display_data"
    }
   ],
   "source": [
    "plot_boundary(X, y, model)"
   ]
  },
  {
   "cell_type": "markdown",
   "metadata": {
    "collapsed": true
   },
   "source": [
    "Using a Gaussian kernel we see that we can plot a non-linear boundary and achieve good separation between the two classes."
   ]
  },
  {
   "cell_type": "markdown",
   "metadata": {},
   "source": [
    "#### 1.2.3 Example Dataset 3"
   ]
  },
  {
   "cell_type": "code",
   "execution_count": 26,
   "metadata": {},
   "outputs": [
    {
     "data": {
      "text/plain": [
       "dict_keys(['__header__', '__version__', '__globals__', 'X', 'y', 'yval', 'Xval'])"
      ]
     },
     "execution_count": 26,
     "metadata": {},
     "output_type": "execute_result"
    }
   ],
   "source": [
    "data = scipy.io.loadmat('data/ex6data3.mat')\n",
    "data.keys()"
   ]
  },
  {
   "cell_type": "markdown",
   "metadata": {},
   "source": [
    "We have both test data (X, y) and cross-validation data (Xval, yval)."
   ]
  },
  {
   "cell_type": "code",
   "execution_count": 27,
   "metadata": {
    "collapsed": true
   },
   "outputs": [],
   "source": [
    "X = data['X']\n",
    "y = data['y']\n",
    "\n",
    "Xval = data['Xval']\n",
    "yval = data['yval']"
   ]
  },
  {
   "cell_type": "code",
   "execution_count": 28,
   "metadata": {},
   "outputs": [
    {
     "data": {
      "text/plain": [
       "array([[-0.158986,  0.423977],\n",
       "       [-0.347926,  0.47076 ],\n",
       "       [-0.504608,  0.353801],\n",
       "       [-0.596774,  0.114035],\n",
       "       [-0.518433, -0.172515]])"
      ]
     },
     "execution_count": 28,
     "metadata": {},
     "output_type": "execute_result"
    }
   ],
   "source": [
    "X[:5]"
   ]
  },
  {
   "cell_type": "code",
   "execution_count": 29,
   "metadata": {},
   "outputs": [
    {
     "data": {
      "text/plain": [
       "array([[1],\n",
       "       [1],\n",
       "       [1],\n",
       "       [1],\n",
       "       [1]], dtype=uint8)"
      ]
     },
     "execution_count": 29,
     "metadata": {},
     "output_type": "execute_result"
    }
   ],
   "source": [
    "y[:5]"
   ]
  },
  {
   "cell_type": "code",
   "execution_count": 30,
   "metadata": {
    "collapsed": true
   },
   "outputs": [],
   "source": [
    "y = y.flatten()\n",
    "yval = yval.flatten()"
   ]
  },
  {
   "cell_type": "code",
   "execution_count": 31,
   "metadata": {},
   "outputs": [
    {
     "data": {
      "image/png": "[encoded data removed]",
      "text/plain": [
       "<matplotlib.figure.Figure at 0x1151889e8>"
      ]
     },
     "metadata": {},
     "output_type": "display_data"
    }
   ],
   "source": [
    "plot_data(X, y)"
   ]
  },
  {
   "cell_type": "markdown",
   "metadata": {},
   "source": [
    "\"Your task is to use the cross validation set Xval, yval to determine the best C and sigma [gamma in our case] parameter to use.\""
   ]
  },
  {
   "cell_type": "code",
   "execution_count": 32,
   "metadata": {
    "collapsed": true
   },
   "outputs": [],
   "source": [
    "# For both C and σ, we suggest trying values in multiplicative steps (e.g., 0.01, 0.03, 0.1, 0.3, 1, 3, 10, 30).\n",
    "# Note that you should try all possible pairs of values for C and σ"
   ]
  },
  {
   "cell_type": "code",
   "execution_count": 33,
   "metadata": {
    "collapsed": true
   },
   "outputs": [],
   "source": [
    "# Let's try the following set of values for both C and sigma**2:\n",
    "vals = np.array([0.01, 0.03, 0.1, 0.3, 1, 3, 10, 30])\n",
    "C_vals = vals\n",
    "gamma_vals = 1 / (2 * vals)"
   ]
  },
  {
   "cell_type": "code",
   "execution_count": 34,
   "metadata": {},
   "outputs": [
    {
     "data": {
      "text/plain": [
       "(200,)"
      ]
     },
     "execution_count": 34,
     "metadata": {},
     "output_type": "execute_result"
    }
   ],
   "source": [
    "Xval[:, 1].shape"
   ]
  },
  {
   "cell_type": "code",
   "execution_count": 55,
   "metadata": {},
   "outputs": [
    {
     "name": "stdout",
     "output_type": "stream",
     "text": [
      "Best result found at C = 1.00, gamma = 50.00, with accuracy = 96.50%.\n"
     ]
    }
   ],
   "source": [
    "# Train the SVM using all combinations of C, gamma\n",
    "\n",
    "accuracy = 0\n",
    "C_best = -1\n",
    "gamma_best = -1\n",
    "\n",
    "for C in C_vals:\n",
    "    for gamma in gamma_vals:\n",
    "\n",
    "        \n",
    "        # Train SMV\n",
    "        model = svm.SVC(kernel='rbf', gamma=gamma, C=C)\n",
    "        model.fit(X, y)\n",
    "        \n",
    "        # Evaluate on cross validation set\n",
    "        pred = model.predict(Xval)\n",
    "        accuracy_temp = np.mean(pred == yval)\n",
    "\n",
    "        if accuracy_temp > accuracy:\n",
    "            accuracy = accuracy_temp\n",
    "            C_best = C\n",
    "            gamma_best = gamma\n",
    "            \n",
    "print('Best result found at C = %.2f, gamma = %.2f, with accuracy = %.2f%%.' %(C_best, gamma_best, accuracy*100))\n",
    "\n"
   ]
  },
  {
   "cell_type": "code",
   "execution_count": 49,
   "metadata": {},
   "outputs": [
    {
     "name": "stdout",
     "output_type": "stream",
     "text": [
      "%\n"
     ]
    }
   ],
   "source": [
    "print('%')"
   ]
  }
 ],
 "metadata": {
  "kernelspec": {
   "display_name": "Python 3",
   "language": "python",
   "name": "python3"
  },
  "language_info": {
   "codemirror_mode": {
    "name": "ipython",
    "version": 3
   },
   "file_extension": ".py",
   "mimetype": "text/x-python",
   "name": "python",
   "nbconvert_exporter": "python",
   "pygments_lexer": "ipython3",
   "version": "3.6.2"
  }
 },
 "nbformat": 4,
 "nbformat_minor": 2
}
