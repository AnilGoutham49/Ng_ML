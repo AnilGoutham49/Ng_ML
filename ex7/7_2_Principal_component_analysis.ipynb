{
 "cells": [
  {
   "cell_type": "markdown",
   "metadata": {},
   "source": [
    "# K-means Clustering and Principal Component Analysis"
   ]
  },
  {
   "cell_type": "markdown",
   "metadata": {},
   "source": [
    "## 2 Principal Component Analysis"
   ]
  },
  {
   "cell_type": "markdown",
   "metadata": {},
   "source": [
    "### 2.1 Example Dataset"
   ]
  },
  {
   "cell_type": "code",
   "execution_count": 1,
   "metadata": {
    "collapsed": true
   },
   "outputs": [],
   "source": [
    "import scipy.io\n",
    "import matplotlib.pyplot as plt\n",
    "import numpy as np"
   ]
  },
  {
   "cell_type": "code",
   "execution_count": 2,
   "metadata": {},
   "outputs": [
    {
     "data": {
      "text/plain": [
       "dict_keys(['__header__', '__version__', '__globals__', 'X'])"
      ]
     },
     "execution_count": 2,
     "metadata": {},
     "output_type": "execute_result"
    }
   ],
   "source": [
    "data = scipy.io.loadmat('data/ex7data1.mat')\n",
    "data.keys()"
   ]
  },
  {
   "cell_type": "code",
   "execution_count": 3,
   "metadata": {},
   "outputs": [
    {
     "data": {
      "text/plain": [
       "(50, 2)"
      ]
     },
     "execution_count": 3,
     "metadata": {},
     "output_type": "execute_result"
    }
   ],
   "source": [
    "X = data['X']\n",
    "X.shape"
   ]
  },
  {
   "cell_type": "code",
   "execution_count": 4,
   "metadata": {},
   "outputs": [
    {
     "data": {
      "image/png": "[encoded data removed]",
      "text/plain": [
       "<matplotlib.figure.Figure at 0x116e1b1d0>"
      ]
     },
     "metadata": {},
     "output_type": "display_data"
    }
   ],
   "source": [
    "plt.figure(figsize=(6,6))\n",
    "plt.scatter(X[:, 0], X[:, 1])\n",
    "plt.show()"
   ]
  },
  {
   "cell_type": "markdown",
   "metadata": {},
   "source": [
    "We can see that our data is much more varied in one direction than the other. We're going to use PCA to reduce the data from 2D to 1D."
   ]
  },
  {
   "cell_type": "markdown",
   "metadata": {},
   "source": [
    "### 2.2 Implementing PCA"
   ]
  },
  {
   "cell_type": "code",
   "execution_count": 5,
   "metadata": {
    "collapsed": true
   },
   "outputs": [],
   "source": [
    "def feature_normalise(X):\n",
    "    '''\n",
    "    Returns a normalized version of X where the mean value\n",
    "    of each feature (column) is 0 and the standard deviation is 1.\n",
    "    '''\n",
    "    \n",
    "    mu = np.mean(X, axis=0)\n",
    "    X_norm = X - mu\n",
    "    \n",
    "    sigma = np.std(X_norm, axis=0)\n",
    "    X_norm = X_norm / sigma\n",
    "    \n",
    "    return X_norm, mu, sigma"
   ]
  },
  {
   "cell_type": "code",
   "execution_count": 6,
   "metadata": {
    "collapsed": true
   },
   "outputs": [],
   "source": [
    "# Normalise X\n",
    "X_norm, mu, sigma = feature_normalise(X)"
   ]
  },
  {
   "cell_type": "code",
   "execution_count": 7,
   "metadata": {
    "collapsed": true
   },
   "outputs": [],
   "source": [
    "def pca(X):\n",
    "    '''\n",
    "    Computes eigenvectors of the covariance matrix of X.\n",
    "    Returns the eigenvectors U, and eigenvalues S.\n",
    "    '''\n",
    "    \n",
    "    m, n = X.shape\n",
    "    \n",
    "    # Compute covariance matrix\n",
    "    Sigma = 1/m * np.dot(X.T, X)\n",
    "    \n",
    "    U, S, V = np.linalg.svd(Sigma)\n",
    "    \n",
    "    return U, S"
   ]
  },
  {
   "cell_type": "code",
   "execution_count": 8,
   "metadata": {
    "collapsed": true
   },
   "outputs": [],
   "source": [
    "U, S = pca(X_norm)"
   ]
  },
  {
   "cell_type": "code",
   "execution_count": 9,
   "metadata": {},
   "outputs": [
    {
     "data": {
      "image/png": "[encoded data removed]",
      "text/plain": [
       "<matplotlib.figure.Figure at 0x11a1c1b00>"
      ]
     },
     "metadata": {},
     "output_type": "display_data"
    }
   ],
   "source": [
    "# Draw eigenvectors centred at mean of data\n",
    "# These show the directions of maximum variations in the dataset.\n",
    "\n",
    "# My 'mu' and 'U' arrays are of the form (x, y), but matplotlib\n",
    "# wants plt.plot(x, y), so we have to rearrnage things a bit:\n",
    "\n",
    "eigen_vect1 = np.vstack([mu, mu + 1.5 * S[0] * U[:,0].T])\n",
    "\n",
    "# eigen_vect1 is of the form\n",
    "#\n",
    "# array([[x1, y1]\n",
    "#       [x2, y2]])\n",
    "#\n",
    "# where [x1, y1] is the mean and\n",
    "# [x2, y2] is mean plus 1.5 * eigenvalue * eigenvector\n",
    "# 1.5 scaling is just to make lines more visible on plot\n",
    "\n",
    "eigen_vect2 = np.vstack([mu, mu + 1.5 * S[1] * U[:,1].T])\n",
    "\n",
    "plt.figure(figsize=(6,6))\n",
    "plt.scatter(X[:, 0], X[:, 1])\n",
    "plt.plot(eigen_vect1[:, 0], eigen_vect1[:, 1], c='r')\n",
    "plt.plot(eigen_vect2[:, 0], eigen_vect2[:, 1], c='r')\n",
    "plt.show()"
   ]
  }
 ],
 "metadata": {
  "kernelspec": {
   "display_name": "Python 3",
   "language": "python",
   "name": "python3"
  },
  "language_info": {
   "codemirror_mode": {
    "name": "ipython",
    "version": 3
   },
   "file_extension": ".py",
   "mimetype": "text/x-python",
   "name": "python",
   "nbconvert_exporter": "python",
   "pygments_lexer": "ipython3",
   "version": "3.6.2"
  }
 },
 "nbformat": 4,
 "nbformat_minor": 2
}
