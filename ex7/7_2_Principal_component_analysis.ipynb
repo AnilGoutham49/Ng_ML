{
 "cells": [
  {
   "cell_type": "markdown",
   "metadata": {},
   "source": [
    "# K-means Clustering and Principal Component Analysis"
   ]
  },
  {
   "cell_type": "markdown",
   "metadata": {},
   "source": [
    "## 2 Principal Component Analysis"
   ]
  },
  {
   "cell_type": "markdown",
   "metadata": {},
   "source": [
    "### 2.1 Example Dataset"
   ]
  },
  {
   "cell_type": "code",
   "execution_count": 1,
   "metadata": {
    "collapsed": true
   },
   "outputs": [],
   "source": [
    "import scipy.io\n",
    "import matplotlib.pyplot as plt\n",
    "import numpy as np"
   ]
  },
  {
   "cell_type": "code",
   "execution_count": 2,
   "metadata": {},
   "outputs": [
    {
     "data": {
      "text/plain": [
       "dict_keys(['__header__', '__version__', '__globals__', 'X'])"
      ]
     },
     "execution_count": 2,
     "metadata": {},
     "output_type": "execute_result"
    }
   ],
   "source": [
    "data = scipy.io.loadmat('data/ex7data1.mat')\n",
    "data.keys()"
   ]
  },
  {
   "cell_type": "code",
   "execution_count": 3,
   "metadata": {},
   "outputs": [
    {
     "data": {
      "text/plain": [
       "(50, 2)"
      ]
     },
     "execution_count": 3,
     "metadata": {},
     "output_type": "execute_result"
    }
   ],
   "source": [
    "X = data['X']\n",
    "X.shape"
   ]
  },
  {
   "cell_type": "code",
   "execution_count": 4,
   "metadata": {},
   "outputs": [
    {
     "data": {
      "image/png": "[encoded data removed]",
      "text/plain": [
       "<matplotlib.figure.Figure at 0x11490c278>"
      ]
     },
     "metadata": {},
     "output_type": "display_data"
    }
   ],
   "source": [
    "plt.figure(figsize=(6,6))\n",
    "plt.scatter(X[:, 0], X[:, 1])\n",
    "plt.show()"
   ]
  },
  {
   "cell_type": "markdown",
   "metadata": {},
   "source": [
    "We can see that our data is much more varied in one direction than the other. We're going to use PCA to reduce the data from 2D to 1D."
   ]
  },
  {
   "cell_type": "markdown",
   "metadata": {},
   "source": [
    "### 2.2 Implementing PCA"
   ]
  },
  {
   "cell_type": "code",
   "execution_count": 5,
   "metadata": {
    "collapsed": true
   },
   "outputs": [],
   "source": [
    "def feature_normalise(X):\n",
    "    '''\n",
    "    Returns a normalized version of X where the mean value\n",
    "    of each feature (column) is 0 and the standard deviation is 1.\n",
    "    '''\n",
    "    \n",
    "    mu = np.mean(X, axis=0)\n",
    "    X_norm = X - mu\n",
    "    \n",
    "    sigma = np.std(X_norm, axis=0)\n",
    "    X_norm = X_norm / sigma\n",
    "    \n",
    "    return X_norm, mu, sigma"
   ]
  },
  {
   "cell_type": "code",
   "execution_count": 6,
   "metadata": {
    "collapsed": true
   },
   "outputs": [],
   "source": [
    "# Normalise X\n",
    "X_norm, mu, sigma = feature_normalise(X)"
   ]
  },
  {
   "cell_type": "code",
   "execution_count": 7,
   "metadata": {
    "collapsed": true
   },
   "outputs": [],
   "source": [
    "def pca(X):\n",
    "    '''\n",
    "    Computes eigenvectors of the covariance matrix of X.\n",
    "    Returns the eigenvectors U, and eigenvalues S.\n",
    "    '''\n",
    "    \n",
    "    m, n = X.shape\n",
    "    \n",
    "    # Compute covariance matrix\n",
    "    Sigma = 1/m * np.dot(X.T, X)\n",
    "    \n",
    "    U, S, V = np.linalg.svd(Sigma)\n",
    "    \n",
    "    return U, S"
   ]
  },
  {
   "cell_type": "code",
   "execution_count": 8,
   "metadata": {
    "collapsed": true
   },
   "outputs": [],
   "source": [
    "U, S = pca(X_norm)"
   ]
  },
  {
   "cell_type": "code",
   "execution_count": 9,
   "metadata": {},
   "outputs": [
    {
     "data": {
      "image/png": "[encoded data removed]",
      "text/plain": [
       "<matplotlib.figure.Figure at 0x117cb25c0>"
      ]
     },
     "metadata": {},
     "output_type": "display_data"
    }
   ],
   "source": [
    "# Draw eigenvectors centred at mean of data\n",
    "# These show the directions of maximum variations in the dataset.\n",
    "\n",
    "# My 'mu' and 'U' arrays are of the form (x, y), but matplotlib\n",
    "# wants plt.plot(x, y), so we have to rearrnage things a bit:\n",
    "\n",
    "eigen_vect1 = np.vstack([mu, mu + 1.5 * S[0] * U[:,0].T])\n",
    "\n",
    "# eigen_vect1 is of the form\n",
    "#\n",
    "# array([[x1, y1]\n",
    "#        [x2, y2]])\n",
    "#\n",
    "# where [x1, y1] is the mean and\n",
    "# [x2, y2] is mean plus 1.5 * eigenvalue * eigenvector\n",
    "# 1.5 scaling is just to make lines more visible on plot\n",
    "\n",
    "eigen_vect2 = np.vstack([mu, mu + 1.5 * S[1] * U[:,1].T])\n",
    "\n",
    "plt.figure(figsize=(6,6))\n",
    "plt.scatter(X[:, 0], X[:, 1])\n",
    "plt.plot(eigen_vect1[:, 0], eigen_vect1[:, 1], c='r')\n",
    "plt.plot(eigen_vect2[:, 0], eigen_vect2[:, 1], c='r')\n",
    "plt.show()"
   ]
  },
  {
   "cell_type": "markdown",
   "metadata": {},
   "source": [
    "### 2.3 Dimensionality Reduction with PCA"
   ]
  },
  {
   "cell_type": "markdown",
   "metadata": {},
   "source": [
    "\"...you will use the eigenvectors returned by PCA and project the example dataset into a 1-dimensional space\""
   ]
  },
  {
   "cell_type": "markdown",
   "metadata": {},
   "source": [
    "#### 2.3.1 Projecting the data onto the principal components"
   ]
  },
  {
   "cell_type": "code",
   "execution_count": 10,
   "metadata": {
    "collapsed": true
   },
   "outputs": [],
   "source": [
    "def project_data(X, U, K):\n",
    "    \n",
    "    '''\n",
    "    Computes the projection of normalized inputs X\n",
    "    into reduced dimensional space spanned by\n",
    "    the first K columns of principal components U.\n",
    "    Returns the projected examples in Z.\n",
    "    '''\n",
    "    \n",
    "    Z = np.zeros([X.shape[0], K])\n",
    "    \n",
    "    U_reduce = U[:, 0:K]\n",
    "    Z = np.dot(X, U_reduce)\n",
    "    \n",
    "    print(X.shape)\n",
    "    print(U_reduce.shape)\n",
    "    \n",
    "    return Z"
   ]
  },
  {
   "cell_type": "code",
   "execution_count": 11,
   "metadata": {},
   "outputs": [
    {
     "name": "stdout",
     "output_type": "stream",
     "text": [
      "(50, 2)\n",
      "(2, 1)\n",
      "Projection of the first example: [ 1.49631261]\n",
      "(this value should be about ±1.481274)\n"
     ]
    }
   ],
   "source": [
    "K = 1\n",
    "Z = project_data(X_norm, U, K)\n",
    "\n",
    "print('Projection of the first example:', Z[0]);\n",
    "print('(this value should be about ±1.481274)');"
   ]
  },
  {
   "cell_type": "markdown",
   "metadata": {},
   "source": [
    "Slight difference from expected value, presumably because np.linalg.svd() isn't exactly the same as Matlab's SVD."
   ]
  },
  {
   "cell_type": "markdown",
   "metadata": {},
   "source": [
    "#### 2.3.2 Reconstructing an approximation of the data"
   ]
  },
  {
   "cell_type": "code",
   "execution_count": 12,
   "metadata": {
    "collapsed": true
   },
   "outputs": [],
   "source": [
    "def recover_data(Z, U, K):\n",
    "    '''\n",
    "    For Z, an array of data that has been projected onto the first\n",
    "    K principal components in array U, recovers an approximation of\n",
    "    the original data.\n",
    "    Returns the approximate reconstruction in X_rec.\n",
    "    '''\n",
    "    \n",
    "    U_reduce = U[:, 0:K]\n",
    "    X_rec = np.dot(Z, U_reduce.T)\n",
    "\n",
    "    return X_rec"
   ]
  },
  {
   "cell_type": "code",
   "execution_count": 13,
   "metadata": {},
   "outputs": [
    {
     "name": "stdout",
     "output_type": "stream",
     "text": [
      "Approximation of the first example: [-1.05805279 -1.05805279]\n",
      "(this value should be about  -1.047419 -1.047419)\n"
     ]
    }
   ],
   "source": [
    "X_rec  = recover_data(Z, U, K)\n",
    "print('Approximation of the first example:', X_rec[0])\n",
    "print('(this value should be about  -1.047419 -1.047419)');"
   ]
  },
  {
   "cell_type": "markdown",
   "metadata": {},
   "source": [
    "Again, sight difference from expected value, presumably because np.linalg.svd() isn't exactly the same as Matlab's SVD."
   ]
  },
  {
   "cell_type": "code",
   "execution_count": 14,
   "metadata": {},
   "outputs": [
    {
     "data": {
      "image/png": "[encoded data removed]",
      "text/plain": [
       "<matplotlib.figure.Figure at 0x1182aa240>"
      ]
     },
     "metadata": {},
     "output_type": "display_data"
    }
   ],
   "source": [
    "# Draw lines connecting projected points to original points\n",
    "\n",
    "plt.figure(figsize=(6,6))\n",
    "plt.scatter(X_norm[:, 0], X_norm[:, 1], label='Original data')\n",
    "plt.scatter(X_rec[:, 0], X_rec[:, 1], label='Reduced data')\n",
    "\n",
    "for i in range(X_norm.shape[0]):\n",
    "    line_vec = np.vstack([X_norm[i], X_rec[i]])\n",
    "    plt.plot(line_vec[:, 0], line_vec[:, 1], 'k--')\n",
    "\n",
    "plt.xlim(-2.5, 2.5)\n",
    "plt.ylim(-2.5, 2.5)\n",
    "plt.legend()\n",
    "plt.show()"
   ]
  },
  {
   "cell_type": "markdown",
   "metadata": {},
   "source": [
    "Comparing this plot with the plot of the principal components in the earlier plot, we can see that the projected data only preserves position along the first eigenvector."
   ]
  },
  {
   "cell_type": "code",
   "execution_count": null,
   "metadata": {
    "collapsed": true
   },
   "outputs": [],
   "source": []
  }
 ],
 "metadata": {
  "kernelspec": {
   "display_name": "Python 3",
   "language": "python",
   "name": "python3"
  },
  "language_info": {
   "codemirror_mode": {
    "name": "ipython",
    "version": 3
   },
   "file_extension": ".py",
   "mimetype": "text/x-python",
   "name": "python",
   "nbconvert_exporter": "python",
   "pygments_lexer": "ipython3",
   "version": "3.6.2"
  }
 },
 "nbformat": 4,
 "nbformat_minor": 2
}
