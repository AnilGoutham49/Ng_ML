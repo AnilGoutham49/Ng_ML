{
 "cells": [
  {
   "cell_type": "markdown",
   "metadata": {},
   "source": [
    "#  K-means Clustering and Principal Component Analysis"
   ]
  },
  {
   "cell_type": "markdown",
   "metadata": {},
   "source": [
    "## 1 K-means Clustering"
   ]
  },
  {
   "cell_type": "markdown",
   "metadata": {},
   "source": [
    "\"...you will implement the K-means algorithm and use it for image compression.\""
   ]
  },
  {
   "cell_type": "markdown",
   "metadata": {},
   "source": [
    "### 1.1 Implementing K-means"
   ]
  },
  {
   "cell_type": "markdown",
   "metadata": {},
   "source": [
    "#### 1.1.1 Finding closest centroids"
   ]
  },
  {
   "cell_type": "code",
   "execution_count": 1,
   "metadata": {
    "collapsed": true
   },
   "outputs": [],
   "source": [
    "import scipy.io\n",
    "import numpy as np\n",
    "import math\n",
    "from scipy.spatial import distance"
   ]
  },
  {
   "cell_type": "code",
   "execution_count": 2,
   "metadata": {},
   "outputs": [
    {
     "data": {
      "text/plain": [
       "dict_keys(['__header__', '__version__', '__globals__', 'X'])"
      ]
     },
     "execution_count": 2,
     "metadata": {},
     "output_type": "execute_result"
    }
   ],
   "source": [
    "# Load example dataset\n",
    "data = scipy.io.loadmat('data/ex7data2.mat')\n",
    "data.keys()"
   ]
  },
  {
   "cell_type": "code",
   "execution_count": 3,
   "metadata": {},
   "outputs": [
    {
     "data": {
      "text/plain": [
       "(300, 2)"
      ]
     },
     "execution_count": 3,
     "metadata": {},
     "output_type": "execute_result"
    }
   ],
   "source": [
    "X = data['X']\n",
    "X.shape"
   ]
  },
  {
   "cell_type": "markdown",
   "metadata": {},
   "source": [
    "300 examples of 2D data points"
   ]
  },
  {
   "cell_type": "code",
   "execution_count": 4,
   "metadata": {
    "collapsed": true
   },
   "outputs": [],
   "source": [
    "K = 3 # 3 centroids\n",
    "\n",
    "# Initial centroid positions\n",
    "initial_centroids = np.array([[3, 3], [6, 2], [8, 5]])"
   ]
  },
  {
   "cell_type": "code",
   "execution_count": 5,
   "metadata": {
    "collapsed": true
   },
   "outputs": [],
   "source": [
    "def find_closest_centroids(X, centroids):\n",
    "    '''\n",
    "    Returns the closest centroids for every example in dataset X,\n",
    "    where each row in X is a single example.\n",
    "    Returned array idx  is an (m x 1) vector of centroid assignments\n",
    "    (i.e. each entry in range [1..K]).\n",
    "    '''\n",
    "    \n",
    "    idx = np.zeros([X.shape[0], 1])\n",
    "    \n",
    "    K = centroids.shape[0] # number of centroids\n",
    "    m = X.shape[0] # number of examples\n",
    "    \n",
    "    for i in range(m):\n",
    "        c = -1 # index of closest centroid\n",
    "        dist_min = np.inf # distance to nearest centroid\n",
    "\n",
    "        for k in range(K):\n",
    "            dist = distance.euclidean(centroids[k], X[i]) \n",
    "            if dist < dist_min:\n",
    "                dist_min = dist\n",
    "                c = k\n",
    "        \n",
    "        idx[i] = c\n",
    "    \n",
    "    return idx"
   ]
  },
  {
   "cell_type": "code",
   "execution_count": 6,
   "metadata": {
    "collapsed": true
   },
   "outputs": [],
   "source": [
    "# Find the closest centroids for the examples in X\n",
    "idx = find_closest_centroids(X, initial_centroids)"
   ]
  },
  {
   "cell_type": "code",
   "execution_count": 7,
   "metadata": {},
   "outputs": [
    {
     "name": "stdout",
     "output_type": "stream",
     "text": [
      "Closest centroids for the first 3 examples:\n",
      "[[ 0.]\n",
      " [ 2.]\n",
      " [ 1.]]\n",
      "Closest centroids should be 0, 2, 1 respectively\n"
     ]
    }
   ],
   "source": [
    "print('Closest centroids for the first 3 examples:')\n",
    "print(idx[0:3])\n",
    "print('Closest centroids should be 0, 2, 1 respectively')\n",
    "\n",
    "# The exercise actually specifies 1, 3, 2, but since python\n",
    "# uses zero-based indexing we should see 0, 2, 1."
   ]
  },
  {
   "cell_type": "markdown",
   "metadata": {},
   "source": [
    "#### 1.1.2 Computing centroid means"
   ]
  },
  {
   "cell_type": "code",
   "execution_count": 24,
   "metadata": {
    "collapsed": true
   },
   "outputs": [],
   "source": [
    "def compute_centroids(X, idx, K):\n",
    "    '''\n",
    "    Returns new centroids by computing the means of the data points assigned to each centroid.\n",
    "    Parameters:\n",
    "    -dataset X where each row is a single data point\n",
    "    -a vector idx of centroid assignments for each example in X\n",
    "    -the number of centroids K.\n",
    "    '''\n",
    "\n",
    "    m, n = X.shape # nuber and dimension of examples\n",
    "    centroids = np.zeros([K, n])\n",
    "   \n",
    "    for k in range(K):\n",
    "        C = np.sum(idx==k) # number of examples assigned to centroid k\n",
    "        idx_k = (idx==k).astype(int) # binary array of examples assigned to centroid k\n",
    "        X_k = X * idx_k # array of coordinates of examples assigned to centroid k\n",
    "\n",
    "        # Calculate new centroid mean\n",
    "        mu = (1/C) * np.sum(X_k, axis=0)\n",
    "        centroids[k] = mu\n",
    "\n",
    "    return centroids"
   ]
  },
  {
   "cell_type": "code",
   "execution_count": 30,
   "metadata": {},
   "outputs": [],
   "source": [
    "centroids = compute_centroids(X, idx, K)"
   ]
  },
  {
   "cell_type": "code",
   "execution_count": 34,
   "metadata": {},
   "outputs": [
    {
     "name": "stdout",
     "output_type": "stream",
     "text": [
      "Centroids computed after initial finding of closest centroids:\n",
      "[[ 2.42830111  3.15792418]\n",
      " [ 5.81350331  2.63365645]\n",
      " [ 7.11938687  3.6166844 ]]\n",
      "Expected centroids:\n",
      "[ 2.428301 3.157924 ]\n",
      "[ 5.813503 2.633656 ]\n",
      "[ 7.119387 3.616684 ]\n"
     ]
    }
   ],
   "source": [
    "print('Centroids computed after initial finding of closest centroids:')\n",
    "print(centroids)\n",
    "print('Expected centroids:');\n",
    "print('[ 2.428301 3.157924 ]');\n",
    "print('[ 5.813503 2.633656 ]');\n",
    "print('[ 7.119387 3.616684 ]');"
   ]
  },
  {
   "cell_type": "code",
   "execution_count": null,
   "metadata": {
    "collapsed": true
   },
   "outputs": [],
   "source": []
  }
 ],
 "metadata": {
  "kernelspec": {
   "display_name": "Python 3",
   "language": "python",
   "name": "python3"
  },
  "language_info": {
   "codemirror_mode": {
    "name": "ipython",
    "version": 3
   },
   "file_extension": ".py",
   "mimetype": "text/x-python",
   "name": "python",
   "nbconvert_exporter": "python",
   "pygments_lexer": "ipython3",
   "version": "3.6.1"
  }
 },
 "nbformat": 4,
 "nbformat_minor": 2
}
