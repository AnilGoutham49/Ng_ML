{
 "cells": [
  {
   "cell_type": "markdown",
   "metadata": {},
   "source": [
    "### Octave/Matlab example:\n",
    "**Input**\n",
    "```\n",
    "% Initialize matrix A \n",
    "A = [1, 2, 3; 4, 5, 6;7, 8, 9] \n",
    "\n",
    "% Initialize vector v \n",
    "v = [1; 1; 1] \n",
    "\n",
    "% Multiply A * v\n",
    "Av = A * v\n",
    "```\n",
    "**Output**\n",
    "```\n",
    "A =\n",
    "\n",
    "   1   2   3\n",
    "   4   5   6\n",
    "   7   8   9\n",
    "\n",
    "v =\n",
    "\n",
    "   1\n",
    "   1\n",
    "   1\n",
    "\n",
    "Av =\n",
    "\n",
    "    6\n",
    "   15\n",
    "   24\n",
    "```"
   ]
  },
  {
   "cell_type": "markdown",
   "metadata": {},
   "source": [
    "### I'm going to do it in python/numpy:"
   ]
  },
  {
   "cell_type": "code",
   "execution_count": 4,
   "metadata": {},
   "outputs": [
    {
     "data": {
      "text/plain": [
       "array([ 6, 15, 24])"
      ]
     },
     "execution_count": 4,
     "metadata": {},
     "output_type": "execute_result"
    }
   ],
   "source": [
    "import numpy as np\n",
    "\n",
    "A = np.array([[1,2,3],[4,5,6],[7,8,9]])\n",
    "v = np.array([1,1,1])\n",
    "\n",
    "Av = np.dot(A,v)\n",
    "Av"
   ]
  }
 ],
 "metadata": {
  "kernelspec": {
   "display_name": "Python 3",
   "language": "python",
   "name": "python3"
  },
  "language_info": {
   "codemirror_mode": {
    "name": "ipython",
    "version": 3
   },
   "file_extension": ".py",
   "mimetype": "text/x-python",
   "name": "python",
   "nbconvert_exporter": "python",
   "pygments_lexer": "ipython3",
   "version": "3.6.2"
  }
 },
 "nbformat": 4,
 "nbformat_minor": 2
}
